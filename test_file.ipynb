{
 "cells": [
  {
   "cell_type": "code",
   "execution_count": 1,
   "id": "4f4337db-2eda-4534-9215-203feb954e88",
   "metadata": {},
   "outputs": [],
   "source": [
    "import pandas as pd\n",
    "\n",
    "summary_df = pd.read_csv('overall_summary_updated.csv')"
   ]
  },
  {
   "cell_type": "code",
   "execution_count": 4,
   "id": "a02f42aa-9dd2-4d6b-9a4a-8b530bb8b60a",
   "metadata": {},
   "outputs": [
    {
     "data": {
      "text/html": [
       "<div>\n",
       "<style scoped>\n",
       "    .dataframe tbody tr th:only-of-type {\n",
       "        vertical-align: middle;\n",
       "    }\n",
       "\n",
       "    .dataframe tbody tr th {\n",
       "        vertical-align: top;\n",
       "    }\n",
       "\n",
       "    .dataframe thead th {\n",
       "        text-align: right;\n",
       "    }\n",
       "</style>\n",
       "<table border=\"1\" class=\"dataframe\">\n",
       "  <thead>\n",
       "    <tr style=\"text-align: right;\">\n",
       "      <th></th>\n",
       "      <th>Product ID</th>\n",
       "      <th>Title</th>\n",
       "      <th>Review Count</th>\n",
       "      <th>Brand Name</th>\n",
       "    </tr>\n",
       "  </thead>\n",
       "  <tbody>\n",
       "    <tr>\n",
       "      <th>0</th>\n",
       "      <td>1875663</td>\n",
       "      <td>[쿨탠다드] 우먼즈 피케 폴로 원피스 [블랙]</td>\n",
       "      <td>1002</td>\n",
       "      <td>무신사 스탠다드 우먼</td>\n",
       "    </tr>\n",
       "    <tr>\n",
       "      <th>1</th>\n",
       "      <td>3977452</td>\n",
       "      <td>GIRLFRIEND SLEEVELESS MINI DRESS (BLACK)</td>\n",
       "      <td>227</td>\n",
       "      <td>글로니</td>\n",
       "    </tr>\n",
       "    <tr>\n",
       "      <th>2</th>\n",
       "      <td>1875664</td>\n",
       "      <td>[쿨탠다드] 우먼즈 피케 폴로 원피스 [네이비]</td>\n",
       "      <td>1004</td>\n",
       "      <td>무신사 스탠다드 우먼</td>\n",
       "    </tr>\n",
       "    <tr>\n",
       "      <th>3</th>\n",
       "      <td>4018731</td>\n",
       "      <td>레이스 리본 마이크로 미니 쇼츠 팬츠 스커트 [화이트]</td>\n",
       "      <td>401</td>\n",
       "      <td>플레이스 스튜디오</td>\n",
       "    </tr>\n",
       "    <tr>\n",
       "      <th>4</th>\n",
       "      <td>3977488</td>\n",
       "      <td>GIRLFRIEND SLEEVELESS MINI DRESS (WHITE)</td>\n",
       "      <td>165</td>\n",
       "      <td>글로니</td>\n",
       "    </tr>\n",
       "    <tr>\n",
       "      <th>5</th>\n",
       "      <td>2551401</td>\n",
       "      <td>우먼즈 슬릿 미니 스코츠 [블랙]</td>\n",
       "      <td>1006</td>\n",
       "      <td>무신사 스탠다드 우먼</td>\n",
       "    </tr>\n",
       "    <tr>\n",
       "      <th>6</th>\n",
       "      <td>2978106</td>\n",
       "      <td>우먼즈 카고 맥시 스커트 [라이트 베이지]</td>\n",
       "      <td>816</td>\n",
       "      <td>무신사 스탠다드 우먼</td>\n",
       "    </tr>\n",
       "    <tr>\n",
       "      <th>7</th>\n",
       "      <td>3295891</td>\n",
       "      <td>RODEO TIERED RUFFLE SKIRT (BABY BLUE)</td>\n",
       "      <td>236</td>\n",
       "      <td>글로니</td>\n",
       "    </tr>\n",
       "    <tr>\n",
       "      <th>8</th>\n",
       "      <td>1645762</td>\n",
       "      <td>우먼즈 데님 미디 스커트 [크림]</td>\n",
       "      <td>956</td>\n",
       "      <td>무신사 스탠다드 우먼</td>\n",
       "    </tr>\n",
       "    <tr>\n",
       "      <th>9</th>\n",
       "      <td>1944554</td>\n",
       "      <td>우먼즈 데님 미니 스커트 [워시드 블랙]</td>\n",
       "      <td>1014</td>\n",
       "      <td>무신사 스탠다드 우먼</td>\n",
       "    </tr>\n",
       "  </tbody>\n",
       "</table>\n",
       "</div>"
      ],
      "text/plain": [
       "   Product ID                                     Title  Review Count  \\\n",
       "0     1875663                 [쿨탠다드] 우먼즈 피케 폴로 원피스 [블랙]          1002   \n",
       "1     3977452  GIRLFRIEND SLEEVELESS MINI DRESS (BLACK)           227   \n",
       "2     1875664                [쿨탠다드] 우먼즈 피케 폴로 원피스 [네이비]          1004   \n",
       "3     4018731            레이스 리본 마이크로 미니 쇼츠 팬츠 스커트 [화이트]           401   \n",
       "4     3977488  GIRLFRIEND SLEEVELESS MINI DRESS (WHITE)           165   \n",
       "5     2551401                        우먼즈 슬릿 미니 스코츠 [블랙]          1006   \n",
       "6     2978106                   우먼즈 카고 맥시 스커트 [라이트 베이지]           816   \n",
       "7     3295891     RODEO TIERED RUFFLE SKIRT (BABY BLUE)           236   \n",
       "8     1645762                        우먼즈 데님 미디 스커트 [크림]           956   \n",
       "9     1944554                    우먼즈 데님 미니 스커트 [워시드 블랙]          1014   \n",
       "\n",
       "    Brand Name  \n",
       "0  무신사 스탠다드 우먼  \n",
       "1          글로니  \n",
       "2  무신사 스탠다드 우먼  \n",
       "3    플레이스 스튜디오  \n",
       "4          글로니  \n",
       "5  무신사 스탠다드 우먼  \n",
       "6  무신사 스탠다드 우먼  \n",
       "7          글로니  \n",
       "8  무신사 스탠다드 우먼  \n",
       "9  무신사 스탠다드 우먼  "
      ]
     },
     "execution_count": 4,
     "metadata": {},
     "output_type": "execute_result"
    }
   ],
   "source": [
    "summary_df.head(10)"
   ]
  },
  {
   "cell_type": "code",
   "execution_count": 7,
   "id": "480aaf62-39e3-44ef-aa2e-07d3b41f6aa8",
   "metadata": {},
   "outputs": [
    {
     "data": {
      "text/plain": [
       "[1875663,\n",
       " 3977452,\n",
       " 1875664,\n",
       " 4018731,\n",
       " 3977488,\n",
       " 2551401,\n",
       " 2978106,\n",
       " 3295891,\n",
       " 1645762,\n",
       " 1944554]"
      ]
     },
     "execution_count": 7,
     "metadata": {},
     "output_type": "execute_result"
    }
   ],
   "source": [
    "summary_df['Product ID'].head(10).tolist()"
   ]
  },
  {
   "cell_type": "code",
   "execution_count": 8,
   "id": "35fea04e-2fca-4d6e-92c8-4408f3dbec4b",
   "metadata": {},
   "outputs": [
    {
     "ename": "IndentationError",
     "evalue": "unexpected indent (3440509215.py, line 2)",
     "output_type": "error",
     "traceback": [
      "\u001b[1;36m  Cell \u001b[1;32mIn[8], line 2\u001b[1;36m\u001b[0m\n\u001b[1;33m    '[SET] 워셔블 케이블 반팔 니트 세트',\u001b[0m\n\u001b[1;37m    ^\u001b[0m\n\u001b[1;31mIndentationError\u001b[0m\u001b[1;31m:\u001b[0m unexpected indent\n"
     ]
    }
   ],
   "source": [
    "'DOODLE HEART HALF T WHITE GREYISH BLUE',\n",
    " '[SET] 워셔블 케이블 반팔 니트 세트',\n",
    " '[2PACK] 쿨 코튼 티셔츠 블랙+화이트',\n",
    " '[3천원 결제혜택]링클 체크 박시 오버핏 롤업 하프 셔츠 다크 네이비',\n",
    " '460G 컷 헤비 피그먼트 티셔츠-차콜-',\n",
    " '[16수 코마사] 2PACK SMALL ARCH T-SHIRT WHITE / BLACK',\n",
    " '빈티지 워싱 네이비 체크셔츠',\n",
    " '[3PACK] 에어쿨링 드라이 기능성 무지 반팔티',\n",
    " 'TAG OG TEE - WHITE',\n",
    " '[2PACK] EL 스트리트 아트워크 오버핏 반팔티 2종 2PACK'\n",
    "\n",
    "[1875663,\n",
    " 3977452,\n",
    " 1875664,\n",
    " 4018731,\n",
    " 3977488,\n",
    " 2551401,\n",
    " 2978106,\n",
    " 3295891,\n",
    " 1645762,\n",
    " 1944554]\n",
    "\n",
    "'Deep One Tuck Sweat Shorts [Grey]',\n",
    " '바이오워싱 카펜터 버뮤다 데님 팬츠_라이트블루',\n",
    " '데미지 워시드 데님 팬츠-미디엄 블루(Cool Air)',\n",
    " 'Wide Cargo Half Denim Pants - 5COL',\n",
    " 'Deep One Tuck Sweat Shorts [Black]',\n",
    " '[쿨탠다드] 세미 와이드 히든 밴딩 슬랙스 [블랙]',\n",
    " '버뮤다 와이드 원턱 스웨트 쇼츠 [그레이]',\n",
    " '캣 브러쉬 워시드 버뮤다 데님 쇼츠 (SAND BLUE)',\n",
    " '캣 브러쉬 워시드 버뮤다 데님 쇼츠 (NORMAL BLACK)',\n",
    " 'Deep One Tuck Sweat Pants [Grey]'\n",
    "\n",
    "['[무료반품]베켄바우어 트랙탑 - 인디고 / IP0418',\n",
    " '파이어버드 트랙탑 - 블랙 / IJ7058',\n",
    " 'ASI 포시즌 에센셜 피그먼트 후드집업_차콜 그레이', \n",
    " '[무료반품]베켄바우어 트랙탑 - 블랙:화이트 / II5763',\n",
    " '2WAY 스웻 후드 집업 (MELANGE GREY)',\n",
    " '[유튜버 PICK]FR-40S 프렌치 워크 5P 자켓_Military Navy', \n",
    "'[쿨탠다드] 릴렉스드 베이식 블레이저 [블랙]',\n",
    " '시어 후드 베스트 블랙',\n",
    "'[SAINT YEAR] 세미 오버 핏 셋업 수트_GREY',\n",
    "'MATIN KIM LOGO COATING JUMPER IN BLACK']"
   ]
  },
  {
   "cell_type": "code",
   "execution_count": 11,
   "id": "b1918b66-366e-4fd6-b88a-54f582ffbc9c",
   "metadata": {},
   "outputs": [],
   "source": [
    "df = pd.read_csv('DOODLE HEART HALF T WHITE GREYISH BLUE_3.csv')"
   ]
  },
  {
   "cell_type": "code",
   "execution_count": 12,
   "id": "4b1e5ba6-db58-4402-8efd-6b61a2e497b2",
   "metadata": {},
   "outputs": [
    {
     "data": {
      "text/html": [
       "<div>\n",
       "<style scoped>\n",
       "    .dataframe tbody tr th:only-of-type {\n",
       "        vertical-align: middle;\n",
       "    }\n",
       "\n",
       "    .dataframe tbody tr th {\n",
       "        vertical-align: top;\n",
       "    }\n",
       "\n",
       "    .dataframe thead th {\n",
       "        text-align: right;\n",
       "    }\n",
       "</style>\n",
       "<table border=\"1\" class=\"dataframe\">\n",
       "  <thead>\n",
       "    <tr style=\"text-align: right;\">\n",
       "      <th></th>\n",
       "      <th>Review</th>\n",
       "      <th>keyword</th>\n",
       "    </tr>\n",
       "  </thead>\n",
       "  <tbody>\n",
       "    <tr>\n",
       "      <th>0</th>\n",
       "      <td>그래픽도 예쁜데, 이 제품은 핏이 정말 너무 좋습니다. 너무 길지 않은 스트릿한 티...</td>\n",
       "      <td>['티셔츠', '그래픽', '제품', '스트릿', '딱이다', '길다', '핏']</td>\n",
       "    </tr>\n",
       "    <tr>\n",
       "      <th>1</th>\n",
       "      <td>디자인이 너무 예쁘고 그렇게 두껍지도 않아서 한여름에도 입을만 해요</td>\n",
       "      <td>['여름', '두껍다', '디자인']</td>\n",
       "    </tr>\n",
       "    <tr>\n",
       "      <th>2</th>\n",
       "      <td>사이즈도 잘맞고 디자인이랑 프린팅 다 너무 마음에 들어요!</td>\n",
       "      <td>['디자인', '맞다', '사이즈', '마음', '프린팅']</td>\n",
       "    </tr>\n",
       "    <tr>\n",
       "      <th>3</th>\n",
       "      <td>넘 예뻐요! 프린팅이 안 유치해서 마음에 들어요! 잘 입을게요</td>\n",
       "      <td>['유치하다', '프린팅', '마음']</td>\n",
       "    </tr>\n",
       "    <tr>\n",
       "      <th>4</th>\n",
       "      <td>커플티로 구매 했는데 너무 이쁘고 흔하지 않아서 더 좋아요 색감도 잘빠지고 프린팅도...</td>\n",
       "      <td>['흔하다', '커플티', '벗겨지다', '프린팅', '빠지다']</td>\n",
       "    </tr>\n",
       "    <tr>\n",
       "      <th>...</th>\n",
       "      <td>...</td>\n",
       "      <td>...</td>\n",
       "    </tr>\n",
       "    <tr>\n",
       "      <th>874</th>\n",
       "      <td>커플티로 샀어요 로고 그래픽 이쁜데 빨면 연해지니까 찬물세탁하세요~</td>\n",
       "      <td>['세탁', '연', '해지', '니까', '커플티', '찬물', '빨', '로고'...</td>\n",
       "    </tr>\n",
       "    <tr>\n",
       "      <th>875</th>\n",
       "      <td>요즘 유행하길래 사봤는데 너무좋네요 재질도 나름 탄탄하구요 앞에 프린팅이 멋있어서 ...</td>\n",
       "      <td>['프린팅', '멋있다', '사보다', '든', '탄탄하다', '어울리다', '유행...</td>\n",
       "    </tr>\n",
       "    <tr>\n",
       "      <th>876</th>\n",
       "      <td>저번에 티셔츠 산 이후로 원단도 좋고 핏도 좋아서 또 샀어요!</td>\n",
       "      <td>['저번', '핏', '이후', '원단', '티셔츠']</td>\n",
       "    </tr>\n",
       "    <tr>\n",
       "      <th>877</th>\n",
       "      <td>핏도 예쁘고 디자인도 예쁩니다 손이많이 가요 많이 파세여</td>\n",
       "      <td>['핏', '파다', '손', '디자인']</td>\n",
       "    </tr>\n",
       "    <tr>\n",
       "      <th>878</th>\n",
       "      <td>기장감 완전 핏하게 떨어지고 앞에 프린팅이 말도 못하게 예뻐요. 프린팅도 예쁜데 포...</td>\n",
       "      <td>['핏하', '하늘색', '못', '프린팅', '말', '떨어지다']</td>\n",
       "    </tr>\n",
       "  </tbody>\n",
       "</table>\n",
       "<p>879 rows × 2 columns</p>\n",
       "</div>"
      ],
      "text/plain": [
       "                                                Review  \\\n",
       "0    그래픽도 예쁜데, 이 제품은 핏이 정말 너무 좋습니다. 너무 길지 않은 스트릿한 티...   \n",
       "1                디자인이 너무 예쁘고 그렇게 두껍지도 않아서 한여름에도 입을만 해요   \n",
       "2                     사이즈도 잘맞고 디자인이랑 프린팅 다 너무 마음에 들어요!   \n",
       "3                   넘 예뻐요! 프린팅이 안 유치해서 마음에 들어요! 잘 입을게요   \n",
       "4    커플티로 구매 했는데 너무 이쁘고 흔하지 않아서 더 좋아요 색감도 잘빠지고 프린팅도...   \n",
       "..                                                 ...   \n",
       "874              커플티로 샀어요 로고 그래픽 이쁜데 빨면 연해지니까 찬물세탁하세요~   \n",
       "875  요즘 유행하길래 사봤는데 너무좋네요 재질도 나름 탄탄하구요 앞에 프린팅이 멋있어서 ...   \n",
       "876                 저번에 티셔츠 산 이후로 원단도 좋고 핏도 좋아서 또 샀어요!   \n",
       "877                    핏도 예쁘고 디자인도 예쁩니다 손이많이 가요 많이 파세여   \n",
       "878  기장감 완전 핏하게 떨어지고 앞에 프린팅이 말도 못하게 예뻐요. 프린팅도 예쁜데 포...   \n",
       "\n",
       "                                               keyword  \n",
       "0        ['티셔츠', '그래픽', '제품', '스트릿', '딱이다', '길다', '핏']  \n",
       "1                                 ['여름', '두껍다', '디자인']  \n",
       "2                    ['디자인', '맞다', '사이즈', '마음', '프린팅']  \n",
       "3                                ['유치하다', '프린팅', '마음']  \n",
       "4                 ['흔하다', '커플티', '벗겨지다', '프린팅', '빠지다']  \n",
       "..                                                 ...  \n",
       "874  ['세탁', '연', '해지', '니까', '커플티', '찬물', '빨', '로고'...  \n",
       "875  ['프린팅', '멋있다', '사보다', '든', '탄탄하다', '어울리다', '유행...  \n",
       "876                     ['저번', '핏', '이후', '원단', '티셔츠']  \n",
       "877                            ['핏', '파다', '손', '디자인']  \n",
       "878             ['핏하', '하늘색', '못', '프린팅', '말', '떨어지다']  \n",
       "\n",
       "[879 rows x 2 columns]"
      ]
     },
     "execution_count": 12,
     "metadata": {},
     "output_type": "execute_result"
    }
   ],
   "source": [
    "df"
   ]
  },
  {
   "cell_type": "code",
   "execution_count": 1,
   "id": "82c4ac79-0bce-457a-81b7-08878584e020",
   "metadata": {},
   "outputs": [
    {
     "name": "stdout",
     "output_type": "stream",
     "text": [
      "젛아 좋아\n"
     ]
    }
   ],
   "source": [
    "from pykospacing import Spacing\n",
    "\n",
    "spacing = Spacing()\n",
    "text = '젛아좋아'\n",
    "corrected_text = spacing(text)\n",
    "print(corrected_text)  # '좋아 좋아'"
   ]
  },
  {
   "cell_type": "code",
   "execution_count": 2,
   "id": "041fe8b9-023e-4e79-b8c2-9dfabeeae08a",
   "metadata": {},
   "outputs": [
    {
     "name": "stdout",
     "output_type": "stream",
     "text": [
      "요즘 유행하길래 사봤는데 너무 좋네요 재질도 나름 탄탄하구요 앞에 프린팅이 멋있어서 완전 강추함, 찬물 세탁하세여, 마니파 세여, 완전 핏하게 떨어져, 안 유치해서 맘에 듬 가성비 개구림\n"
     ]
    }
   ],
   "source": [
    "text= '요즘 유행하길래 사봤는데 너무좋네요 재질도 나름 탄탄하구요 앞에 프린팅이 멋있어서완전강추함, 찬물세탁하세여, 마니파세여, 완전핏하게떨어져, 안유치해서맘에듬 가성비개구림'\n",
    "print(spacing(text))"
   ]
  },
  {
   "cell_type": "code",
   "execution_count": 26,
   "id": "5c643fbb-f5b8-47d4-a56d-f807ee38b4f7",
   "metadata": {},
   "outputs": [
    {
     "name": "stdout",
     "output_type": "stream",
     "text": [
      "Requirement already satisfied: py-hanspell in c:\\users\\hwan\\anaconda3\\lib\\site-packages (1.1)\n",
      "Requirement already satisfied: requests in c:\\users\\hwan\\anaconda3\\lib\\site-packages (from py-hanspell) (2.32.2)\n",
      "Requirement already satisfied: charset-normalizer<4,>=2 in c:\\users\\hwan\\anaconda3\\lib\\site-packages (from requests->py-hanspell) (2.0.4)\n",
      "Requirement already satisfied: idna<4,>=2.5 in c:\\users\\hwan\\anaconda3\\lib\\site-packages (from requests->py-hanspell) (3.7)\n",
      "Requirement already satisfied: urllib3<3,>=1.21.1 in c:\\users\\hwan\\anaconda3\\lib\\site-packages (from requests->py-hanspell) (2.2.2)\n",
      "Requirement already satisfied: certifi>=2017.4.17 in c:\\users\\hwan\\anaconda3\\lib\\site-packages (from requests->py-hanspell) (2024.7.4)\n",
      "Note: you may need to restart the kernel to use updated packages.\n"
     ]
    }
   ],
   "source": [
    "pip install py-hanspell"
   ]
  },
  {
   "cell_type": "code",
   "execution_count": 23,
   "id": "5858ed01-5e9e-434f-9d37-b94aef3343ff",
   "metadata": {},
   "outputs": [],
   "source": [
    "import hanspell"
   ]
  },
  {
   "cell_type": "code",
   "execution_count": 24,
   "id": "e4e28946-d84c-43d9-b366-97db0eb79dfd",
   "metadata": {},
   "outputs": [
    {
     "ename": "KeyError",
     "evalue": "'result'",
     "output_type": "error",
     "traceback": [
      "\u001b[1;31m---------------------------------------------------------------------------\u001b[0m",
      "\u001b[1;31mKeyError\u001b[0m                                  Traceback (most recent call last)",
      "Cell \u001b[1;32mIn[24], line 2\u001b[0m\n\u001b[0;32m      1\u001b[0m text\u001b[38;5;241m=\u001b[39m \u001b[38;5;124m'\u001b[39m\u001b[38;5;124m요즘 유행하길래 사봤는데 너무좋네요 재질도 나름 탄탄하구요 앞에 프린팅이 멋있어서완전강추함, 찬물세탁하세여, 마니파세여, 완전핏하게떨어져, 안유치해서맘에듬 가성비개구림\u001b[39m\u001b[38;5;124m'\u001b[39m\n\u001b[1;32m----> 2\u001b[0m res \u001b[38;5;241m=\u001b[39m spell_checker\u001b[38;5;241m.\u001b[39mcheck(text)\n\u001b[0;32m      3\u001b[0m \u001b[38;5;28mprint\u001b[39m(res)\n",
      "File \u001b[1;32m~\\anaconda3\\Lib\\site-packages\\hanspell\\spell_checker.py:62\u001b[0m, in \u001b[0;36mcheck\u001b[1;34m(text)\u001b[0m\n\u001b[0;32m     59\u001b[0m passed_time \u001b[38;5;241m=\u001b[39m time\u001b[38;5;241m.\u001b[39mtime() \u001b[38;5;241m-\u001b[39m start_time\n\u001b[0;32m     61\u001b[0m data \u001b[38;5;241m=\u001b[39m json\u001b[38;5;241m.\u001b[39mloads(r\u001b[38;5;241m.\u001b[39mtext)\n\u001b[1;32m---> 62\u001b[0m html \u001b[38;5;241m=\u001b[39m data[\u001b[38;5;124m'\u001b[39m\u001b[38;5;124mmessage\u001b[39m\u001b[38;5;124m'\u001b[39m][\u001b[38;5;124m'\u001b[39m\u001b[38;5;124mresult\u001b[39m\u001b[38;5;124m'\u001b[39m][\u001b[38;5;124m'\u001b[39m\u001b[38;5;124mhtml\u001b[39m\u001b[38;5;124m'\u001b[39m]\n\u001b[0;32m     63\u001b[0m result \u001b[38;5;241m=\u001b[39m {\n\u001b[0;32m     64\u001b[0m     \u001b[38;5;124m'\u001b[39m\u001b[38;5;124mresult\u001b[39m\u001b[38;5;124m'\u001b[39m: \u001b[38;5;28;01mTrue\u001b[39;00m,\n\u001b[0;32m     65\u001b[0m     \u001b[38;5;124m'\u001b[39m\u001b[38;5;124moriginal\u001b[39m\u001b[38;5;124m'\u001b[39m: text,\n\u001b[1;32m   (...)\u001b[0m\n\u001b[0;32m     69\u001b[0m     \u001b[38;5;124m'\u001b[39m\u001b[38;5;124mwords\u001b[39m\u001b[38;5;124m'\u001b[39m: OrderedDict(),\n\u001b[0;32m     70\u001b[0m }\n\u001b[0;32m     72\u001b[0m \u001b[38;5;66;03m# 띄어쓰기로 구분하기 위해 태그는 일단 보기 쉽게 바꿔둠.\u001b[39;00m\n\u001b[0;32m     73\u001b[0m \u001b[38;5;66;03m# ElementTree의 iter()를 써서 더 좋게 할 수 있는 방법이 있지만\u001b[39;00m\n\u001b[0;32m     74\u001b[0m \u001b[38;5;66;03m# 이 짧은 코드에 굳이 그렇게 할 필요성이 없으므로 일단 문자열을 치환하는 방법으로 작성.\u001b[39;00m\n",
      "\u001b[1;31mKeyError\u001b[0m: 'result'"
     ]
    }
   ],
   "source": [
    "text= '요즘 유행하길래 사봤는데 너무좋네요 재질도 나름 탄탄하구요 앞에 프린팅이 멋있어서완전강추함, 찬물세탁하세여, 마니파세여, 완전핏하게떨어져, 안유치해서맘에듬 가성비개구림'\n",
    "res = spell_checker.check(text)\n",
    "print(res)"
   ]
  },
  {
   "cell_type": "code",
   "execution_count": 6,
   "id": "b9ecc38f-52fb-4fef-8b3f-35b46e8bea8b",
   "metadata": {},
   "outputs": [
    {
     "name": "stdout",
     "output_type": "stream",
     "text": [
      "단단해 요찬물 세탁하세요 강추해요가 성비개구림 오버핏비추\n"
     ]
    },
    {
     "ename": "TypeError",
     "evalue": "'Okt' object is not callable",
     "output_type": "error",
     "traceback": [
      "\u001b[1;31m---------------------------------------------------------------------------\u001b[0m",
      "\u001b[1;31mTypeError\u001b[0m                                 Traceback (most recent call last)",
      "Cell \u001b[1;32mIn[6], line 7\u001b[0m\n\u001b[0;32m      5\u001b[0m corrected_text \u001b[38;5;241m=\u001b[39m spacing(text)\n\u001b[0;32m      6\u001b[0m \u001b[38;5;28mprint\u001b[39m(corrected_text)\n\u001b[1;32m----> 7\u001b[0m okt(text)\n",
      "\u001b[1;31mTypeError\u001b[0m: 'Okt' object is not callable"
     ]
    }
   ],
   "source": [
    "from konlpy.tag import Okt\n",
    "okt=Okt()\n",
    "\n",
    "text='단단해요찬물세탁하세요강추해요가성비개구림오버핏비추'\n",
    "corrected_text = spacing(text)\n",
    "print(corrected_text)\n",
    "okt(text)"
   ]
  },
  {
   "cell_type": "code",
   "execution_count": 14,
   "id": "bc4870f8-d8fe-4c73-a6df-67d9e14a1f8e",
   "metadata": {},
   "outputs": [
    {
     "name": "stdout",
     "output_type": "stream",
     "text": [
      "Morphs: ['가성비', '개', '구림', ',', '오버핏', ',', '스타일리쉬', '함', '강추', '마니', '파세여', ',', '요즘', '유행', '하길래', '사봤는데', '너무', '좋네요', '재질', '도', '나름', '탄탄하구요', '앞', '에', '프린팅', '이', '멋있어서', '완전', '강추', '함', ',', '찬물', '세탁', '하세여', ',', '마니', '파세여', ',', '완전', '핏', '하', '게', '떨어져', ',', '안', '유치해서', '맘', '에', '듬', '가성비', '개', '구림', '근데', '또', '개', '젛', '아']\n",
      "------------------------------\n",
      "POS Tags: [('가성비', 'Noun'), ('개', 'Suffix'), ('구림', 'Noun'), (',', 'Punctuation'), ('오버핏', 'Noun'), (',', 'Punctuation'), ('스타일리쉬', 'Noun'), ('함', 'Noun'), ('강추', 'Noun'), ('마니', 'Verb'), ('파세여', 'Verb'), (',', 'Punctuation'), ('요즘', 'Noun'), ('유행', 'Noun'), ('하길래', 'Verb'), ('사봤는데', 'Verb'), ('너무', 'Adverb'), ('좋네요', 'Adjective'), ('재질', 'Noun'), ('도', 'Josa'), ('나름', 'Noun'), ('탄탄하구요', 'Adjective'), ('앞', 'Noun'), ('에', 'Josa'), ('프린팅', 'Noun'), ('이', 'Josa'), ('멋있어서', 'Adjective'), ('완전', 'Noun'), ('강추', 'Noun'), ('함', 'Noun'), (',', 'Punctuation'), ('찬물', 'Noun'), ('세탁', 'Noun'), ('하세여', 'Verb'), (',', 'Punctuation'), ('마니', 'Verb'), ('파세여', 'Verb'), (',', 'Punctuation'), ('완전', 'Noun'), ('핏', 'Noun'), ('하', 'Suffix'), ('게', 'Josa'), ('떨어져', 'Verb'), (',', 'Punctuation'), ('안', 'VerbPrefix'), ('유치해서', 'Adjective'), ('맘', 'Noun'), ('에', 'Josa'), ('듬', 'Noun'), ('가성비', 'Noun'), ('개', 'Suffix'), ('구림', 'Noun'), ('근데', 'Adverb'), ('또', 'Noun'), ('개', 'Suffix'), ('젛', 'Noun'), ('아', 'Josa')]\n",
      "------------------------------\n",
      "Nouns: ['가성비', '구림', '오버핏', '스타일리쉬', '함', '강추', '요즘', '유행', '재질', '나름', '앞', '프린팅', '완전', '강추', '함', '찬물', '세탁', '완전', '핏', '맘', '듬', '가성비', '구림', '또', '젛']\n"
     ]
    }
   ],
   "source": [
    "\n",
    "text = '가성비개구림, 오버핏, 스타일리쉬함강추마니파세여,요즘유행하길래 사봤는데 너무좋네요 재질도나름 탄탄하구요 앞에 프린팅이 멋있어서완전강추함, 찬물세탁하세여, 마니파세여, 완전핏하게떨어져, 안유치해서맘에듬 가성비개구림 근데또개젛아'\n",
    "\n",
    "# 형태소 분석 (morphs)\n",
    "morphs = okt.morphs(text)\n",
    "print(\"Morphs:\", morphs)\n",
    "print('-'*30)\n",
    "\n",
    "# 형태소 + 품사 태깅 (pos)\n",
    "pos_tags = okt.pos(text)\n",
    "print(\"POS Tags:\", pos_tags)\n",
    "print('-'*30)\n",
    "\n",
    "# 명사 추출 (nouns)\n",
    "nouns = okt.nouns(text)\n",
    "print(\"Nouns:\", nouns)"
   ]
  },
  {
   "cell_type": "code",
   "execution_count": 22,
   "id": "8bf7d750-8d5e-40bb-8ee4-8d0b5e16e63a",
   "metadata": {},
   "outputs": [
    {
     "data": {
      "text/plain": [
       "[('요즘유행하길래', 0.724),\n",
       " ('안유치해서맘에듬', 0.6743),\n",
       " ('찬물세탁하세여', 0.6573),\n",
       " ('프린팅이', 0.6216),\n",
       " ('가성비개구림', 0.5984)]"
      ]
     },
     "execution_count": 22,
     "metadata": {},
     "output_type": "execute_result"
    }
   ],
   "source": [
    "from keybert import KeyBERT\n",
    "from sklearn.feature_extraction.text import CountVectorizer\n",
    "\n",
    "kw_model = KeyBERT()\n",
    "\n",
    "vectorizer = CountVectorizer(ngram_range=(1, 1))\n",
    "\n",
    "# 각 문서에서 핵심 키워드 추출\n",
    "def extract_keywords(text):\n",
    "    # 각 텍스트에서 상위 5개의 키워드 추출\n",
    "    keywords = kw_model.extract_keywords(text, vectorizer=vectorizer, top_n=5)\n",
    "    return keywords\n",
    "\n",
    "keyberttext = extract_keywords(text)\n",
    "keyberttext"
   ]
  },
  {
   "cell_type": "code",
   "execution_count": 26,
   "id": "09bdc1a6-c3de-4129-830f-427aafb0e9df",
   "metadata": {},
   "outputs": [
    {
     "ename": "AssertionError",
     "evalue": "phrase input should be string, not <class 'list'>",
     "output_type": "error",
     "traceback": [
      "\u001b[1;31m---------------------------------------------------------------------------\u001b[0m",
      "\u001b[1;31mAssertionError\u001b[0m                            Traceback (most recent call last)",
      "Cell \u001b[1;32mIn[26], line 1\u001b[0m\n\u001b[1;32m----> 1\u001b[0m morphs_with_stem \u001b[38;5;241m=\u001b[39m okt\u001b[38;5;241m.\u001b[39mpos(keyberttext, stem\u001b[38;5;241m=\u001b[39m\u001b[38;5;28;01mTrue\u001b[39;00m)\n\u001b[0;32m      3\u001b[0m filtered_words \u001b[38;5;241m=\u001b[39m [word \u001b[38;5;28;01mfor\u001b[39;00m word, pos \u001b[38;5;129;01min\u001b[39;00m morphs_with_stem \u001b[38;5;28;01mif\u001b[39;00m pos \u001b[38;5;129;01min\u001b[39;00m [\u001b[38;5;124m'\u001b[39m\u001b[38;5;124mNoun\u001b[39m\u001b[38;5;124m'\u001b[39m, \u001b[38;5;124m'\u001b[39m\u001b[38;5;124mVerb\u001b[39m\u001b[38;5;124m'\u001b[39m, \u001b[38;5;124m'\u001b[39m\u001b[38;5;124mAdjective\u001b[39m\u001b[38;5;124m'\u001b[39m]]\n\u001b[0;32m      5\u001b[0m filtered_words\n",
      "File \u001b[1;32m~\\anaconda3\\Lib\\site-packages\\konlpy\\tag\\_okt.py:69\u001b[0m, in \u001b[0;36mOkt.pos\u001b[1;34m(self, phrase, norm, stem, join)\u001b[0m\n\u001b[0;32m     58\u001b[0m \u001b[38;5;28;01mdef\u001b[39;00m \u001b[38;5;21mpos\u001b[39m(\u001b[38;5;28mself\u001b[39m, phrase, norm\u001b[38;5;241m=\u001b[39m\u001b[38;5;28;01mFalse\u001b[39;00m, stem\u001b[38;5;241m=\u001b[39m\u001b[38;5;28;01mFalse\u001b[39;00m, join\u001b[38;5;241m=\u001b[39m\u001b[38;5;28;01mFalse\u001b[39;00m):\n\u001b[0;32m     59\u001b[0m \u001b[38;5;250m    \u001b[39m\u001b[38;5;124;03m\"\"\"POS tagger.\u001b[39;00m\n\u001b[0;32m     60\u001b[0m \u001b[38;5;124;03m    In contrast to other classes in this subpackage,\u001b[39;00m\n\u001b[0;32m     61\u001b[0m \u001b[38;5;124;03m    this POS tagger doesn't have a `flatten` option,\u001b[39;00m\n\u001b[1;32m   (...)\u001b[0m\n\u001b[0;32m     67\u001b[0m \u001b[38;5;124;03m    :param join: If True, returns joined sets of morph and tag.\u001b[39;00m\n\u001b[0;32m     68\u001b[0m \u001b[38;5;124;03m    \"\"\"\u001b[39;00m\n\u001b[1;32m---> 69\u001b[0m     validate_phrase_inputs(phrase)\n\u001b[0;32m     71\u001b[0m     tokens \u001b[38;5;241m=\u001b[39m \u001b[38;5;28mself\u001b[39m\u001b[38;5;241m.\u001b[39mjki\u001b[38;5;241m.\u001b[39mtokenize(\n\u001b[0;32m     72\u001b[0m                 phrase,\n\u001b[0;32m     73\u001b[0m                 jpype\u001b[38;5;241m.\u001b[39mjava\u001b[38;5;241m.\u001b[39mlang\u001b[38;5;241m.\u001b[39mBoolean(norm),\n\u001b[0;32m     74\u001b[0m                 jpype\u001b[38;5;241m.\u001b[39mjava\u001b[38;5;241m.\u001b[39mlang\u001b[38;5;241m.\u001b[39mBoolean(stem))\u001b[38;5;241m.\u001b[39mtoArray()\n\u001b[0;32m     75\u001b[0m     \u001b[38;5;28;01mif\u001b[39;00m join:\n",
      "File \u001b[1;32m~\\anaconda3\\Lib\\site-packages\\konlpy\\tag\\_common.py:20\u001b[0m, in \u001b[0;36mvalidate_phrase_inputs\u001b[1;34m(phrase)\u001b[0m\n\u001b[0;32m     14\u001b[0m \u001b[38;5;250m\u001b[39m\u001b[38;5;124;03m\"\"\"validate if phrase input is provided in str format\u001b[39;00m\n\u001b[0;32m     15\u001b[0m \n\u001b[0;32m     16\u001b[0m \u001b[38;5;124;03mArgs:\u001b[39;00m\n\u001b[0;32m     17\u001b[0m \u001b[38;5;124;03m    phrase (str): phrase input\u001b[39;00m\n\u001b[0;32m     18\u001b[0m \u001b[38;5;124;03m\"\"\"\u001b[39;00m\n\u001b[0;32m     19\u001b[0m msg \u001b[38;5;241m=\u001b[39m \u001b[38;5;124m\"\u001b[39m\u001b[38;5;124mphrase input should be string, not \u001b[39m\u001b[38;5;132;01m%s\u001b[39;00m\u001b[38;5;124m\"\u001b[39m \u001b[38;5;241m%\u001b[39m \u001b[38;5;28mtype\u001b[39m(phrase)\n\u001b[1;32m---> 20\u001b[0m \u001b[38;5;28;01massert\u001b[39;00m \u001b[38;5;28misinstance\u001b[39m(phrase, basestring), msg\n",
      "\u001b[1;31mAssertionError\u001b[0m: phrase input should be string, not <class 'list'>"
     ]
    }
   ],
   "source": [
    "morphs_with_stem = okt.pos(keyberttext, stem=True)\n",
    "\n",
    "filtered_words = [word for word, pos in morphs_with_stem if pos in ['Noun', 'Verb', 'Adjective']]\n",
    "\n",
    "filtered_words"
   ]
  },
  {
   "cell_type": "code",
   "execution_count": 29,
   "id": "00e51fba-667e-4db8-991b-536f92a8b595",
   "metadata": {},
   "outputs": [
    {
     "name": "stdout",
     "output_type": "stream",
     "text": [
      "Morphs: ['와이드', '팬츠', '있었는데', '버리고', '브랜디', '드', '와이드', '팬츠', '삿는데', '이쁘네요', '허리', '29', '정도', '입는데']\n"
     ]
    }
   ],
   "source": [
    "text = '와이드팬츠 있었는데 버리고 브랜디드 와이드팬츠 삿는데 이쁘네요 허리29정도 입는데'\n",
    "\n",
    "# 형태소 분석 (morphs)\n",
    "morphs = okt.morphs(text)\n",
    "print(\"Morphs:\", morphs)"
   ]
  },
  {
   "cell_type": "code",
   "execution_count": 31,
   "id": "69490514-c356-4380-8619-19911824ed0b",
   "metadata": {},
   "outputs": [],
   "source": [
    "import pandas as pd\n",
    "test_df = pd.read_csv('DOODLE HEART HALF T WHITE GREYISH BLUE_3.csv')"
   ]
  },
  {
   "cell_type": "code",
   "execution_count": 32,
   "id": "c47d4aca-bb9c-4376-9400-ea131d6ef9f2",
   "metadata": {},
   "outputs": [
    {
     "data": {
      "text/html": [
       "<div>\n",
       "<style scoped>\n",
       "    .dataframe tbody tr th:only-of-type {\n",
       "        vertical-align: middle;\n",
       "    }\n",
       "\n",
       "    .dataframe tbody tr th {\n",
       "        vertical-align: top;\n",
       "    }\n",
       "\n",
       "    .dataframe thead th {\n",
       "        text-align: right;\n",
       "    }\n",
       "</style>\n",
       "<table border=\"1\" class=\"dataframe\">\n",
       "  <thead>\n",
       "    <tr style=\"text-align: right;\">\n",
       "      <th></th>\n",
       "      <th>Review</th>\n",
       "      <th>keyword</th>\n",
       "    </tr>\n",
       "  </thead>\n",
       "  <tbody>\n",
       "    <tr>\n",
       "      <th>0</th>\n",
       "      <td>그래픽도 예쁜데, 이 제품은 핏이 정말 너무 좋습니다. 너무 길지 않은 스트릿한 티...</td>\n",
       "      <td>티셔츠, 그래픽, 제품, 스트릿, 딱이다, 길다, 핏</td>\n",
       "    </tr>\n",
       "    <tr>\n",
       "      <th>1</th>\n",
       "      <td>디자인이 너무 예쁘고 그렇게 두껍지도 않아서 한여름에도 입을만 해요</td>\n",
       "      <td>여름, 두껍다, 디자인</td>\n",
       "    </tr>\n",
       "    <tr>\n",
       "      <th>2</th>\n",
       "      <td>사이즈도 잘맞고 디자인이랑 프린팅 다 너무 마음에 들어요!</td>\n",
       "      <td>디자인, 맞다, 사이즈, 마음, 프린팅</td>\n",
       "    </tr>\n",
       "    <tr>\n",
       "      <th>3</th>\n",
       "      <td>넘 예뻐요! 프린팅이 안 유치해서 마음에 들어요! 잘 입을게요</td>\n",
       "      <td>유치하다, 프린팅, 마음</td>\n",
       "    </tr>\n",
       "    <tr>\n",
       "      <th>4</th>\n",
       "      <td>커플티로 구매 했는데 너무 이쁘고 흔하지 않아서 더 좋아요 색감도 잘빠지고 프린팅도...</td>\n",
       "      <td>흔하다, 커플티, 벗겨지다, 프린팅, 빠지다</td>\n",
       "    </tr>\n",
       "    <tr>\n",
       "      <th>...</th>\n",
       "      <td>...</td>\n",
       "      <td>...</td>\n",
       "    </tr>\n",
       "    <tr>\n",
       "      <th>874</th>\n",
       "      <td>커플티로 샀어요 로고 그래픽 이쁜데 빨면 연해지니까 찬물세탁하세요~</td>\n",
       "      <td>세탁, 연, 해지, 커플티, 찬물, 빨, 로고, 그래픽</td>\n",
       "    </tr>\n",
       "    <tr>\n",
       "      <th>875</th>\n",
       "      <td>요즘 유행하길래 사봤는데 너무좋네요 재질도 나름 탄탄하구요 앞에 프린팅이 멋있어서 ...</td>\n",
       "      <td>프린팅, 멋있다, 사보다, 탄탄하다, 어울리다, 유행, 재질</td>\n",
       "    </tr>\n",
       "    <tr>\n",
       "      <th>876</th>\n",
       "      <td>저번에 티셔츠 산 이후로 원단도 좋고 핏도 좋아서 또 샀어요!</td>\n",
       "      <td>저번, 핏, 이후, 원단, 티셔츠</td>\n",
       "    </tr>\n",
       "    <tr>\n",
       "      <th>877</th>\n",
       "      <td>핏도 예쁘고 디자인도 예쁩니다 손이많이 가요 많이 파세여</td>\n",
       "      <td>핏, 파다, 손, 디자인</td>\n",
       "    </tr>\n",
       "    <tr>\n",
       "      <th>878</th>\n",
       "      <td>기장감 완전 핏하게 떨어지고 앞에 프린팅이 말도 못하게 예뻐요. 프린팅도 예쁜데 포...</td>\n",
       "      <td>핏하, 하늘색, 못, 프린팅, 말, 떨어지다</td>\n",
       "    </tr>\n",
       "  </tbody>\n",
       "</table>\n",
       "<p>879 rows × 2 columns</p>\n",
       "</div>"
      ],
      "text/plain": [
       "                                                Review  \\\n",
       "0    그래픽도 예쁜데, 이 제품은 핏이 정말 너무 좋습니다. 너무 길지 않은 스트릿한 티...   \n",
       "1                디자인이 너무 예쁘고 그렇게 두껍지도 않아서 한여름에도 입을만 해요   \n",
       "2                     사이즈도 잘맞고 디자인이랑 프린팅 다 너무 마음에 들어요!   \n",
       "3                   넘 예뻐요! 프린팅이 안 유치해서 마음에 들어요! 잘 입을게요   \n",
       "4    커플티로 구매 했는데 너무 이쁘고 흔하지 않아서 더 좋아요 색감도 잘빠지고 프린팅도...   \n",
       "..                                                 ...   \n",
       "874              커플티로 샀어요 로고 그래픽 이쁜데 빨면 연해지니까 찬물세탁하세요~   \n",
       "875  요즘 유행하길래 사봤는데 너무좋네요 재질도 나름 탄탄하구요 앞에 프린팅이 멋있어서 ...   \n",
       "876                 저번에 티셔츠 산 이후로 원단도 좋고 핏도 좋아서 또 샀어요!   \n",
       "877                    핏도 예쁘고 디자인도 예쁩니다 손이많이 가요 많이 파세여   \n",
       "878  기장감 완전 핏하게 떨어지고 앞에 프린팅이 말도 못하게 예뻐요. 프린팅도 예쁜데 포...   \n",
       "\n",
       "                               keyword  \n",
       "0        티셔츠, 그래픽, 제품, 스트릿, 딱이다, 길다, 핏  \n",
       "1                         여름, 두껍다, 디자인  \n",
       "2                디자인, 맞다, 사이즈, 마음, 프린팅  \n",
       "3                        유치하다, 프린팅, 마음  \n",
       "4             흔하다, 커플티, 벗겨지다, 프린팅, 빠지다  \n",
       "..                                 ...  \n",
       "874     세탁, 연, 해지, 커플티, 찬물, 빨, 로고, 그래픽  \n",
       "875  프린팅, 멋있다, 사보다, 탄탄하다, 어울리다, 유행, 재질  \n",
       "876                 저번, 핏, 이후, 원단, 티셔츠  \n",
       "877                      핏, 파다, 손, 디자인  \n",
       "878           핏하, 하늘색, 못, 프린팅, 말, 떨어지다  \n",
       "\n",
       "[879 rows x 2 columns]"
      ]
     },
     "execution_count": 32,
     "metadata": {},
     "output_type": "execute_result"
    }
   ],
   "source": [
    "test_df"
   ]
  },
  {
   "cell_type": "markdown",
   "id": "7ece04ee-2f06-4a2c-bb1a-3f0828a9d707",
   "metadata": {
    "jp-MarkdownHeadingCollapsed": true
   },
   "source": [
    "# 개별리뷰 퀄리티 높이는 고민"
   ]
  },
  {
   "cell_type": "code",
   "execution_count": 33,
   "id": "28709a51-3fdd-40f2-86d5-10f70416e27e",
   "metadata": {},
   "outputs": [
    {
     "name": "stdout",
     "output_type": "stream",
     "text": [
      "문장 1: 배터리 수명이 짧습니다.\n",
      "키워드: 짧습니다, TF-IDF 점수: 0.5774\n",
      "키워드: 수명이, TF-IDF 점수: 0.5774\n",
      "키워드: 배터리, TF-IDF 점수: 0.5774\n",
      "문장 2: 성능이 매우 훌륭합니다.\n",
      "키워드: 훌륭합니다, TF-IDF 점수: 0.5774\n",
      "키워드: 매우, TF-IDF 점수: 0.5774\n",
      "키워드: 성능이, TF-IDF 점수: 0.5774\n",
      "문장 3: 디자인이 마음에 듭니다.\n",
      "키워드: 듭니다, TF-IDF 점수: 0.5774\n",
      "키워드: 마음에, TF-IDF 점수: 0.5774\n",
      "키워드: 디자인이, TF-IDF 점수: 0.5774\n"
     ]
    }
   ],
   "source": [
    "from sklearn.feature_extraction.text import TfidfVectorizer\n",
    "\n",
    "# 짧은 문장 리스트\n",
    "sentences = [\"배터리 수명이 짧습니다.\", \"성능이 매우 훌륭합니다.\", \"디자인이 마음에 듭니다.\"]\n",
    "\n",
    "tfidf_vectorizer = TfidfVectorizer()\n",
    "tfidf_matrix = tfidf_vectorizer.fit_transform(sentences)\n",
    "feature_names = tfidf_vectorizer.get_feature_names_out()\n",
    "\n",
    "for i, sentence in enumerate(sentences):\n",
    "    print(f\"문장 {i+1}: {sentence}\")\n",
    "    scores = zip(tfidf_matrix[i].indices, tfidf_matrix[i].data)\n",
    "    sorted_scores = sorted(scores, key=lambda x: x[1], reverse=True)\n",
    "    for idx, score in sorted_scores:\n",
    "        print(f\"키워드: {feature_names[idx]}, TF-IDF 점수: {score:.4f}\")\n"
   ]
  },
  {
   "cell_type": "code",
   "execution_count": 36,
   "id": "2a388617-71f1-42d1-a898-e44f2927dc96",
   "metadata": {},
   "outputs": [
    {
     "name": "stdout",
     "output_type": "stream",
     "text": [
      "Collecting keywords\n",
      "  Downloading keywords-0.0.1.zip (3.0 kB)\n",
      "  Preparing metadata (setup.py): started\n",
      "  Preparing metadata (setup.py): finished with status 'done'\n",
      "Building wheels for collected packages: keywords\n",
      "  Building wheel for keywords (setup.py): started\n",
      "  Building wheel for keywords (setup.py): finished with status 'done'\n",
      "  Created wheel for keywords: filename=keywords-0.0.1-py3-none-any.whl size=3199 sha256=4046b7f7484c1aaf0476672bb330d927e72a0e656976f4e3e171c7fad34ea52c\n",
      "  Stored in directory: c:\\users\\hwan\\appdata\\local\\pip\\cache\\wheels\\a1\\87\\c4\\cf004bd8c86c64718cdb0311c5d13407c32d5e129185dd699c\n",
      "Successfully built keywords\n",
      "Installing collected packages: keywords\n",
      "Successfully installed keywords-0.0.1\n"
     ]
    }
   ],
   "source": [
    "!pip install keywords"
   ]
  },
  {
   "cell_type": "code",
   "execution_count": 39,
   "id": "3840b5df-937c-4960-b51c-3bcdf8db88a5",
   "metadata": {},
   "outputs": [
    {
     "name": "stdout",
     "output_type": "stream",
     "text": [
      "Collecting summa\n",
      "  Downloading summa-1.2.0.tar.gz (54 kB)\n",
      "     ---------------------------------------- 0.0/54.9 kB ? eta -:--:--\n",
      "     ---------------------------- --------- 41.0/54.9 kB 653.6 kB/s eta 0:00:01\n",
      "     -------------------------------------- 54.9/54.9 kB 475.2 kB/s eta 0:00:00\n",
      "  Preparing metadata (setup.py): started\n",
      "  Preparing metadata (setup.py): finished with status 'done'\n",
      "Requirement already satisfied: scipy>=0.19 in c:\\users\\hwan\\anaconda3\\lib\\site-packages (from summa) (1.13.1)\n",
      "Requirement already satisfied: numpy<2.3,>=1.22.4 in c:\\users\\hwan\\anaconda3\\lib\\site-packages (from scipy>=0.19->summa) (1.26.4)\n",
      "Building wheels for collected packages: summa\n",
      "  Building wheel for summa (setup.py): started\n",
      "  Building wheel for summa (setup.py): finished with status 'done'\n",
      "  Created wheel for summa: filename=summa-1.2.0-py3-none-any.whl size=54409 sha256=e686b27e963a385cf7d8fa3196bcade44d8a339b9d3b88e8e8f13b6686614198\n",
      "  Stored in directory: c:\\users\\hwan\\appdata\\local\\pip\\cache\\wheels\\70\\26\\84\\58df5a55ebde6fd802666b6ac0b86909ecd018a2702b89d13c\n",
      "Successfully built summa\n",
      "Installing collected packages: summa\n",
      "Successfully installed summa-1.2.0\n"
     ]
    }
   ],
   "source": [
    "!pip install summa"
   ]
  },
  {
   "cell_type": "code",
   "execution_count": 40,
   "id": "9f3477e0-895c-458f-b70c-94dbbae1f10a",
   "metadata": {},
   "outputs": [
    {
     "name": "stdout",
     "output_type": "stream",
     "text": [
      "추출된 키워드: ['디자인은', '수명이 짧아서']\n"
     ]
    }
   ],
   "source": [
    "from summa import keywords\n",
    "\n",
    "# 짧은 문장\n",
    "text = \"배터리 수명이 짧아서 아쉽습니다. 하지만 디자인은 훌륭합니다.\"\n",
    "\n",
    "# TextRank 기반 키워드 추출\n",
    "key_terms = keywords.keywords(text, words=3, split=True)\n",
    "print(f\"추출된 키워드: {key_terms}\")\n"
   ]
  },
  {
   "cell_type": "code",
   "execution_count": 41,
   "id": "0467af21-7693-4418-853e-b45a94766141",
   "metadata": {},
   "outputs": [
    {
     "name": "stdout",
     "output_type": "stream",
     "text": [
      "추출된 키워드: [('배터리 성능이', 0.8454), ('성능이 좋지', 0.8274), ('성능이', 0.7642)]\n"
     ]
    }
   ],
   "source": [
    "from keybert import KeyBERT\n",
    "\n",
    "# BERT 기반 모델 사용\n",
    "kw_model = KeyBERT()\n",
    "\n",
    "# 짧은 문장\n",
    "sentence = \"배터리 성능이 좋지 않아서 아쉽습니다.\"\n",
    "\n",
    "# 키워드 추출\n",
    "keywords = kw_model.extract_keywords(sentence, keyphrase_ngram_range=(1, 2), top_n=3)\n",
    "print(f\"추출된 키워드: {keywords}\")\n"
   ]
  },
  {
   "cell_type": "code",
   "execution_count": 42,
   "id": "6836b9b9-626e-4333-a354-3e5a3ba83193",
   "metadata": {},
   "outputs": [
    {
     "name": "stdout",
     "output_type": "stream",
     "text": [
      "추출된 키워드: ['배터리', '수명']\n"
     ]
    }
   ],
   "source": [
    "from konlpy.tag import Okt\n",
    "\n",
    "okt = Okt()\n",
    "sentence = \"배터리 수명이 짧아 아쉽습니다.\"\n",
    "tokens = okt.nouns(sentence)  # 명사 추출\n",
    "print(f\"추출된 키워드: {tokens}\")\n"
   ]
  },
  {
   "cell_type": "code",
   "execution_count": 45,
   "id": "fe3b1ead-0040-4d28-9137-15c079480b73",
   "metadata": {},
   "outputs": [
    {
     "name": "stdout",
     "output_type": "stream",
     "text": [
      "\n",
      "=== TF-IDF 결과 ===\n",
      "키워드: 그냥, TF-IDF 점수: 0.4472\n",
      "키워드: 예쁜듯, TF-IDF 점수: 0.2236\n",
      "키워드: 다니는, TF-IDF 점수: 0.2236\n",
      "\n",
      "=== TextRank 결과 ===\n",
      "추출된 키워드: ['그냥', '없어서', '게']\n",
      "\n",
      "=== KeyBERT 결과 ===\n",
      "키워드: 롤업하는, 유사도 점수: 0.6706\n",
      "키워드: 다니는, 유사도 점수: 0.6313\n",
      "키워드: 여자후기, 유사도 점수: 0.5767\n",
      "\n",
      "=== KoNLPy 결과 ===\n",
      "추출된 키워드: ['여자', '후기', '고민']\n"
     ]
    }
   ],
   "source": [
    "from sklearn.feature_extraction.text import TfidfVectorizer\n",
    "from summa import keywords as summa_keywords\n",
    "from keybert import KeyBERT\n",
    "from konlpy.tag import Okt\n",
    "\n",
    "# 테스트 문장\n",
    "test_sentence = '여자후기 없어서 고민 많이 하다가 그냥 샀는데 핏이랑 색감 다 맘에 드네요 길다고 롤업하는 것보다 그냥 이러고 다니는 게 예쁜듯'\n",
    "\n",
    "def extract_tfidf(sentences):\n",
    "    tfidf_vectorizer = TfidfVectorizer()\n",
    "    tfidf_matrix = tfidf_vectorizer.fit_transform(sentences)\n",
    "    feature_names = tfidf_vectorizer.get_feature_names_out()\n",
    "\n",
    "    tfidf_keywords = []\n",
    "    for i, sentence in enumerate(sentences):\n",
    "        scores = zip(tfidf_matrix[i].indices, tfidf_matrix[i].data)\n",
    "        sorted_scores = sorted(scores, key=lambda x: x[1], reverse=True)\n",
    "        for idx, score in sorted_scores[:3]:  # 상위 3개 키워드만 추출\n",
    "            tfidf_keywords.append((feature_names[idx], score))\n",
    "    return tfidf_keywords\n",
    "\n",
    "def extract_textrank(text):\n",
    "    textrank_keywords = summa_keywords.keywords(text, words=3, split=True)\n",
    "    return textrank_keywords\n",
    "\n",
    "def extract_keybert(text):\n",
    "    kw_model = KeyBERT()\n",
    "    keybert_keywords = kw_model.extract_keywords(text, keyphrase_ngram_range=(1, 1), top_n=3)\n",
    "    return keybert_keywords\n",
    "\n",
    "def extract_konlpy(text):\n",
    "    okt = Okt()\n",
    "    konlpy_keywords = okt.nouns(text)  # 명사만 추출\n",
    "    konlpy_keywords = [word for word in konlpy_keywords if len(word) > 1]  # 1글자 제거\n",
    "    return konlpy_keywords[:3]  # 상위 3개만 반환\n",
    "\n",
    "# 키워드 추출 실행\n",
    "tfidf_result = extract_tfidf([test_sentence])\n",
    "textrank_result = extract_textrank(test_sentence)\n",
    "keybert_result = extract_keybert(test_sentence)\n",
    "konlpy_result = extract_konlpy(test_sentence)\n",
    "\n",
    "# 결과 출력\n",
    "print(\"\\n=== TF-IDF 결과 ===\")\n",
    "for word, score in tfidf_result:\n",
    "    print(f\"키워드: {word}, TF-IDF 점수: {score:.4f}\")\n",
    "\n",
    "print(\"\\n=== TextRank 결과 ===\")\n",
    "print(f\"추출된 키워드: {textrank_result}\")\n",
    "\n",
    "print(\"\\n=== KeyBERT 결과 ===\")\n",
    "for keyword, score in keybert_result:\n",
    "    print(f\"키워드: {keyword}, 유사도 점수: {score:.4f}\")\n",
    "\n",
    "print(\"\\n=== KoNLPy 결과 ===\")\n",
    "print(f\"추출된 키워드: {konlpy_result}\")\n"
   ]
  },
  {
   "cell_type": "markdown",
   "id": "3db6460e-6a27-4d1c-91e8-0f8520fe185d",
   "metadata": {},
   "source": [
    "# o"
   ]
  },
  {
   "cell_type": "code",
   "execution_count": null,
   "id": "81f1e4eb-3b8a-422c-8148-15e530d7915b",
   "metadata": {},
   "outputs": [],
   "source": []
  }
 ],
 "metadata": {
  "kernelspec": {
   "display_name": "Python 3 (ipykernel)",
   "language": "python",
   "name": "python3"
  },
  "language_info": {
   "codemirror_mode": {
    "name": "ipython",
    "version": 3
   },
   "file_extension": ".py",
   "mimetype": "text/x-python",
   "name": "python",
   "nbconvert_exporter": "python",
   "pygments_lexer": "ipython3",
   "version": "3.12.3"
  }
 },
 "nbformat": 4,
 "nbformat_minor": 5
}
