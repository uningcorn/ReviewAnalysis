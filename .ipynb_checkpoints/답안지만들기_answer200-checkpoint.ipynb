{
 "cells": [
  {
   "cell_type": "code",
   "execution_count": 1390,
   "id": "c7eca71b-db2f-47af-968a-8ddf1d84e719",
   "metadata": {},
   "outputs": [],
   "source": [
    "import os\n",
    "import pandas as pd\n",
    "\n",
    "# 폴더 경로 없는 버전 \n",
    "# 빈 리스트 생성: 각각의 데이터프레임을 저장할 리스트\n",
    "df_list = []\n",
    "\n",
    "# 현재 디렉토리에서 '_keywords.csv'로 끝나는 파일들을 스캔하여 처리\n",
    "for filename in os.listdir():\n",
    "    if filename.endswith('_keywords_pre.csv'):\n",
    "        file_path = os.path.join(os.getcwd(), filename)\n",
    "        \n",
    "        # CSV 파일 불러오기\n",
    "        df = pd.read_csv(file_path)\n",
    "        \n",
    "        # 각 데이터프레임을 리스트에 추가\n",
    "        df_list.append(df)\n",
    "\n",
    "# 리스트 내의 모든 데이터프레임을 하나로 합치기\n",
    "combined_df = pd.concat(df_list, ignore_index=True)\n",
    "\n",
    "# 원한다면 파일로 저장 가능\n",
    "combined_df.to_csv('combined_keywords_pre.csv', index=False)"
   ]
  },
  {
   "cell_type": "code",
   "execution_count": 588,
   "id": "9e3013c1-47ec-4126-9807-c5f01909e4a2",
   "metadata": {},
   "outputs": [],
   "source": [
    "import os\n",
    "import pandas as pd\n",
    "\n",
    "# 폴더 경로 설정\n",
    "folder_path = 'keyword_merged_last'\n",
    "\n",
    "# 빈 리스트 생성: 각각의 데이터프레임을 저장할 리스트\n",
    "df_list = []\n",
    "\n",
    "# 폴더 내 '_keywords.csv'로 끝나는 파일들을 스캔하여 처리\n",
    "for filename in os.listdir(folder_path):\n",
    "    if filename.endswith('_keywords.csv'):\n",
    "        file_path = os.path.join(folder_path, filename)\n",
    "        \n",
    "        # CSV 파일 불러오기\n",
    "        df = pd.read_csv(file_path)\n",
    "        \n",
    "        # 각 데이터프레임을 리스트에 추가\n",
    "        df_list.append(df)\n",
    "\n",
    "# 리스트 내의 모든 데이터프레임을 하나로 합치기\n",
    "combined_df = pd.concat(df_list, ignore_index=True)\n",
    "\n",
    "# 원한다면 파일로 저장 가능\n",
    "combined_df.to_csv('combined_keywords_last.csv', index=False)"
   ]
  },
  {
   "cell_type": "code",
   "execution_count": 589,
   "id": "250e933d-7bc6-4c3f-a9fc-f95185108ce4",
   "metadata": {},
   "outputs": [
    {
     "data": {
      "text/html": [
       "<div>\n",
       "<style scoped>\n",
       "    .dataframe tbody tr th:only-of-type {\n",
       "        vertical-align: middle;\n",
       "    }\n",
       "\n",
       "    .dataframe tbody tr th {\n",
       "        vertical-align: top;\n",
       "    }\n",
       "\n",
       "    .dataframe thead th {\n",
       "        text-align: right;\n",
       "    }\n",
       "</style>\n",
       "<table border=\"1\" class=\"dataframe\">\n",
       "  <thead>\n",
       "    <tr style=\"text-align: right;\">\n",
       "      <th></th>\n",
       "      <th>Review</th>\n",
       "      <th>Processed_Review</th>\n",
       "      <th>common_keywords_all</th>\n",
       "      <th>common_keywords_3_plus</th>\n",
       "    </tr>\n",
       "  </thead>\n",
       "  <tbody>\n",
       "    <tr>\n",
       "      <th>0</th>\n",
       "      <td>이 가격에서는 보세사는 것보다 아주 훌륭하다고 생각합니다-! 아쉬운 점은 주머니 소...</td>\n",
       "      <td>이 가격에서는 보세사는 것보다 아주 훌륭하다고 생각합니다 아쉬운 점은 주머니 소재가...</td>\n",
       "      <td>주머니</td>\n",
       "      <td>가격, 살다, 생기다, 소재, 쉬다, 아쉽다, 주름, 주머니, 튼튼하다, 훌륭하다</td>\n",
       "    </tr>\n",
       "    <tr>\n",
       "      <th>1</th>\n",
       "      <td>사이즈랑 핏이랑 다 마음에 들어요!\\n허리가 살짝 크지만 벨트로 포인트 줄수있는 정...</td>\n",
       "      <td>사이즈랑 핏이랑 다 마음에 들어요 허리가 살짝 크지만 벨트로 포인트 줄 수 있는 정도예요</td>\n",
       "      <td>허리</td>\n",
       "      <td>벨트, 사이즈, 크다, 핏, 허리</td>\n",
       "    </tr>\n",
       "    <tr>\n",
       "      <th>2</th>\n",
       "      <td>딱 원하던 핏과 기장입니다! 다양한 상의와 휘뚜루마뚜루 입기 좋은 것 같아요</td>\n",
       "      <td>딱 원하던 핏과 기장입니다 다양한 상의와 휘뚜루마뚜루 입기 좋은 것 같아요</td>\n",
       "      <td>상의</td>\n",
       "      <td>기장, 다양하다, 상의, 원하다, 핏, 휘뚜루마뚜루</td>\n",
       "    </tr>\n",
       "    <tr>\n",
       "      <th>3</th>\n",
       "      <td>허리둘레 70센치 엉덩이는 보통 66사이즈 입어야 잘 맞는데 허리에 맞추면 엉덩이 ...</td>\n",
       "      <td>허리둘레 센티 엉덩이는 보통 사이즈 입어야 잘 맞는데 허리에 맞추면 엉덩이 작고 엉...</td>\n",
       "      <td>크다,  허리,  작고</td>\n",
       "      <td>그랬는데, 맞다, 맞추다, 보통, 사이즈, 센티, 엉덩이, 작고, 크다, 허리</td>\n",
       "    </tr>\n",
       "    <tr>\n",
       "      <th>4</th>\n",
       "      <td>엉덩이가 큰편이라 사이즈 걱정했는데 엉덩이는 잘 맞아요. 스판도 좋아서 다리 움직이...</td>\n",
       "      <td>엉덩이가 큰 편이라 사이즈 걱정했는데 엉덩이는 잘 맞아요 스판도 좋아서 다리 움직이...</td>\n",
       "      <td>NaN</td>\n",
       "      <td>걱정, 다리, 맞다, 불편하다, 사이즈, 스판, 엉덩이, 움직이다, 전혀, 크다, 편이</td>\n",
       "    </tr>\n",
       "    <tr>\n",
       "      <th>...</th>\n",
       "      <td>...</td>\n",
       "      <td>...</td>\n",
       "      <td>...</td>\n",
       "      <td>...</td>\n",
       "    </tr>\n",
       "    <tr>\n",
       "      <th>16832</th>\n",
       "      <td>배송도 빠르고 깔끔한 디자인이 맘에 들어요~ 중학교 조카 선물 좋아해요</td>\n",
       "      <td>배송도 빠르고 깔끔한 디자인이 맘에 들어요 중학교 조카 선물 좋아해요</td>\n",
       "      <td>NaN</td>\n",
       "      <td>깔끔하다, 디자인, 배송, 빠르다, 선물, 조카, 좋아하다, 중학교</td>\n",
       "    </tr>\n",
       "    <tr>\n",
       "      <th>16833</th>\n",
       "      <td>제품이 부드럽고 만족스럽고 세일 기간에 싸게 샀네요</td>\n",
       "      <td>제품이 부드럽고 만족스럽고 세일 기간에 싸게 샀네요</td>\n",
       "      <td>NaN</td>\n",
       "      <td>기간, 만족스럽다, 부드럽다, 세일, 싸다, 제품</td>\n",
       "    </tr>\n",
       "    <tr>\n",
       "      <th>16834</th>\n",
       "      <td>아디다스 집업 너무 입고싶어서 한번 사봤는데 진짜진짜 예쁘고 너무 좋아요👍👍👍 배송...</td>\n",
       "      <td>아디다스 집업 너무 입고 싶어서 한 번 사봤는데 진짜 진짜 예쁘고 너무 좋아요 배송...</td>\n",
       "      <td>NaN</td>\n",
       "      <td>배송, 빠르다, 사보다, 아디다스, 집업</td>\n",
       "    </tr>\n",
       "    <tr>\n",
       "      <th>16835</th>\n",
       "      <td>힙하게 입으려고 일부러 크게샀는데 원하는핏이라서 딱 좋아요</td>\n",
       "      <td>합하게 입으려고 일부러 크게 샀는데 원하는 핏이라서 딱 좋아요</td>\n",
       "      <td>NaN</td>\n",
       "      <td>원하다, 일부러, 크게, 합</td>\n",
       "    </tr>\n",
       "    <tr>\n",
       "      <th>16836</th>\n",
       "      <td>설날인데도 끝나자마자 바로 배송되네요. 옷 사이즈는 딱 적당하고 하나더 크게 입으면...</td>\n",
       "      <td>설날인데도 끝나자마자 바로 배송되네요 옷 사이즈는 딱 적당하고 하나 더 크게 입으면...</td>\n",
       "      <td>NaN</td>\n",
       "      <td>버핏, 부드럽다, 사이즈, 설날, 적당하다, 크게, 하나</td>\n",
       "    </tr>\n",
       "  </tbody>\n",
       "</table>\n",
       "<p>16837 rows × 4 columns</p>\n",
       "</div>"
      ],
      "text/plain": [
       "                                                  Review  \\\n",
       "0      이 가격에서는 보세사는 것보다 아주 훌륭하다고 생각합니다-! 아쉬운 점은 주머니 소...   \n",
       "1      사이즈랑 핏이랑 다 마음에 들어요!\\n허리가 살짝 크지만 벨트로 포인트 줄수있는 정...   \n",
       "2             딱 원하던 핏과 기장입니다! 다양한 상의와 휘뚜루마뚜루 입기 좋은 것 같아요   \n",
       "3      허리둘레 70센치 엉덩이는 보통 66사이즈 입어야 잘 맞는데 허리에 맞추면 엉덩이 ...   \n",
       "4      엉덩이가 큰편이라 사이즈 걱정했는데 엉덩이는 잘 맞아요. 스판도 좋아서 다리 움직이...   \n",
       "...                                                  ...   \n",
       "16832            배송도 빠르고 깔끔한 디자인이 맘에 들어요~ 중학교 조카 선물 좋아해요   \n",
       "16833                       제품이 부드럽고 만족스럽고 세일 기간에 싸게 샀네요   \n",
       "16834  아디다스 집업 너무 입고싶어서 한번 사봤는데 진짜진짜 예쁘고 너무 좋아요👍👍👍 배송...   \n",
       "16835                   힙하게 입으려고 일부러 크게샀는데 원하는핏이라서 딱 좋아요   \n",
       "16836  설날인데도 끝나자마자 바로 배송되네요. 옷 사이즈는 딱 적당하고 하나더 크게 입으면...   \n",
       "\n",
       "                                        Processed_Review common_keywords_all  \\\n",
       "0      이 가격에서는 보세사는 것보다 아주 훌륭하다고 생각합니다 아쉬운 점은 주머니 소재가...                 주머니   \n",
       "1      사이즈랑 핏이랑 다 마음에 들어요 허리가 살짝 크지만 벨트로 포인트 줄 수 있는 정도예요                  허리   \n",
       "2              딱 원하던 핏과 기장입니다 다양한 상의와 휘뚜루마뚜루 입기 좋은 것 같아요                  상의   \n",
       "3      허리둘레 센티 엉덩이는 보통 사이즈 입어야 잘 맞는데 허리에 맞추면 엉덩이 작고 엉...        크다,  허리,  작고   \n",
       "4      엉덩이가 큰 편이라 사이즈 걱정했는데 엉덩이는 잘 맞아요 스판도 좋아서 다리 움직이...                 NaN   \n",
       "...                                                  ...                 ...   \n",
       "16832             배송도 빠르고 깔끔한 디자인이 맘에 들어요 중학교 조카 선물 좋아해요                 NaN   \n",
       "16833                       제품이 부드럽고 만족스럽고 세일 기간에 싸게 샀네요                 NaN   \n",
       "16834  아디다스 집업 너무 입고 싶어서 한 번 사봤는데 진짜 진짜 예쁘고 너무 좋아요 배송...                 NaN   \n",
       "16835                 합하게 입으려고 일부러 크게 샀는데 원하는 핏이라서 딱 좋아요                 NaN   \n",
       "16836  설날인데도 끝나자마자 바로 배송되네요 옷 사이즈는 딱 적당하고 하나 더 크게 입으면...                 NaN   \n",
       "\n",
       "                                 common_keywords_3_plus  \n",
       "0         가격, 살다, 생기다, 소재, 쉬다, 아쉽다, 주름, 주머니, 튼튼하다, 훌륭하다  \n",
       "1                                    벨트, 사이즈, 크다, 핏, 허리  \n",
       "2                          기장, 다양하다, 상의, 원하다, 핏, 휘뚜루마뚜루  \n",
       "3           그랬는데, 맞다, 맞추다, 보통, 사이즈, 센티, 엉덩이, 작고, 크다, 허리  \n",
       "4      걱정, 다리, 맞다, 불편하다, 사이즈, 스판, 엉덩이, 움직이다, 전혀, 크다, 편이  \n",
       "...                                                 ...  \n",
       "16832             깔끔하다, 디자인, 배송, 빠르다, 선물, 조카, 좋아하다, 중학교  \n",
       "16833                       기간, 만족스럽다, 부드럽다, 세일, 싸다, 제품  \n",
       "16834                            배송, 빠르다, 사보다, 아디다스, 집업  \n",
       "16835                                   원하다, 일부러, 크게, 합  \n",
       "16836                   버핏, 부드럽다, 사이즈, 설날, 적당하다, 크게, 하나  \n",
       "\n",
       "[16837 rows x 4 columns]"
      ]
     },
     "execution_count": 589,
     "metadata": {},
     "output_type": "execute_result"
    }
   ],
   "source": [
    "combined_df"
   ]
  },
  {
   "cell_type": "code",
   "execution_count": 590,
   "id": "72f46ffa-5b67-4737-aea2-330742af4aa2",
   "metadata": {},
   "outputs": [],
   "source": [
    "import random\n",
    "\n",
    "random_indices = random.sample(range(1, 16837), 200)\n",
    "\n",
    "# 랜덤 인덱스를 이용해 새로운 데이터프레임 생성\n",
    "selected_df = combined_df.iloc[random_indices]"
   ]
  },
  {
   "cell_type": "code",
   "execution_count": 591,
   "id": "3bd0b1ed-8cd8-40dc-880d-d673bbbb9977",
   "metadata": {
    "scrolled": true
   },
   "outputs": [],
   "source": [
    "selected_df.reset_index(drop=True, inplace=True)\n",
    "selected_df.to_csv('random_selected_df.csv', index=False)"
   ]
  },
  {
   "cell_type": "code",
   "execution_count": 1357,
   "id": "eddfcc02-4238-490f-a468-a6e2f4a65cdc",
   "metadata": {},
   "outputs": [
    {
     "data": {
      "text/plain": [
       "'반바지보다 살짝 더 긴 기장으로 어느 옷에나 매치해도 잘 어울릴 거 같습니다 통도 널찍하고 핏도 괜찮아서 올여름 자주 입고 다닐 거 같아요 허리 사이즈는 살짝 크지만 벨트 매고 입으려고 합니다 색감도 사진과 같아서 살짝 어두운 청색이라고 생각하시면 될 거 같아요 전반적으로 매우 만족스럽습니다'"
      ]
     },
     "execution_count": 1357,
     "metadata": {},
     "output_type": "execute_result"
    }
   ],
   "source": [
    "selected_df['Processed_Review'][192]"
   ]
  },
  {
   "cell_type": "code",
   "execution_count": 1375,
   "id": "a23137ff-ad11-4031-bd25-f6f24ac92f82",
   "metadata": {},
   "outputs": [
    {
     "data": {
      "text/plain": [
       "Review                      운동할 때 잘 입고 있습니다. 좀 까끌거리지만 가격 대비 좋아요\n",
       "Processed_Review          운동할 때 잘 입고 있습니다 좀 까끌까끌 거리지만 가격 대비 좋아요\n",
       "common_keywords_all                                          가격\n",
       "common_keywords_3_plus                     가격, 거리, 까끌까끌, 대비, 운동\n",
       "Name: 198, dtype: object"
      ]
     },
     "execution_count": 1375,
     "metadata": {},
     "output_type": "execute_result"
    }
   ],
   "source": [
    "selected_df.iloc[198]"
   ]
  },
  {
   "cell_type": "code",
   "execution_count": 1383,
   "id": "3d910148-405d-49d4-a080-087bbdf42050",
   "metadata": {},
   "outputs": [
    {
     "data": {
      "text/plain": [
       "'원단 좋고 면도 좋아요 디자인도 이쁘고 사이즈도 아주 딱 오버핏여서 이뻐용'"
      ]
     },
     "execution_count": 1383,
     "metadata": {},
     "output_type": "execute_result"
    }
   ],
   "source": [
    "selected_df['Review'][199]"
   ]
  },
  {
   "cell_type": "code",
   "execution_count": 1381,
   "id": "788a44fb-f0cc-4e8a-9580-a193626de1bc",
   "metadata": {},
   "outputs": [],
   "source": [
    "list.append('원단, 면, 디자인, 사이즈, 오버핏')"
   ]
  },
  {
   "cell_type": "code",
   "execution_count": 1379,
   "id": "fd57efd6-fefc-40da-a196-cfb388782af9",
   "metadata": {},
   "outputs": [
    {
     "data": {
      "text/plain": [
       "'운동, 까끌거리다, 가격'"
      ]
     },
     "execution_count": 1379,
     "metadata": {},
     "output_type": "execute_result"
    }
   ],
   "source": [
    "list[198]"
   ]
  },
  {
   "cell_type": "code",
   "execution_count": 1391,
   "id": "eea25aba-b482-44f8-abce-9105022be026",
   "metadata": {},
   "outputs": [
    {
     "name": "stdout",
     "output_type": "stream",
     "text": [
      "['길이감, 핏', '길이, 허리, 라인', '반품, 사이즈, 길이, 짧다', '무난, 배송, 빠르다', '사이즈, 오버핏, 빈티지, 편하다', '무난, 반팔, 사이즈, 적당하다, 여유, 여름, 쾌적하다', '마르다, 여름', '여름, 매쉬', '재질, 부드럽다, 배송, 빠르다, 편하다', '재질, 탄탄하다, 바지, 스커트, 핏', '작다, 티', '가격, 배송, 빨리, 정사이즈, 간절기, 레이어드', '두껍다, 짱짱하다', '여름철, 반팔, 셔츠, 무채색, 디테일, 오버사이즈, 추천', '가성비', '핏, 추천', '길다, 여름, 교복', '재질, 시원하다, 핏, 색상', '재질, 탄탄하다, 두껍지 않다, 여름, 만족하다', '배송, 빠르다, 포장', '그래픽, 핏, 두께감, 두껍지 않다', '여름, 바지, 가볍다, 얇다, 핏', '저렴하다, 가격, 사이즈', '스타일', '저렴하다, 가격, 프린트, 반팔, 만족하다', '핏, 재질, 시원하다, 여행', '여자친구, 비치다', '품, 기장, 덥다, 배송, 느리다, 가격, 합리적', '시원하다, 정사이즈, 얇다, 비치다', '목, 좁다, 늘어나다, 세일, 만족하다', '원단, 부드럽다, 핏', '핏, 색감, 무겁다', '깔끔하다, 기본, 저지, 기장, 소매, 길이, 적당하다', '여름용, 반팔, 시원하다, 물놀이, 잠옷', '편하다, 품질, 두껍다', '적당하다, 크림색', '운동, 편하다, 저렴하다', '싸다, 나쁘지 않다', '지퍼, 레전드', '배송, 빠르다, 시원하다, 재질', '재질, 탄탄하다, 무난하다', '루스, 사이즈, 스타일, 기장, 짧다', '길다, 얇다, 비치다', '사이즈, 허리, 봄, 가을', '크다', '스타일, 바지, 두껍다, 덥다, 재질, 무게', '짧다, 치마, 바지, 편하다', '배송, 빨리, 흉곽, 작다, 길이, 짧다', '원피스, 짧다, 아랫배, 부각, 스트레이트, 체형', '길이, 짧다, 허리, 맞다', '', '브랜드', '바지, 크다, 편하다, 허리, 벨트, 수선, 강추', '기장, 재질, 앱, 저렴하다, 원피스', '가격, 디자인, 원단, 품질, 반팔, 티', '허리, 조이다', '적당하다, 두께감, 오버핏, 데일리', '배송, 빨리, 핏, 사이즈, 맞다, 만족하다', '덥다', '디자인, 외출', '맞다, 구김, 흰색, 어울리다', '시원하다, 통풍, 사이즈, 널찍하다, 맞다', 's, 여성, 크다, 오버핏', '색감, 핏, 가격, 냄새, 인기', '재질, 배송, 빠르다, 합리적', '배송, 빠르다, 금액, 가치, 색감, 핏, 여름, 시원하다', '키, 작다, 다리, 굵다, 바지', '원단, 시원하다, 핏, 길다, 만족스럽다', '얇다, 핏, 사라지다', '색감, 로고, 디테일, 정사이즈, 두께감, 시원하다', '잠옷', '오버핏, 지퍼, 불편하다, 모자, 각', '디자인, 허리, 크다, 배송, 빠르다', '워싱, 소재, 재질', '멸치, 사이즈, 허리, 맞다, 버뮤다, 팬츠, 핏, L', '반팔, 티, 색', '질, 프린팅, 만족하다, 가격, 싸다', '크게, xl', '평범하다, 면, 티', '재질, 여름, 편하다, 기본', '버뮤다, 데님, 로고', '로고, 아쉽다, 핏, 달라지다', '질, 추천, 세일', '여름, 바지, 어울리다, 사이즈, 오버', '여름, 맞다, xs, s, 어깨', '사이즈, 재질, 부드럽다, 무게, 가볍다', '로고, 작다, 가격, 저렴', '얇다, 색깔, 어둡다, 베이지', '재질, 얇다, 가볍다, 완벽하다', '원피스, 최고, 하비, 바지, 사이즈, 키, 스판, 길이, 편하다', '사이즈, 맞다, 핏, 원단, 탄탄하다', '핏, 여름', '펄럭거리다, 유치하다', '사이즈, 적당하다, 맞다, 핏', '사이즈, 허리, 크다, 길이, 발목, 디자인, 재질', '로고, 포인트', '시원하다, 바느질, 꼼꼼하다, 스타일', '오버핏, 스타일, 빈티지, 색감', '핏, 추천', '실물', '색, 가을', '만족하다', '착용감, 편하다', '기본, 아이템, 무난, 어울리다', '하비, 사이즈, 핏, 얇다, 비치다, 속치마', '면, 티, 두껍다, 변형이 안되다, 커플', '얇다, 시원하다, 여름', '프린팅, 두께, 얇다, 비침이 없다, 부드럽다, 소재, 시보리, 늘어나다, 티, 강추', '저렴하다, 질, 티셔츠, 만족하다', '두께감', '기본, 가볍다, 편하다', '배송, 빠르다, 핏, 오버핏, 힙', '프린팅, 깔끔하다, 포인트, 세탁, 변형 없음', '깔끔하다, 디자인, 퀄리티, 만족스럽다', '프린팅, 강추', '두께감, 만족스럽다, 반팔, 티, 면, 인정', '핏, 인생, 원피스, 밝다', '여름, 바지, 핏, 사이즈, 최고, 적당하다, 두께감, 두껍다, 오버핏, 길이, 통, 디자인, 무난하다, 어울리다, 재질, 세탁, 인생, 반바지, 배송', '소재, 부드럽다, 시원하다, 비침 없다, 탄탄하다, 면, 짧다, 키, 단독, 길이', '무난하다', '커플, 티, 사이즈, 맞다, 얇다, 여름, 시원하다', '배송, 빠르다, 사이즈, 맞다, 만족하다', '끼다, 사이즈, 색감, 신축성, 편하다, 만족하다', '핏, 스타일', '목, 뜨다, 아쉽다', '덥다, 민소매, 흔하다', '사이즈, 맞다, 심플하다, 어울리다', '날씬해 보이다, 여름', '워싱, 멀쩡하다', '옷감, 도톰하다, 늘어나지 않다', '색상, 무게감', '흰색, 검은색', 'XL, L, 재질, 매끄럽다, 가볍다, 얇다, 비침이 없다, 구김이 적다, 추천', '색감, 두께, 적당하다', '기본, 티셔츠, 레터링', '지퍼, 디테일, 피그먼트, 무난, 빈티지, 무겁다', '단추, 싸구려, 색감, 가격, 낮다, 바느질', '색상, 디자인', '귀엽다, 싸다, 바지, 가격, 최고', '색감, 어둡다, 아쉽다, 일자핏, 허리, 넉넉하다', '적당하다, 꾸미다, 티', '길다', '타이트, 핏하다, 시원하다, 키', '두껍다, 한여름, 덥다, 핏, 무난', '색감, 색상, 적당하다, 낙낙, 여름', '얇다, 소재, 여름, 걸치다', '날씨, 더위, 편하다, 포인트, 코디, 귀엽다', '프린팅, 텍, 디테일, 간지', '원단, 두껍다, 덥다, 튼튼하다, 마감, 퀄리티, 완벽하다', '길이, 적당하다, 핏, 짧아지다, 광', '허리, 라인, 날씬해 보이다, 얇다, 여름, 비치다', '색감, 디자인, 집업, 유용하다, 가격, 유지, 배송, 빠르다, 무겁다, 만족하다', '사이즈, 재질, 디자인, 두께감, 만족하다', '원단, 튼튼하다', '얇다, 비침이 없다, 여름, 덩치, 추천', '얇다, 여름, 시원하다, 허리, 핏되다', '얇다, 재질, 운동, 사이즈, 작다, 크게, 추천', '크다, 핏, 스타일, 디자인, 최애, 청바지', '기본, 속옷, 주의', '핏, 적당하다, 두께감, 여름, 레터링', '기장, 짧지 않다, 엉덩이, 뜨다, 아쉽다', '최고, 치마, 여름, 방수, 스판, 편하다, 크다, 엠, 기장, 허리, 에스, 강추', '키, 길이, 적당하다, 허리, 라인', '편하다, 흰색', '워싱, 티셔츠, 편하다, 어울리다', '니트, 비침이 없다, 단품', '여행, 핏, 색감, s, 작지 않다', '만족스럽다, 얇다, 소재, 찰랑하다, 여름, 안 들러붙다, 재질, 길다, 넉넉하다', '오버핏, 티셔츠, 두께, 얇지 않다, 사이즈, 크다, 여성, s, 추천', '여름, 코튼, 최고, 시원하다, 땀, 흡수', '체크, 셔츠, 재질, 시원하다, 여름', '기본, 사이즈, 편안하다', '편안하다, 핏, 가성비', '사이즈, 맞다, 반바지, 시원하다, 활동성, 편하다, 교복', '이미지, 똑같다, 여름, 저렴하다, 만족하다', '덥다, 시원하다', '소재, 탄탄하다, 합리적, 가격', '핏, 깔끔하다', '편하다, 라인', '여름, 시원하다, 라인, 길이, 적당하다, 최고', '시원하지 않다', '핏, 편하다', '얇다, 여름, 시원하다, 가을, 겨울, 춥다, 사이즈, 보통, 배송, 빠르다', '재질', '허리, 타이트, 완벽하다, 최애, 바지, 만족하다', '기장, 길다, 핏, 교복', '깔끔하다, 포인트, 박시, 티, 어깨, 핏, 떨어지다, 활용', '비치지 않다, 탄탄하다, 원피스', '활동성, 편하다, M, 허리, 넉넉하다, s, 타이트, 핏, 스타일링', '코디, 무난, 두께, 보통, 할인', '배송', '추천', '기장, 길다, 매치, 어울리다, 널찍하다, 여름, 핏, 허리, 사이즈, 색감, 어둡다, 만족스럽다', '편하다, 얇다, 시원하다', '싸다, 가격, 스타일리시', '두툼하다, 기장, 적당하다', '활동, 불편함 없다', '데이트, 셔츠', '운동, 까끌거리다, 가격', '원단, 면, 디자인, 사이즈, 오버핏']\n"
     ]
    }
   ],
   "source": [
    "print(list)"
   ]
  },
  {
   "cell_type": "code",
   "execution_count": 1385,
   "id": "996e8f10-661e-4eeb-b282-430a8ef5992c",
   "metadata": {},
   "outputs": [
    {
     "name": "stderr",
     "output_type": "stream",
     "text": [
      "C:\\Users\\HWAN\\AppData\\Local\\Temp\\ipykernel_16808\\3239891584.py:1: SettingWithCopyWarning: \n",
      "A value is trying to be set on a copy of a slice from a DataFrame.\n",
      "Try using .loc[row_indexer,col_indexer] = value instead\n",
      "\n",
      "See the caveats in the documentation: https://pandas.pydata.org/pandas-docs/stable/user_guide/indexing.html#returning-a-view-versus-a-copy\n",
      "  selected_df['Answer'] = list\n"
     ]
    },
    {
     "data": {
      "text/html": [
       "<div>\n",
       "<style scoped>\n",
       "    .dataframe tbody tr th:only-of-type {\n",
       "        vertical-align: middle;\n",
       "    }\n",
       "\n",
       "    .dataframe tbody tr th {\n",
       "        vertical-align: top;\n",
       "    }\n",
       "\n",
       "    .dataframe thead th {\n",
       "        text-align: right;\n",
       "    }\n",
       "</style>\n",
       "<table border=\"1\" class=\"dataframe\">\n",
       "  <thead>\n",
       "    <tr style=\"text-align: right;\">\n",
       "      <th></th>\n",
       "      <th>Review</th>\n",
       "      <th>Processed_Review</th>\n",
       "      <th>common_keywords_all</th>\n",
       "      <th>common_keywords_3_plus</th>\n",
       "      <th>Answer</th>\n",
       "    </tr>\n",
       "  </thead>\n",
       "  <tbody>\n",
       "    <tr>\n",
       "      <th>0</th>\n",
       "      <td>키가 작은편인데도 길이감도 좋고\\n핏이 넘 예뻐요</td>\n",
       "      <td>키가 작은 편인데도 길이감도 좋고 핏이 너무 예뻐요</td>\n",
       "      <td>NaN</td>\n",
       "      <td>길이감, 작다, 키, 펴다, 핏</td>\n",
       "      <td>길이감, 핏</td>\n",
       "    </tr>\n",
       "    <tr>\n",
       "      <th>1</th>\n",
       "      <td>길이가 다른 원피스들에 비해 긴 편이에요. 엄마가 좋아하는 길이ㅋㅋ 그래도 허리 라...</td>\n",
       "      <td>길이가 다른 원피스들에 비해 긴 편이에요 엄마가 좋아하는 길이 그래도 허리 라인 잡...</td>\n",
       "      <td>NaN</td>\n",
       "      <td>길이, 라인, 비다, 엄마, 원피스, 잡히다, 좋아하다, 편이, 허리</td>\n",
       "      <td>길이, 허리, 라인</td>\n",
       "    </tr>\n",
       "    <tr>\n",
       "      <th>2</th>\n",
       "      <td>긴팔을 받아 교환요청을 했는데 반품하고 다시 벋는데 일주일이걸렸네요. ㅡㅡ 사이즈에...</td>\n",
       "      <td>긴팔을 받아 교환 요청을 했는데 반품하고 다시 벋는 데 일주일이 걸렸네요 사이즈에 ...</td>\n",
       "      <td>NaN</td>\n",
       "      <td>걸리다, 교환, 길이, 반품, 비다, 사이즈, 세탁, 일주일, 팔</td>\n",
       "      <td>반품, 사이즈, 길이, 짧다</td>\n",
       "    </tr>\n",
       "    <tr>\n",
       "      <th>3</th>\n",
       "      <td>뮤난하게 입기 좋응고같아요! 배송도 빠르고 좋아용</td>\n",
       "      <td>무난하게 입기 좋은 고 같아요 배송도 빠르고 좋아요</td>\n",
       "      <td>빠르다,  배송</td>\n",
       "      <td>무난, 배송, 빠르다</td>\n",
       "      <td>무난, 배송, 빠르다</td>\n",
       "    </tr>\n",
       "    <tr>\n",
       "      <th>4</th>\n",
       "      <td>S사이즈 주문했는데 오버핏 사이즈 딱이고 빈티지색 이쁘고 좋아요 편하게 입기 좋아요</td>\n",
       "      <td>S사이즈 주문했는데 오버핏 사이즈 딱이고 빈티지 색 이쁘고 좋아요 편하게 입기 좋아요</td>\n",
       "      <td>오버핏</td>\n",
       "      <td>딱이다, 빈티, 사이즈, 오버핏, 주문, 편하다</td>\n",
       "      <td>사이즈, 오버핏, 빈티지, 편하다</td>\n",
       "    </tr>\n",
       "    <tr>\n",
       "      <th>...</th>\n",
       "      <td>...</td>\n",
       "      <td>...</td>\n",
       "      <td>...</td>\n",
       "      <td>...</td>\n",
       "      <td>...</td>\n",
       "    </tr>\n",
       "    <tr>\n",
       "      <th>195</th>\n",
       "      <td>생각보다 두툼한데 오히려 좋아요!! 기장도 적당하고 잘입고 다닐거 같아용</td>\n",
       "      <td>생각보다 두툼한데 오히려 좋아요 기장도 적당하고 잘 입고 다닐 거 같아요</td>\n",
       "      <td>NaN</td>\n",
       "      <td>기장, 두툼, 적당하다</td>\n",
       "      <td>두툼하다, 기장, 적당하다</td>\n",
       "    </tr>\n",
       "    <tr>\n",
       "      <th>196</th>\n",
       "      <td>168기준 허벅지 중간정도와서 활동할 때 전! 혀 불편함 없어요! 나아이스</td>\n",
       "      <td>기준 허벅지 중간 정도 와서 활동할 때 전 혀 불편함 없어요 나 아이스</td>\n",
       "      <td>NaN</td>\n",
       "      <td>기준, 불편하다, 아이스, 없다, 오다, 중간, 허벅지, 활동</td>\n",
       "      <td>활동, 불편함 없다</td>\n",
       "    </tr>\n",
       "    <tr>\n",
       "      <th>197</th>\n",
       "      <td>데이트할 때 잘 입었습니다요 셔츠랑 입어도 예쁨</td>\n",
       "      <td>데이트할 때 잘 입었습니다 셔츠랑 입어도 예쁨</td>\n",
       "      <td>NaN</td>\n",
       "      <td>데이트, 셔츠</td>\n",
       "      <td>데이트, 셔츠</td>\n",
       "    </tr>\n",
       "    <tr>\n",
       "      <th>198</th>\n",
       "      <td>운동할 때 잘 입고 있습니다. 좀 까끌거리지만 가격 대비 좋아요</td>\n",
       "      <td>운동할 때 잘 입고 있습니다 좀 까끌까끌 거리지만 가격 대비 좋아요</td>\n",
       "      <td>가격</td>\n",
       "      <td>가격, 거리, 까끌까끌, 대비, 운동</td>\n",
       "      <td>운동, 까끌거리다, 가격</td>\n",
       "    </tr>\n",
       "    <tr>\n",
       "      <th>199</th>\n",
       "      <td>원단 좋고 면도 좋아요 디자인도 이쁘고 사이즈도 아주 딱 오버핏여서 이뻐용</td>\n",
       "      <td>원단 좋고 면도 좋아요 디자인도 이쁘고 사이즈도 아주 딱 오버핏여서 이뻐요</td>\n",
       "      <td>NaN</td>\n",
       "      <td>디자인, 면도, 사이즈, 여서, 오버핏, 원단</td>\n",
       "      <td>원단, 면, 디자인, 사이즈, 오버핏</td>\n",
       "    </tr>\n",
       "  </tbody>\n",
       "</table>\n",
       "<p>200 rows × 5 columns</p>\n",
       "</div>"
      ],
      "text/plain": [
       "                                                Review  \\\n",
       "0                          키가 작은편인데도 길이감도 좋고\\n핏이 넘 예뻐요   \n",
       "1    길이가 다른 원피스들에 비해 긴 편이에요. 엄마가 좋아하는 길이ㅋㅋ 그래도 허리 라...   \n",
       "2    긴팔을 받아 교환요청을 했는데 반품하고 다시 벋는데 일주일이걸렸네요. ㅡㅡ 사이즈에...   \n",
       "3                          뮤난하게 입기 좋응고같아요! 배송도 빠르고 좋아용   \n",
       "4       S사이즈 주문했는데 오버핏 사이즈 딱이고 빈티지색 이쁘고 좋아요 편하게 입기 좋아요   \n",
       "..                                                 ...   \n",
       "195           생각보다 두툼한데 오히려 좋아요!! 기장도 적당하고 잘입고 다닐거 같아용   \n",
       "196          168기준 허벅지 중간정도와서 활동할 때 전! 혀 불편함 없어요! 나아이스   \n",
       "197                         데이트할 때 잘 입었습니다요 셔츠랑 입어도 예쁨   \n",
       "198                운동할 때 잘 입고 있습니다. 좀 까끌거리지만 가격 대비 좋아요   \n",
       "199          원단 좋고 면도 좋아요 디자인도 이쁘고 사이즈도 아주 딱 오버핏여서 이뻐용   \n",
       "\n",
       "                                      Processed_Review common_keywords_all  \\\n",
       "0                         키가 작은 편인데도 길이감도 좋고 핏이 너무 예뻐요                 NaN   \n",
       "1    길이가 다른 원피스들에 비해 긴 편이에요 엄마가 좋아하는 길이 그래도 허리 라인 잡...                 NaN   \n",
       "2    긴팔을 받아 교환 요청을 했는데 반품하고 다시 벋는 데 일주일이 걸렸네요 사이즈에 ...                 NaN   \n",
       "3                         무난하게 입기 좋은 고 같아요 배송도 빠르고 좋아요            빠르다,  배송   \n",
       "4      S사이즈 주문했는데 오버핏 사이즈 딱이고 빈티지 색 이쁘고 좋아요 편하게 입기 좋아요                 오버핏   \n",
       "..                                                 ...                 ...   \n",
       "195           생각보다 두툼한데 오히려 좋아요 기장도 적당하고 잘 입고 다닐 거 같아요                 NaN   \n",
       "196            기준 허벅지 중간 정도 와서 활동할 때 전 혀 불편함 없어요 나 아이스                 NaN   \n",
       "197                          데이트할 때 잘 입었습니다 셔츠랑 입어도 예쁨                 NaN   \n",
       "198              운동할 때 잘 입고 있습니다 좀 까끌까끌 거리지만 가격 대비 좋아요                  가격   \n",
       "199          원단 좋고 면도 좋아요 디자인도 이쁘고 사이즈도 아주 딱 오버핏여서 이뻐요                 NaN   \n",
       "\n",
       "                     common_keywords_3_plus                Answer  \n",
       "0                         길이감, 작다, 키, 펴다, 핏                길이감, 핏  \n",
       "1    길이, 라인, 비다, 엄마, 원피스, 잡히다, 좋아하다, 편이, 허리            길이, 허리, 라인  \n",
       "2      걸리다, 교환, 길이, 반품, 비다, 사이즈, 세탁, 일주일, 팔       반품, 사이즈, 길이, 짧다  \n",
       "3                               무난, 배송, 빠르다           무난, 배송, 빠르다  \n",
       "4                딱이다, 빈티, 사이즈, 오버핏, 주문, 편하다    사이즈, 오버핏, 빈티지, 편하다  \n",
       "..                                      ...                   ...  \n",
       "195                            기장, 두툼, 적당하다        두툼하다, 기장, 적당하다  \n",
       "196      기준, 불편하다, 아이스, 없다, 오다, 중간, 허벅지, 활동            활동, 불편함 없다  \n",
       "197                                 데이트, 셔츠               데이트, 셔츠  \n",
       "198                    가격, 거리, 까끌까끌, 대비, 운동         운동, 까끌거리다, 가격  \n",
       "199               디자인, 면도, 사이즈, 여서, 오버핏, 원단  원단, 면, 디자인, 사이즈, 오버핏  \n",
       "\n",
       "[200 rows x 5 columns]"
      ]
     },
     "execution_count": 1385,
     "metadata": {},
     "output_type": "execute_result"
    }
   ],
   "source": [
    "selected_df['Answer'] = list"
   ]
  },
  {
   "cell_type": "code",
   "execution_count": null,
   "id": "9ed812c3-f0be-458f-9b4f-bda208415993",
   "metadata": {},
   "outputs": [],
   "source": []
  },
  {
   "cell_type": "code",
   "execution_count": 1386,
   "id": "e23f3bc5-8b6c-40ed-8238-50a226a021cc",
   "metadata": {},
   "outputs": [],
   "source": [
    "selected_df.to_csv('random_selected_answer.csv', index=False)"
   ]
  },
  {
   "cell_type": "code",
   "execution_count": null,
   "id": "ac8e9d1a-3955-4834-bd7e-01d7235d28b9",
   "metadata": {},
   "outputs": [],
   "source": [
    "단단, 탄탄, 쌀쌀, 톡톡, 넉넉, 튼튼, "
   ]
  },
  {
   "cell_type": "markdown",
   "id": "e7468d1b-ca1b-489a-85d7-1b40d1f871e2",
   "metadata": {},
   "source": [
    "목 늘어짐, , 안 늘어나다, 크지도 작지도 않다, 세미, 알맞게 떨어지다 , 색상이름, 품이 크다, 얇지 않다\n",
    "변형이 안되다, 변형 없이, 마음에 들다/맘에 들다, 나쁘지 않다, 안 비쳐요, 추천하진 않는데, 별로지도 않다,\n",
    "구김이 안가다"
   ]
  },
  {
   "cell_type": "code",
   "execution_count": 279,
   "id": "c7710999-c9f5-4a35-ab50-db30d133bfe7",
   "metadata": {},
   "outputs": [
    {
     "data": {
      "text/plain": [
       "'얇다, 핏, 아쉽다'"
      ]
     },
     "execution_count": 279,
     "metadata": {},
     "output_type": "execute_result"
    }
   ],
   "source": [
    "list[62]"
   ]
  },
  {
   "cell_type": "code",
   "execution_count": 119,
   "id": "d4abbc24-24c2-46f5-b45f-6050f0b145ff",
   "metadata": {},
   "outputs": [],
   "source": [
    "del list[25]"
   ]
  },
  {
   "cell_type": "code",
   "execution_count": 1384,
   "id": "d97df2c1-82cc-413e-87f1-3e2228d6b397",
   "metadata": {},
   "outputs": [
    {
     "name": "stdout",
     "output_type": "stream",
     "text": [
      "텍스트 파일로 저장 완료\n"
     ]
    }
   ],
   "source": [
    "# 리스트를 텍스트 파일로 저장\n",
    "with open('output.txt', 'w', encoding='utf-8') as f:\n",
    "    for item in list:\n",
    "        f.write(item + '\\n')  # 각 항목을 새로운 줄에 저장\n",
    "\n",
    "print(\"텍스트 파일로 저장 완료\")"
   ]
  },
  {
   "cell_type": "code",
   "execution_count": 11,
   "id": "75709da6-e022-4d95-8809-e8eef9f149a5",
   "metadata": {
    "scrolled": true
   },
   "outputs": [
    {
     "name": "stderr",
     "output_type": "stream",
     "text": [
      "C:\\Users\\HWAN\\anaconda3\\Lib\\site-packages\\transformers\\tokenization_utils_base.py:1601: FutureWarning: `clean_up_tokenization_spaces` was not set. It will be set to `True` by default. This behavior will be depracted in transformers v4.45, and will be then set to `False` by default. For more details check this issue: https://github.com/huggingface/transformers/issues/31884\n",
      "  warnings.warn(\n"
     ]
    }
   ],
   "source": [
    "import pandas as pd\n",
    "from konlpy.tag import Okt\n",
    "from transformers import BertModel, BertTokenizer\n",
    "import torch\n",
    "from sklearn.metrics.pairwise import cosine_similarity\n",
    "\n",
    "# OKT 형태소 분석기 로드\n",
    "okt = Okt()\n",
    "\n",
    "# KoBERT 모델 및 토크나이저 로드 (KLUE BERT로 변경 가능)\n",
    "tokenizer = BertTokenizer.from_pretrained('klue/bert-base')\n",
    "model = BertModel.from_pretrained('klue/bert-base')\n",
    "\n",
    "# 입력 텍스트를 BERT 입력으로 변환하고 임베딩을 생성하는 함수\n",
    "def get_embedding(text, tokenizer, model):\n",
    "    inputs = tokenizer(text, return_tensors='pt', truncation=True, padding=True)\n",
    "    with torch.no_grad():\n",
    "        outputs = model(**inputs)\n",
    "    return outputs.last_hidden_state[:, 0, :].numpy()\n",
    "\n",
    "# OKT를 사용해 텍스트를 원형으로 변환하는 함수\n",
    "def normalize_text(text):\n",
    "    morphs = okt.morphs(text, stem=True)  # OKT를 사용해 원형으로 변환\n",
    "    return ' '.join(morphs)\n",
    "\n",
    "# 코사인 유사도 계산 함수\n",
    "def cosine_similarity_review_keywords(review, keywords):\n",
    "    review_emb = get_embedding(review, tokenizer, model)\n",
    "    keywords_emb = get_embedding(keywords, tokenizer, model)\n",
    "    return cosine_similarity(review_emb, keywords_emb)[0][0]"
   ]
  },
  {
   "cell_type": "code",
   "execution_count": null,
   "id": "6767bf65-3fbc-4569-a51f-beb72d3753d7",
   "metadata": {},
   "outputs": [],
   "source": [
    "# CSV 파일 불러오기\n",
    "df = pd.read_csv('combined_keywords.csv')\n",
    "\n",
    "# NaN 값 제거\n",
    "df = df.dropna(subset=['Review', 'common_keywords_3_plus'])\n",
    "\n",
    "# 결과 저장을 위한 리스트\n",
    "similarity_scores = []\n",
    "\n",
    "# 리뷰와 키워드 간 유사도 계산\n",
    "for idx, row in df.iterrows():\n",
    "    review = normalize_text(row['Review'])  # 리뷰를 원형으로 변환\n",
    "    keywords = normalize_text(row['common_keywords_3_plus'])  # 키워드도 원형으로 변환\n",
    "    \n",
    "    # 리뷰와 키워드 간 코사인 유사도 계산\n",
    "    similarity = cosine_similarity_review_keywords(review, keywords)\n",
    "    similarity_scores.append(similarity)\n",
    "\n",
    "# 유사도 결과를 데이터프레임으로 저장\n",
    "df['similarity_score'] = similarity_scores\n",
    "\n",
    "# 유사도 결과 출력\n",
    "df[['Review', 'common_keywords_3_plus', 'similarity_score']]"
   ]
  },
  {
   "cell_type": "code",
   "execution_count": null,
   "id": "9564e362-a661-45a6-823f-93e45e4b4b75",
   "metadata": {},
   "outputs": [],
   "source": [
    "# 유사도 결과를 파일로 저장 (선택 사항)\n",
    "df.to_csv('similarity_results.csv', index=False)"
   ]
  },
  {
   "cell_type": "code",
   "execution_count": null,
   "id": "c049e9fa-6f7c-473c-ad02-3e49740cab15",
   "metadata": {},
   "outputs": [],
   "source": []
  },
  {
   "cell_type": "code",
   "execution_count": null,
   "id": "498c3338-f6b7-4ad5-b866-9f9529032450",
   "metadata": {},
   "outputs": [],
   "source": []
  },
  {
   "cell_type": "code",
   "execution_count": null,
   "id": "8b6f3627-a52d-4c6b-9904-09ca975b5d64",
   "metadata": {},
   "outputs": [],
   "source": []
  },
  {
   "cell_type": "code",
   "execution_count": null,
   "id": "1b573a6e-87bb-44fe-9bfa-54dab7701418",
   "metadata": {},
   "outputs": [],
   "source": []
  },
  {
   "cell_type": "code",
   "execution_count": null,
   "id": "922d61f7-69cf-4184-b01b-dd2b994847b5",
   "metadata": {},
   "outputs": [],
   "source": []
  },
  {
   "cell_type": "code",
   "execution_count": null,
   "id": "2b9fcc86-8e19-477f-a968-a085939672f4",
   "metadata": {},
   "outputs": [],
   "source": []
  },
  {
   "cell_type": "code",
   "execution_count": 3,
   "id": "efa66a8e-581d-46e5-a6a3-f2782805f18d",
   "metadata": {},
   "outputs": [
    {
     "name": "stdout",
     "output_type": "stream",
     "text": [
      "파일 1의 'Review' 개수: 927\n",
      "파일 2의 'Review' 개수: 927\n",
      "파일 3의 'Review' 개수: 927\n",
      "파일 4의 'Review' 개수: 927\n",
      "모든 파일의 'Review' 개수가 동일합니다.\n"
     ]
    }
   ],
   "source": [
    "import pandas as pd\n",
    "\n",
    "# 제목만 넣어서 파일을 불러오는 함수\n",
    "def loadfile(title):\n",
    "    # 4개의 파일명을 리스트로 생성 (1~4)\n",
    "    file_paths = [f'{title}_{i}.csv' for i in range(1, 5)]\n",
    "    \n",
    "    # 각 파일을 데이터프레임으로 불러와 리스트에 저장\n",
    "    df_list = [pd.read_csv(file) for file in file_paths]\n",
    "\n",
    "    # 열 이름 변경\n",
    "    df_list[0].rename(columns={'Keyword': 'keyword'}, inplace=True)  # df1의 열 이름 변경\n",
    "    df_list[1].rename(columns={'Processed_Review': 'Review'}, inplace=True)  # df2의 열 이름 변경\n",
    "    \n",
    "    return df_list\n",
    "\n",
    "# 사용 예시\n",
    "dfs = loadfile('saperate_reviews_tags/'+'[2PACK] EL 스트리트 아트워크 오버핏 반팔티 2종 2PACK')\n",
    "\n",
    "# 'Review' 컬럼의 개수 확인 (null 값이 아닌 경우)\n",
    "review_counts = [df['Review'].dropna().shape[0] for df in dfs]\n",
    "\n",
    "# 각 파일의 'Review' 개수 출력\n",
    "for i, count in enumerate(review_counts):\n",
    "    print(f\"파일 {i+1}의 'Review' 개수: {count}\")\n",
    "\n",
    "# 개수가 모두 같은지 검증\n",
    "if len(set(review_counts)) == 1:\n",
    "    print(\"모든 파일의 'Review' 개수가 동일합니다.\")\n",
    "else:\n",
    "    print(\"파일들 간에 'Review' 개수가 다릅니다.\")\n",
    "    # 개수가 다른 경우 상세 출력\n",
    "    for i, count in enumerate(review_counts):\n",
    "        print(f\"파일 {i+1}의 'Review' 개수: {count}개\")\n"
   ]
  },
  {
   "cell_type": "code",
   "execution_count": null,
   "id": "55ea8375-7140-404b-a4f0-9de04ef5264d",
   "metadata": {},
   "outputs": [],
   "source": []
  },
  {
   "cell_type": "code",
   "execution_count": null,
   "id": "808351e1-1cc8-4684-95bd-8654da87691a",
   "metadata": {},
   "outputs": [],
   "source": []
  },
  {
   "cell_type": "code",
   "execution_count": null,
   "id": "06d90f81-01e7-4a22-aad0-90ac67994f33",
   "metadata": {},
   "outputs": [],
   "source": []
  }
 ],
 "metadata": {
  "kernelspec": {
   "display_name": "Python 3 (ipykernel)",
   "language": "python",
   "name": "python3"
  },
  "language_info": {
   "codemirror_mode": {
    "name": "ipython",
    "version": 3
   },
   "file_extension": ".py",
   "mimetype": "text/x-python",
   "name": "python",
   "nbconvert_exporter": "python",
   "pygments_lexer": "ipython3",
   "version": "3.12.3"
  }
 },
 "nbformat": 4,
 "nbformat_minor": 5
}
