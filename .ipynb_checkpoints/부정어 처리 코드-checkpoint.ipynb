{
 "cells": [
  {
   "cell_type": "code",
   "execution_count": 1,
   "id": "a7dad26c-419d-4a2a-b5e9-a95de59d4137",
   "metadata": {},
   "outputs": [],
   "source": [
    "negation_words = ['안', '못', '않다', '말다', '없다', '아니다', '않아요', '안되다']\n"
   ]
  },
  {
   "cell_type": "code",
   "execution_count": 2,
   "id": "4f304837-e2a1-4431-969f-560355af1d56",
   "metadata": {},
   "outputs": [],
   "source": [
    "def detect_negation(text, keyword, negation_words):\n",
    "    words = text.split()\n",
    "    if keyword in words:\n",
    "        keyword_index = words.index(keyword)\n",
    "        if keyword_index > 0 and words[keyword_index - 1] in negation_words:\n",
    "            return True\n",
    "    return False\n"
   ]
  },
  {
   "cell_type": "code",
   "execution_count": 3,
   "id": "0fe54abe-d4d0-44f1-8b3a-5a6b969ae398",
   "metadata": {},
   "outputs": [],
   "source": [
    "def process_negation(text, keyword, negation_words):\n",
    "    if detect_negation(text, keyword, negation_words):\n",
    "        if keyword == '추천':\n",
    "            return '비추천'\n",
    "    return keyword\n"
   ]
  },
  {
   "cell_type": "code",
   "execution_count": 4,
   "id": "e1068a05-5e5d-4359-97b7-61b490150f48",
   "metadata": {},
   "outputs": [
    {
     "name": "stdout",
     "output_type": "stream",
     "text": [
      "Original Keyword: 추천, Processed Keyword: 추천\n",
      "Original Keyword: 디자인, Processed Keyword: 디자인\n",
      "Original Keyword: 사용하기 편리, Processed Keyword: 사용하기 편리\n",
      "Original Keyword: 추천, Processed Keyword: 추천\n",
      "Original Keyword: 디자인, Processed Keyword: 디자인\n",
      "Original Keyword: 사용하기 편리, Processed Keyword: 사용하기 편리\n",
      "Original Keyword: 추천, Processed Keyword: 추천\n",
      "Original Keyword: 디자인, Processed Keyword: 디자인\n",
      "Original Keyword: 사용하기 편리, Processed Keyword: 사용하기 편리\n",
      "Original Keyword: 추천, Processed Keyword: 추천\n",
      "Original Keyword: 디자인, Processed Keyword: 디자인\n",
      "Original Keyword: 사용하기 편리, Processed Keyword: 사용하기 편리\n"
     ]
    }
   ],
   "source": [
    "reviews = ['이 제품 추천하지 않아요', '디자인이 좋지 않다', '추천합니다', '사용하기 편리하지 않아요']\n",
    "keywords = ['추천', '디자인', '사용하기 편리']\n",
    "\n",
    "for review in reviews:\n",
    "    for keyword in keywords:\n",
    "        processed_keyword = process_negation(review, keyword, negation_words)\n",
    "        print(f\"Original Keyword: {keyword}, Processed Keyword: {processed_keyword}\")\n"
   ]
  },
  {
   "cell_type": "code",
   "execution_count": null,
   "id": "db98fc52-8bad-4642-b86a-92cfaf79470c",
   "metadata": {},
   "outputs": [],
   "source": []
  },
  {
   "cell_type": "code",
   "execution_count": null,
   "id": "2ee1e2ed-216c-402e-846a-45d656a9a560",
   "metadata": {},
   "outputs": [],
   "source": []
  },
  {
   "cell_type": "code",
   "execution_count": 5,
   "id": "19759541-1bd0-4a56-b7c3-4ac9f8cdd1b1",
   "metadata": {},
   "outputs": [
    {
     "data": {
      "application/vnd.jupyter.widget-view+json": {
       "model_id": "9491d66d73504dd0ad25203375ae7f1f",
       "version_major": 2,
       "version_minor": 0
      },
      "text/plain": [
       "tokenizer_config.json:   0%|          | 0.00/263 [00:00<?, ?B/s]"
      ]
     },
     "metadata": {},
     "output_type": "display_data"
    },
    {
     "name": "stderr",
     "output_type": "stream",
     "text": [
      "C:\\Users\\HWAN\\anaconda3\\Lib\\site-packages\\huggingface_hub\\file_download.py:159: UserWarning: `huggingface_hub` cache-system uses symlinks by default to efficiently store duplicated files but your machine does not support them in C:\\Users\\HWAN\\.cache\\huggingface\\hub\\models--monologg--kobert. Caching files will still work but in a degraded version that might require more space on your disk. This warning can be disabled by setting the `HF_HUB_DISABLE_SYMLINKS_WARNING` environment variable. For more details, see https://huggingface.co/docs/huggingface_hub/how-to-cache#limitations.\n",
      "To support symlinks on Windows, you either need to activate Developer Mode or to run Python as an administrator. In order to see activate developer mode, see this article: https://docs.microsoft.com/en-us/windows/apps/get-started/enable-your-device-for-development\n",
      "  warnings.warn(message)\n"
     ]
    },
    {
     "data": {
      "application/vnd.jupyter.widget-view+json": {
       "model_id": "f08a628a440e4c1dbde120f2868a293d",
       "version_major": 2,
       "version_minor": 0
      },
      "text/plain": [
       "vocab.txt:   0%|          | 0.00/77.8k [00:00<?, ?B/s]"
      ]
     },
     "metadata": {},
     "output_type": "display_data"
    },
    {
     "name": "stderr",
     "output_type": "stream",
     "text": [
      "The tokenizer class you load from this checkpoint is not the same type as the class this function is called from. It may result in unexpected tokenization. \n",
      "The tokenizer class you load from this checkpoint is 'KoBertTokenizer'. \n",
      "The class this function is called from is 'BertTokenizer'.\n",
      "C:\\Users\\HWAN\\anaconda3\\Lib\\site-packages\\transformers\\tokenization_utils_base.py:1601: FutureWarning: `clean_up_tokenization_spaces` was not set. It will be set to `True` by default. This behavior will be depracted in transformers v4.45, and will be then set to `False` by default. For more details check this issue: https://github.com/huggingface/transformers/issues/31884\n",
      "  warnings.warn(\n"
     ]
    },
    {
     "data": {
      "application/vnd.jupyter.widget-view+json": {
       "model_id": "1cc6eede8e2d44ef98d1ccb7acce2469",
       "version_major": 2,
       "version_minor": 0
      },
      "text/plain": [
       "config.json:   0%|          | 0.00/426 [00:00<?, ?B/s]"
      ]
     },
     "metadata": {},
     "output_type": "display_data"
    },
    {
     "data": {
      "application/vnd.jupyter.widget-view+json": {
       "model_id": "452b432699f2460f91c4c6bd7e55fa07",
       "version_major": 2,
       "version_minor": 0
      },
      "text/plain": [
       "model.safetensors:   0%|          | 0.00/369M [00:00<?, ?B/s]"
      ]
     },
     "metadata": {},
     "output_type": "display_data"
    },
    {
     "name": "stdout",
     "output_type": "stream",
     "text": [
      "Original Keyword: 추천, Processed Keyword: 추천\n",
      "Original Keyword: 디자인, Processed Keyword: 디자인\n"
     ]
    }
   ],
   "source": [
    "from transformers import BertTokenizer, BertModel\n",
    "import torch\n",
    "\n",
    "# 부정어 사전\n",
    "negation_words = ['안', '못', '않다', '말다', '없다', '아니다', '않아요', '안되다']\n",
    "\n",
    "# 부정어 감지 함수\n",
    "def detect_negation(text, keyword, negation_words):\n",
    "    words = text.split()\n",
    "    if keyword in words:\n",
    "        keyword_index = words.index(keyword)\n",
    "        if keyword_index > 0 and words[keyword_index - 1] in negation_words:\n",
    "            return True\n",
    "    return False\n",
    "\n",
    "# 키워드 의미 반전 함수\n",
    "def process_negation(text, keyword, negation_words):\n",
    "    if detect_negation(text, keyword, negation_words):\n",
    "        if keyword == '추천':\n",
    "            return '비추천'\n",
    "    return keyword\n",
    "\n",
    "# KoBERT 모델 및 토크나이저 로드\n",
    "model_name = 'monologg/kobert'\n",
    "tokenizer = BertTokenizer.from_pretrained(model_name)\n",
    "model = BertModel.from_pretrained(model_name)\n",
    "\n",
    "# 입력 리뷰\n",
    "text = \"이 제품은 정말 추천하지 않아요. 디자인이 별로예요.\"\n",
    "\n",
    "# 토큰화 및 입력 데이터 준비\n",
    "inputs = tokenizer(text, return_tensors='pt', truncation=True, padding=True, max_length=128)\n",
    "input_ids = inputs['input_ids']\n",
    "attention_mask = inputs['attention_mask']\n",
    "\n",
    "# KoBERT 모델 추론\n",
    "with torch.no_grad():\n",
    "    outputs = model(input_ids=input_ids, attention_mask=attention_mask)\n",
    "sentence_embedding = outputs.last_hidden_state[:, 0, :]\n",
    "\n",
    "# 예시 키워드 리스트\n",
    "keywords = ['추천', '디자인']\n",
    "\n",
    "# 부정어 사전 적용 및 키워드 처리\n",
    "for keyword in keywords:\n",
    "    processed_keyword = process_negation(text, keyword, negation_words)\n",
    "    print(f\"Original Keyword: {keyword}, Processed Keyword: {processed_keyword}\")\n"
   ]
  },
  {
   "cell_type": "code",
   "execution_count": null,
   "id": "16cbd1e1-c9fe-4033-9d09-afa577929885",
   "metadata": {},
   "outputs": [],
   "source": [
    "나쁘지 않아요 목 늘어남이 좀 있기는 한데 정말 크지도 작지도 않아요 알맞게 떨어지네요 품이 커서 좀 별로이긴 해요 근데 옷이 얇지 않네요 세탁해보니 변형이 안돼서 좋네요 변형 없이 입을 수 있어요 마음에 안들어요 솔직하게 추천하진 않는데 별로지도 않아요 다만 당겨도 안 늘어나는 거 같은 건 좋네요"
   ]
  }
 ],
 "metadata": {
  "kernelspec": {
   "display_name": "Python 3 (ipykernel)",
   "language": "python",
   "name": "python3"
  },
  "language_info": {
   "codemirror_mode": {
    "name": "ipython",
    "version": 3
   },
   "file_extension": ".py",
   "mimetype": "text/x-python",
   "name": "python",
   "nbconvert_exporter": "python",
   "pygments_lexer": "ipython3",
   "version": "3.12.3"
  }
 },
 "nbformat": 4,
 "nbformat_minor": 5
}
