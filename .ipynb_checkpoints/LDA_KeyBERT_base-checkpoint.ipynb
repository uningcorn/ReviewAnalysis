{
 "cells": [
  {
   "cell_type": "code",
   "execution_count": 2,
   "id": "69231c71-7087-4ae5-8cf9-281b7b8bba70",
   "metadata": {},
   "outputs": [
    {
     "name": "stdout",
     "output_type": "stream",
     "text": [
      "('정말 훌륭합니다', 0.7644)\n",
      "('대비 성능이', 0.7442)\n",
      "('디자인도 매우', 0.7338)\n",
      "('훌륭합니다 가격', 0.7072)\n",
      "('성능이 좋고', 0.7012)\n"
     ]
    }
   ],
   "source": [
    "from keybert import KeyBERT\n",
    "\n",
    "# KeyBERT 모델 불러오기 (기본적으로 사전 학습된 BERT 모델 사용)\n",
    "kw_model = KeyBERT()\n",
    "\n",
    "# 한글 리뷰 텍스트\n",
    "doc = \"\"\"\n",
    "이 제품은 정말 훌륭합니다. 가격 대비 성능이 좋고, 디자인도 매우 세련되었습니다. 다만, 배터리 수명이 좀 짧은 것이 아쉽습니다.\n",
    "\"\"\"\n",
    "\n",
    "# 키워드 추출\n",
    "keywords = kw_model.extract_keywords(doc, keyphrase_ngram_range=(1, 2), stop_words=None, top_n=5)\n",
    "\n",
    "# 결과 출력\n",
    "for keyword in keywords:\n",
    "    print(keyword)\n"
   ]
  },
  {
   "cell_type": "code",
   "execution_count": 4,
   "id": "4b65da33-4fb3-435a-90de-20451c2cec38",
   "metadata": {},
   "outputs": [],
   "source": [
    "from keybert import KeyBERT\n",
    "from transformers import pipeline\n",
    "\n",
    "# KeyBERT 모델 불러오기\n",
    "kw_model = KeyBERT()\n",
    "\n",
    "# 감정 분석 모델 불러오기 (한국어 감정 분석 모델 Hugging Face 사용)\n",
    "sentiment_analyzer = pipeline(\"sentiment-analysis\", model=\"nlptown/bert-base-multilingual-uncased-sentiment\")\n",
    "\n",
    "# 한글 리뷰 텍스트\n",
    "doc = \"\"\"\n",
    "이 제품은 정말 훌륭합니다. 가격 대비 성능이 좋고, 디자인도 매우 세련되었습니다. 다만, 배터리 수명이 좀 짧은 것이 아쉽습니다.\n",
    "\"\"\"\n",
    "\n",
    "# 키워드 추출\n",
    "keywords = kw_model.extract_keywords(doc, keyphrase_ngram_range=(1, 2), stop_words=None, top_n=5)\n",
    "\n",
    "# 결과 출력 (키워드와 부정 점수 출력)\n",
    "for keyword, score in keywords:\n",
    "    sentiment = sentiment_analyzer(keyword)[0]\n",
    "    sentiment_score = sentiment['score']\n",
    "    sentiment_label = sentiment['label']\n",
    "    \n",
    "    # 감정 분석 결과가 부정적이면 출력\n",
    "    if \"negative\" in sentiment_label.lower():\n",
    "        print(f\"키워드: {keyword}, 중요도 점수: {score}, 부정 점수: {sentiment_score}, 감정: {sentiment_label}\")\n"
   ]
  },
  {
   "cell_type": "code",
   "execution_count": 5,
   "id": "bfc4b538-b687-4b92-8a50-e1e906829ae9",
   "metadata": {},
   "outputs": [
    {
     "name": "stdout",
     "output_type": "stream",
     "text": [
      "키워드: 정말 훌륭합니다, 중요도 점수: 0.7644, 감정 점수: 0.6460, 감정: 5 stars\n",
      "키워드: 대비 성능이, 중요도 점수: 0.7442, 감정 점수: 0.3548, 감정: 4 stars\n",
      "키워드: 디자인도 매우, 중요도 점수: 0.7338, 감정 점수: 0.3271, 감정: 4 stars\n",
      "키워드: 훌륭합니다 가격, 중요도 점수: 0.7072, 감정 점수: 0.4895, 감정: 5 stars\n",
      "키워드: 성능이 좋고, 중요도 점수: 0.7012, 감정 점수: 0.4389, 감정: 4 stars\n"
     ]
    }
   ],
   "source": [
    "from keybert import KeyBERT\n",
    "from transformers import pipeline\n",
    "\n",
    "# KeyBERT 모델 불러오기\n",
    "kw_model = KeyBERT()\n",
    "\n",
    "# 감정 분석 모델 불러오기 (한국어 감정 분석 모델 Hugging Face 사용)\n",
    "sentiment_analyzer = pipeline(\"sentiment-analysis\", model=\"nlptown/bert-base-multilingual-uncased-sentiment\")\n",
    "\n",
    "# 한글 리뷰 텍스트\n",
    "doc = \"\"\"\n",
    "이 제품은 정말 훌륭합니다. 가격 대비 성능이 좋고, 디자인도 매우 세련되었습니다. 다만, 배터리 수명이 좀 짧은 것이 아쉽습니다.\n",
    "\"\"\"\n",
    "\n",
    "# 키워드 추출\n",
    "keywords = kw_model.extract_keywords(doc, keyphrase_ngram_range=(1, 2), stop_words=None, top_n=5)\n",
    "\n",
    "# 결과 출력 (키워드와 감정 점수 모두 출력)\n",
    "for keyword, score in keywords:\n",
    "    sentiment = sentiment_analyzer(keyword)[0]\n",
    "    sentiment_score = sentiment['score']\n",
    "    sentiment_label = sentiment['label']\n",
    "    \n",
    "    print(f\"키워드: {keyword}, 중요도 점수: {score:.4f}, 감정 점수: {sentiment_score:.4f}, 감정: {sentiment_label}\")\n",
    "    \n",
    "    # 감정이 부정적인 경우를 확인\n",
    "    if \"negative\" in sentiment_label.lower():\n",
    "        print(f\"부정적인 키워드 발견: {keyword}\")\n"
   ]
  },
  {
   "cell_type": "code",
   "execution_count": 9,
   "id": "745bc48d-63ec-4dd0-b950-9cbc670d7c76",
   "metadata": {},
   "outputs": [],
   "source": [
    "from konlpy.tag import Okt\n",
    "from gensim import corpora\n",
    "from gensim.models.ldamodel import LdaModel\n",
    "import pandas as pd"
   ]
  },
  {
   "cell_type": "code",
   "execution_count": 10,
   "id": "bfb36aa9-196e-43e8-87d0-d44b5d970fd3",
   "metadata": {
    "scrolled": true
   },
   "outputs": [
    {
     "data": {
      "text/html": [
       "<div>\n",
       "<style scoped>\n",
       "    .dataframe tbody tr th:only-of-type {\n",
       "        vertical-align: middle;\n",
       "    }\n",
       "\n",
       "    .dataframe tbody tr th {\n",
       "        vertical-align: top;\n",
       "    }\n",
       "\n",
       "    .dataframe thead th {\n",
       "        text-align: right;\n",
       "    }\n",
       "</style>\n",
       "<table border=\"1\" class=\"dataframe\">\n",
       "  <thead>\n",
       "    <tr style=\"text-align: right;\">\n",
       "      <th></th>\n",
       "      <th>Review</th>\n",
       "      <th>Star</th>\n",
       "    </tr>\n",
       "  </thead>\n",
       "  <tbody>\n",
       "    <tr>\n",
       "      <th>0</th>\n",
       "      <td>임산부라;; 울퉁불퉁 한데 M사이즈 편하게 잘 맞고 부드럽고 좋아요 주머니도 있어서...</td>\n",
       "      <td>5.0</td>\n",
       "    </tr>\n",
       "    <tr>\n",
       "      <th>1</th>\n",
       "      <td>허리가 살짝 큰데 끈으로 조이면 되고\\n주머니가 있어서 편하고 좋아요~</td>\n",
       "      <td>5.0</td>\n",
       "    </tr>\n",
       "    <tr>\n",
       "      <th>2</th>\n",
       "      <td>요즘 살쪄서 편하게 입을 치마 찾다가 샀는데 편하고 조아여 옆트임때매 핏이 이상해보...</td>\n",
       "      <td>5.0</td>\n",
       "    </tr>\n",
       "    <tr>\n",
       "      <th>3</th>\n",
       "      <td>배송은 토요일에 시켰는데 화요일에 와서 빠르게 온 것 같구요 받자마자 입어봤는데 너...</td>\n",
       "      <td>5.0</td>\n",
       "    </tr>\n",
       "    <tr>\n",
       "      <th>4</th>\n",
       "      <td>살짝 큰감잇는데 여유잇어서 오히려좋아요 옆트임잇어서 활동성도좋고 포인트도되고 예쁘네용</td>\n",
       "      <td>5.0</td>\n",
       "    </tr>\n",
       "    <tr>\n",
       "      <th>...</th>\n",
       "      <td>...</td>\n",
       "      <td>...</td>\n",
       "    </tr>\n",
       "    <tr>\n",
       "      <th>1003</th>\n",
       "      <td>사이즈도 딱이고 재질도 너무 좋아요 여름에도 입을 수 있을것 같아요</td>\n",
       "      <td>5.0</td>\n",
       "    </tr>\n",
       "    <tr>\n",
       "      <th>1004</th>\n",
       "      <td>너무 마음에 듭니다 사이즈도 딱이고 재질도 너무 좋아요 여름에도 입을 수 있을것같아요</td>\n",
       "      <td>5.0</td>\n",
       "    </tr>\n",
       "    <tr>\n",
       "      <th>1005</th>\n",
       "      <td>색상도 좋구요\\n원단과 핏도 원하던바라\\n마음에 드네요</td>\n",
       "      <td>5.0</td>\n",
       "    </tr>\n",
       "    <tr>\n",
       "      <th>1006</th>\n",
       "      <td>편하고 좋아요 길이감도 적당하고 옆으로 트여서 활동성이 좋아요</td>\n",
       "      <td>5.0</td>\n",
       "    </tr>\n",
       "    <tr>\n",
       "      <th>1007</th>\n",
       "      <td>일단 배송 빨라서 넘 맘에 들었구요 낮엔 좀 더울수도 있는데 밤에 입기 좋을거 같구...</td>\n",
       "      <td>5.0</td>\n",
       "    </tr>\n",
       "  </tbody>\n",
       "</table>\n",
       "<p>1008 rows × 2 columns</p>\n",
       "</div>"
      ],
      "text/plain": [
       "                                                 Review  Star\n",
       "0     임산부라;; 울퉁불퉁 한데 M사이즈 편하게 잘 맞고 부드럽고 좋아요 주머니도 있어서...   5.0\n",
       "1               허리가 살짝 큰데 끈으로 조이면 되고\\n주머니가 있어서 편하고 좋아요~   5.0\n",
       "2     요즘 살쪄서 편하게 입을 치마 찾다가 샀는데 편하고 조아여 옆트임때매 핏이 이상해보...   5.0\n",
       "3     배송은 토요일에 시켰는데 화요일에 와서 빠르게 온 것 같구요 받자마자 입어봤는데 너...   5.0\n",
       "4       살짝 큰감잇는데 여유잇어서 오히려좋아요 옆트임잇어서 활동성도좋고 포인트도되고 예쁘네용   5.0\n",
       "...                                                 ...   ...\n",
       "1003              사이즈도 딱이고 재질도 너무 좋아요 여름에도 입을 수 있을것 같아요   5.0\n",
       "1004    너무 마음에 듭니다 사이즈도 딱이고 재질도 너무 좋아요 여름에도 입을 수 있을것같아요   5.0\n",
       "1005                     색상도 좋구요\\n원단과 핏도 원하던바라\\n마음에 드네요   5.0\n",
       "1006                 편하고 좋아요 길이감도 적당하고 옆으로 트여서 활동성이 좋아요   5.0\n",
       "1007  일단 배송 빨라서 넘 맘에 들었구요 낮엔 좀 더울수도 있는데 밤에 입기 좋을거 같구...   5.0\n",
       "\n",
       "[1008 rows x 2 columns]"
      ]
     },
     "execution_count": 10,
     "metadata": {},
     "output_type": "execute_result"
    }
   ],
   "source": [
    "df = pd.read_csv('reviews_1324169.csv')\n",
    "df"
   ]
  },
  {
   "cell_type": "code",
   "execution_count": 11,
   "id": "48661f22-7b0e-4aeb-a4f0-83df974e086d",
   "metadata": {},
   "outputs": [],
   "source": [
    "# 전처리 코드 정의\n",
    "def clean_review_column(df, column_name):\n",
    "    # '\\n'을 제거하고 한글 자모 및 구두점 제거\n",
    "    df[column_name] = df[column_name].str.replace('\\n', ' ', regex=False)  # 개행 문자 제거\n",
    "    df[column_name] = df[column_name].str.replace(r'[ㄱ-ㅎㅏ-ㅣ]+', ' ', regex=True)  # 한글 자모 제거\n",
    "    df[column_name] = df[column_name].str.replace(r'[^\\w\\s]', ' ', regex=True)  # 특정 구두점 제거\n",
    "    \n",
    "    # 여러 공백을 한 칸으로 변환\n",
    "    df[column_name] = df[column_name].str.replace(r'\\s+', ' ', regex=True)  # 여러 개의 공백을 한 칸으로 변환\n",
    "\n",
    "    return df"
   ]
  },
  {
   "cell_type": "code",
   "execution_count": 12,
   "id": "1339b5cd-06b3-402d-980d-4dddbbecb4c9",
   "metadata": {
    "scrolled": true
   },
   "outputs": [
    {
     "data": {
      "text/html": [
       "<div>\n",
       "<style scoped>\n",
       "    .dataframe tbody tr th:only-of-type {\n",
       "        vertical-align: middle;\n",
       "    }\n",
       "\n",
       "    .dataframe tbody tr th {\n",
       "        vertical-align: top;\n",
       "    }\n",
       "\n",
       "    .dataframe thead th {\n",
       "        text-align: right;\n",
       "    }\n",
       "</style>\n",
       "<table border=\"1\" class=\"dataframe\">\n",
       "  <thead>\n",
       "    <tr style=\"text-align: right;\">\n",
       "      <th></th>\n",
       "      <th>Review</th>\n",
       "      <th>Star</th>\n",
       "    </tr>\n",
       "  </thead>\n",
       "  <tbody>\n",
       "    <tr>\n",
       "      <th>0</th>\n",
       "      <td>임산부라 울퉁불퉁 한데 M사이즈 편하게 잘 맞고 부드럽고 좋아요 주머니도 있어서 조아요</td>\n",
       "      <td>5.0</td>\n",
       "    </tr>\n",
       "    <tr>\n",
       "      <th>1</th>\n",
       "      <td>허리가 살짝 큰데 끈으로 조이면 되고 주머니가 있어서 편하고 좋아요</td>\n",
       "      <td>5.0</td>\n",
       "    </tr>\n",
       "    <tr>\n",
       "      <th>2</th>\n",
       "      <td>요즘 살쪄서 편하게 입을 치마 찾다가 샀는데 편하고 조아여 옆트임때매 핏이 이상해보...</td>\n",
       "      <td>5.0</td>\n",
       "    </tr>\n",
       "    <tr>\n",
       "      <th>3</th>\n",
       "      <td>배송은 토요일에 시켰는데 화요일에 와서 빠르게 온 것 같구요 받자마자 입어봤는데 너...</td>\n",
       "      <td>5.0</td>\n",
       "    </tr>\n",
       "    <tr>\n",
       "      <th>4</th>\n",
       "      <td>살짝 큰감잇는데 여유잇어서 오히려좋아요 옆트임잇어서 활동성도좋고 포인트도되고 예쁘네용</td>\n",
       "      <td>5.0</td>\n",
       "    </tr>\n",
       "    <tr>\n",
       "      <th>...</th>\n",
       "      <td>...</td>\n",
       "      <td>...</td>\n",
       "    </tr>\n",
       "    <tr>\n",
       "      <th>1003</th>\n",
       "      <td>사이즈도 딱이고 재질도 너무 좋아요 여름에도 입을 수 있을것 같아요</td>\n",
       "      <td>5.0</td>\n",
       "    </tr>\n",
       "    <tr>\n",
       "      <th>1004</th>\n",
       "      <td>너무 마음에 듭니다 사이즈도 딱이고 재질도 너무 좋아요 여름에도 입을 수 있을것같아요</td>\n",
       "      <td>5.0</td>\n",
       "    </tr>\n",
       "    <tr>\n",
       "      <th>1005</th>\n",
       "      <td>색상도 좋구요 원단과 핏도 원하던바라 마음에 드네요</td>\n",
       "      <td>5.0</td>\n",
       "    </tr>\n",
       "    <tr>\n",
       "      <th>1006</th>\n",
       "      <td>편하고 좋아요 길이감도 적당하고 옆으로 트여서 활동성이 좋아요</td>\n",
       "      <td>5.0</td>\n",
       "    </tr>\n",
       "    <tr>\n",
       "      <th>1007</th>\n",
       "      <td>일단 배송 빨라서 넘 맘에 들었구요 낮엔 좀 더울수도 있는데 밤에 입기 좋을거 같구...</td>\n",
       "      <td>5.0</td>\n",
       "    </tr>\n",
       "  </tbody>\n",
       "</table>\n",
       "<p>1008 rows × 2 columns</p>\n",
       "</div>"
      ],
      "text/plain": [
       "                                                 Review  Star\n",
       "0      임산부라 울퉁불퉁 한데 M사이즈 편하게 잘 맞고 부드럽고 좋아요 주머니도 있어서 조아요   5.0\n",
       "1                허리가 살짝 큰데 끈으로 조이면 되고 주머니가 있어서 편하고 좋아요    5.0\n",
       "2     요즘 살쪄서 편하게 입을 치마 찾다가 샀는데 편하고 조아여 옆트임때매 핏이 이상해보...   5.0\n",
       "3     배송은 토요일에 시켰는데 화요일에 와서 빠르게 온 것 같구요 받자마자 입어봤는데 너...   5.0\n",
       "4       살짝 큰감잇는데 여유잇어서 오히려좋아요 옆트임잇어서 활동성도좋고 포인트도되고 예쁘네용   5.0\n",
       "...                                                 ...   ...\n",
       "1003              사이즈도 딱이고 재질도 너무 좋아요 여름에도 입을 수 있을것 같아요   5.0\n",
       "1004    너무 마음에 듭니다 사이즈도 딱이고 재질도 너무 좋아요 여름에도 입을 수 있을것같아요   5.0\n",
       "1005                       색상도 좋구요 원단과 핏도 원하던바라 마음에 드네요   5.0\n",
       "1006                 편하고 좋아요 길이감도 적당하고 옆으로 트여서 활동성이 좋아요   5.0\n",
       "1007  일단 배송 빨라서 넘 맘에 들었구요 낮엔 좀 더울수도 있는데 밤에 입기 좋을거 같구...   5.0\n",
       "\n",
       "[1008 rows x 2 columns]"
      ]
     },
     "execution_count": 12,
     "metadata": {},
     "output_type": "execute_result"
    }
   ],
   "source": [
    "df = clean_review_column(df, 'Review')\n",
    "df"
   ]
  },
  {
   "cell_type": "code",
   "execution_count": 16,
   "id": "a4abb94d-41f1-4319-92db-a180761edaaf",
   "metadata": {},
   "outputs": [
    {
     "data": {
      "text/plain": [
       "0"
      ]
     },
     "execution_count": 16,
     "metadata": {},
     "output_type": "execute_result"
    }
   ],
   "source": [
    "df['Review'].isnull().sum()"
   ]
  },
  {
   "cell_type": "code",
   "execution_count": 17,
   "id": "079961f7-b4ce-4e3a-b691-14c3e950fe46",
   "metadata": {},
   "outputs": [],
   "source": [
    "documents = df['Review']"
   ]
  },
  {
   "cell_type": "code",
   "execution_count": 18,
   "id": "94a69e86-88c5-474e-bc35-e2cc8f6c48de",
   "metadata": {},
   "outputs": [
    {
     "name": "stdout",
     "output_type": "stream",
     "text": [
      "토픽 0: 0.032*\"재질\" + 0.029*\"사이즈\" + 0.022*\"것\" + 0.017*\"입\"\n",
      "토픽 1: 0.030*\"구매\" + 0.028*\"사이즈\" + 0.024*\"허리\" + 0.021*\"길이\"\n",
      "토픽 2: 0.023*\"사이즈\" + 0.021*\"좀\" + 0.021*\"더\" + 0.021*\"허리\"\n"
     ]
    }
   ],
   "source": [
    "# 한글 형태소 분석기 Okt 사용\n",
    "okt = Okt()\n",
    "\n",
    "# 1. 형태소 분석 및 불용어 처리\n",
    "def preprocess(text):\n",
    "    tokens = okt.nouns(text)  # 명사만 추출\n",
    "    stop_words = ['이', '그', '저', '그리고', '하지만']  # 불용어 추가\n",
    "    return [word for word in tokens if word not in stop_words]\n",
    "\n",
    "# 문서에 대해 전처리 수행\n",
    "processed_docs = [preprocess(doc) for doc in documents]\n",
    "\n",
    "# 2. 단어 사전 및 말뭉치(corpus) 생성\n",
    "dictionary = corpora.Dictionary(processed_docs)\n",
    "corpus = [dictionary.doc2bow(doc) for doc in processed_docs]\n",
    "\n",
    "# 3. LDA 모델 학습\n",
    "lda_model = LdaModel(corpus=corpus, id2word=dictionary, num_topics=3, random_state=42, passes=10)\n",
    "\n",
    "# 4. 각 토픽 출력\n",
    "topics = lda_model.print_topics(num_words=4)\n",
    "for idx, topic in topics:\n",
    "    print(f\"토픽 {idx}: {topic}\")"
   ]
  },
  {
   "cell_type": "code",
   "execution_count": null,
   "id": "634880d9-402a-42bf-8804-9bf25cccd177",
   "metadata": {},
   "outputs": [],
   "source": [
    "text = '임산부라 울퉁불퉁 한데 M사이즈 편하게 잘 맞고 부드럽고 좋아요 주머니도 있어서 조아요'\n",
    "\n",
    "# 형태소\n",
    "okt.morphs(text)\n",
    "okt.morphs(text, stem=True)"
   ]
  }
 ],
 "metadata": {
  "kernelspec": {
   "display_name": "Python 3 (ipykernel)",
   "language": "python",
   "name": "python3"
  },
  "language_info": {
   "codemirror_mode": {
    "name": "ipython",
    "version": 3
   },
   "file_extension": ".py",
   "mimetype": "text/x-python",
   "name": "python",
   "nbconvert_exporter": "python",
   "pygments_lexer": "ipython3",
   "version": "3.12.3"
  }
 },
 "nbformat": 4,
 "nbformat_minor": 5
}
