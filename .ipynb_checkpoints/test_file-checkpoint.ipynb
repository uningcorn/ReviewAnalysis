{
 "cells": [
  {
   "cell_type": "code",
   "execution_count": 1,
   "id": "4f4337db-2eda-4534-9215-203feb954e88",
   "metadata": {},
   "outputs": [],
   "source": [
    "import pandas as pd\n",
    "\n",
    "summary_df = pd.read_csv('overall_summary_updated.csv')"
   ]
  },
  {
   "cell_type": "code",
   "execution_count": 4,
   "id": "a02f42aa-9dd2-4d6b-9a4a-8b530bb8b60a",
   "metadata": {},
   "outputs": [
    {
     "data": {
      "text/html": [
       "<div>\n",
       "<style scoped>\n",
       "    .dataframe tbody tr th:only-of-type {\n",
       "        vertical-align: middle;\n",
       "    }\n",
       "\n",
       "    .dataframe tbody tr th {\n",
       "        vertical-align: top;\n",
       "    }\n",
       "\n",
       "    .dataframe thead th {\n",
       "        text-align: right;\n",
       "    }\n",
       "</style>\n",
       "<table border=\"1\" class=\"dataframe\">\n",
       "  <thead>\n",
       "    <tr style=\"text-align: right;\">\n",
       "      <th></th>\n",
       "      <th>Product ID</th>\n",
       "      <th>Title</th>\n",
       "      <th>Review Count</th>\n",
       "      <th>Brand Name</th>\n",
       "    </tr>\n",
       "  </thead>\n",
       "  <tbody>\n",
       "    <tr>\n",
       "      <th>0</th>\n",
       "      <td>1875663</td>\n",
       "      <td>[쿨탠다드] 우먼즈 피케 폴로 원피스 [블랙]</td>\n",
       "      <td>1002</td>\n",
       "      <td>무신사 스탠다드 우먼</td>\n",
       "    </tr>\n",
       "    <tr>\n",
       "      <th>1</th>\n",
       "      <td>3977452</td>\n",
       "      <td>GIRLFRIEND SLEEVELESS MINI DRESS (BLACK)</td>\n",
       "      <td>227</td>\n",
       "      <td>글로니</td>\n",
       "    </tr>\n",
       "    <tr>\n",
       "      <th>2</th>\n",
       "      <td>1875664</td>\n",
       "      <td>[쿨탠다드] 우먼즈 피케 폴로 원피스 [네이비]</td>\n",
       "      <td>1004</td>\n",
       "      <td>무신사 스탠다드 우먼</td>\n",
       "    </tr>\n",
       "    <tr>\n",
       "      <th>3</th>\n",
       "      <td>4018731</td>\n",
       "      <td>레이스 리본 마이크로 미니 쇼츠 팬츠 스커트 [화이트]</td>\n",
       "      <td>401</td>\n",
       "      <td>플레이스 스튜디오</td>\n",
       "    </tr>\n",
       "    <tr>\n",
       "      <th>4</th>\n",
       "      <td>3977488</td>\n",
       "      <td>GIRLFRIEND SLEEVELESS MINI DRESS (WHITE)</td>\n",
       "      <td>165</td>\n",
       "      <td>글로니</td>\n",
       "    </tr>\n",
       "    <tr>\n",
       "      <th>5</th>\n",
       "      <td>2551401</td>\n",
       "      <td>우먼즈 슬릿 미니 스코츠 [블랙]</td>\n",
       "      <td>1006</td>\n",
       "      <td>무신사 스탠다드 우먼</td>\n",
       "    </tr>\n",
       "    <tr>\n",
       "      <th>6</th>\n",
       "      <td>2978106</td>\n",
       "      <td>우먼즈 카고 맥시 스커트 [라이트 베이지]</td>\n",
       "      <td>816</td>\n",
       "      <td>무신사 스탠다드 우먼</td>\n",
       "    </tr>\n",
       "    <tr>\n",
       "      <th>7</th>\n",
       "      <td>3295891</td>\n",
       "      <td>RODEO TIERED RUFFLE SKIRT (BABY BLUE)</td>\n",
       "      <td>236</td>\n",
       "      <td>글로니</td>\n",
       "    </tr>\n",
       "    <tr>\n",
       "      <th>8</th>\n",
       "      <td>1645762</td>\n",
       "      <td>우먼즈 데님 미디 스커트 [크림]</td>\n",
       "      <td>956</td>\n",
       "      <td>무신사 스탠다드 우먼</td>\n",
       "    </tr>\n",
       "    <tr>\n",
       "      <th>9</th>\n",
       "      <td>1944554</td>\n",
       "      <td>우먼즈 데님 미니 스커트 [워시드 블랙]</td>\n",
       "      <td>1014</td>\n",
       "      <td>무신사 스탠다드 우먼</td>\n",
       "    </tr>\n",
       "  </tbody>\n",
       "</table>\n",
       "</div>"
      ],
      "text/plain": [
       "   Product ID                                     Title  Review Count  \\\n",
       "0     1875663                 [쿨탠다드] 우먼즈 피케 폴로 원피스 [블랙]          1002   \n",
       "1     3977452  GIRLFRIEND SLEEVELESS MINI DRESS (BLACK)           227   \n",
       "2     1875664                [쿨탠다드] 우먼즈 피케 폴로 원피스 [네이비]          1004   \n",
       "3     4018731            레이스 리본 마이크로 미니 쇼츠 팬츠 스커트 [화이트]           401   \n",
       "4     3977488  GIRLFRIEND SLEEVELESS MINI DRESS (WHITE)           165   \n",
       "5     2551401                        우먼즈 슬릿 미니 스코츠 [블랙]          1006   \n",
       "6     2978106                   우먼즈 카고 맥시 스커트 [라이트 베이지]           816   \n",
       "7     3295891     RODEO TIERED RUFFLE SKIRT (BABY BLUE)           236   \n",
       "8     1645762                        우먼즈 데님 미디 스커트 [크림]           956   \n",
       "9     1944554                    우먼즈 데님 미니 스커트 [워시드 블랙]          1014   \n",
       "\n",
       "    Brand Name  \n",
       "0  무신사 스탠다드 우먼  \n",
       "1          글로니  \n",
       "2  무신사 스탠다드 우먼  \n",
       "3    플레이스 스튜디오  \n",
       "4          글로니  \n",
       "5  무신사 스탠다드 우먼  \n",
       "6  무신사 스탠다드 우먼  \n",
       "7          글로니  \n",
       "8  무신사 스탠다드 우먼  \n",
       "9  무신사 스탠다드 우먼  "
      ]
     },
     "execution_count": 4,
     "metadata": {},
     "output_type": "execute_result"
    }
   ],
   "source": [
    "summary_df.head(10)"
   ]
  },
  {
   "cell_type": "code",
   "execution_count": 7,
   "id": "480aaf62-39e3-44ef-aa2e-07d3b41f6aa8",
   "metadata": {},
   "outputs": [
    {
     "data": {
      "text/plain": [
       "[1875663,\n",
       " 3977452,\n",
       " 1875664,\n",
       " 4018731,\n",
       " 3977488,\n",
       " 2551401,\n",
       " 2978106,\n",
       " 3295891,\n",
       " 1645762,\n",
       " 1944554]"
      ]
     },
     "execution_count": 7,
     "metadata": {},
     "output_type": "execute_result"
    }
   ],
   "source": [
    "summary_df['Product ID'].head(10).tolist()"
   ]
  },
  {
   "cell_type": "code",
   "execution_count": 8,
   "id": "35fea04e-2fca-4d6e-92c8-4408f3dbec4b",
   "metadata": {},
   "outputs": [
    {
     "ename": "IndentationError",
     "evalue": "unexpected indent (3440509215.py, line 2)",
     "output_type": "error",
     "traceback": [
      "\u001b[1;36m  Cell \u001b[1;32mIn[8], line 2\u001b[1;36m\u001b[0m\n\u001b[1;33m    '[SET] 워셔블 케이블 반팔 니트 세트',\u001b[0m\n\u001b[1;37m    ^\u001b[0m\n\u001b[1;31mIndentationError\u001b[0m\u001b[1;31m:\u001b[0m unexpected indent\n"
     ]
    }
   ],
   "source": [
    "'DOODLE HEART HALF T WHITE GREYISH BLUE',\n",
    " '[SET] 워셔블 케이블 반팔 니트 세트',\n",
    " '[2PACK] 쿨 코튼 티셔츠 블랙+화이트',\n",
    " '[3천원 결제혜택]링클 체크 박시 오버핏 롤업 하프 셔츠 다크 네이비',\n",
    " '460G 컷 헤비 피그먼트 티셔츠-차콜-',\n",
    " '[16수 코마사] 2PACK SMALL ARCH T-SHIRT WHITE / BLACK',\n",
    " '빈티지 워싱 네이비 체크셔츠',\n",
    " '[3PACK] 에어쿨링 드라이 기능성 무지 반팔티',\n",
    " 'TAG OG TEE - WHITE',\n",
    " '[2PACK] EL 스트리트 아트워크 오버핏 반팔티 2종 2PACK'\n",
    "\n",
    "[1875663,\n",
    " 3977452,\n",
    " 1875664,\n",
    " 4018731,\n",
    " 3977488,\n",
    " 2551401,\n",
    " 2978106,\n",
    " 3295891,\n",
    " 1645762,\n",
    " 1944554]\n",
    "\n",
    "'Deep One Tuck Sweat Shorts [Grey]',\n",
    " '바이오워싱 카펜터 버뮤다 데님 팬츠_라이트블루',\n",
    " '데미지 워시드 데님 팬츠-미디엄 블루(Cool Air)',\n",
    " 'Wide Cargo Half Denim Pants - 5COL',\n",
    " 'Deep One Tuck Sweat Shorts [Black]',\n",
    " '[쿨탠다드] 세미 와이드 히든 밴딩 슬랙스 [블랙]',\n",
    " '버뮤다 와이드 원턱 스웨트 쇼츠 [그레이]',\n",
    " '캣 브러쉬 워시드 버뮤다 데님 쇼츠 (SAND BLUE)',\n",
    " '캣 브러쉬 워시드 버뮤다 데님 쇼츠 (NORMAL BLACK)',\n",
    " 'Deep One Tuck Sweat Pants [Grey]'\n",
    "\n",
    "['[무료반품]베켄바우어 트랙탑 - 인디고 / IP0418',\n",
    " '파이어버드 트랙탑 - 블랙 / IJ7058',\n",
    " 'ASI 포시즌 에센셜 피그먼트 후드집업_차콜 그레이', \n",
    " '[무료반품]베켄바우어 트랙탑 - 블랙:화이트 / II5763',\n",
    " '2WAY 스웻 후드 집업 (MELANGE GREY)',\n",
    " '[유튜버 PICK]FR-40S 프렌치 워크 5P 자켓_Military Navy', \n",
    "'[쿨탠다드] 릴렉스드 베이식 블레이저 [블랙]',\n",
    " '시어 후드 베스트 블랙',\n",
    "'[SAINT YEAR] 세미 오버 핏 셋업 수트_GREY',\n",
    "'MATIN KIM LOGO COATING JUMPER IN BLACK']"
   ]
  },
  {
   "cell_type": "code",
   "execution_count": 9,
   "id": "b1918b66-366e-4fd6-b88a-54f582ffbc9c",
   "metadata": {},
   "outputs": [
    {
     "ename": "FileNotFoundError",
     "evalue": "[Errno 2] No such file or directory: 'oveDOODLE HEART HALF T WHITE GREYISH BLUE_3.csv'",
     "output_type": "error",
     "traceback": [
      "\u001b[1;31m---------------------------------------------------------------------------\u001b[0m",
      "\u001b[1;31mFileNotFoundError\u001b[0m                         Traceback (most recent call last)",
      "Cell \u001b[1;32mIn[9], line 1\u001b[0m\n\u001b[1;32m----> 1\u001b[0m df \u001b[38;5;241m=\u001b[39m pd\u001b[38;5;241m.\u001b[39mread_csv(\u001b[38;5;124m'\u001b[39m\u001b[38;5;124moveDOODLE HEART HALF T WHITE GREYISH BLUE_3.csv\u001b[39m\u001b[38;5;124m'\u001b[39m)\n",
      "File \u001b[1;32m~\\anaconda3\\Lib\\site-packages\\pandas\\io\\parsers\\readers.py:1026\u001b[0m, in \u001b[0;36mread_csv\u001b[1;34m(filepath_or_buffer, sep, delimiter, header, names, index_col, usecols, dtype, engine, converters, true_values, false_values, skipinitialspace, skiprows, skipfooter, nrows, na_values, keep_default_na, na_filter, verbose, skip_blank_lines, parse_dates, infer_datetime_format, keep_date_col, date_parser, date_format, dayfirst, cache_dates, iterator, chunksize, compression, thousands, decimal, lineterminator, quotechar, quoting, doublequote, escapechar, comment, encoding, encoding_errors, dialect, on_bad_lines, delim_whitespace, low_memory, memory_map, float_precision, storage_options, dtype_backend)\u001b[0m\n\u001b[0;32m   1013\u001b[0m kwds_defaults \u001b[38;5;241m=\u001b[39m _refine_defaults_read(\n\u001b[0;32m   1014\u001b[0m     dialect,\n\u001b[0;32m   1015\u001b[0m     delimiter,\n\u001b[1;32m   (...)\u001b[0m\n\u001b[0;32m   1022\u001b[0m     dtype_backend\u001b[38;5;241m=\u001b[39mdtype_backend,\n\u001b[0;32m   1023\u001b[0m )\n\u001b[0;32m   1024\u001b[0m kwds\u001b[38;5;241m.\u001b[39mupdate(kwds_defaults)\n\u001b[1;32m-> 1026\u001b[0m \u001b[38;5;28;01mreturn\u001b[39;00m _read(filepath_or_buffer, kwds)\n",
      "File \u001b[1;32m~\\anaconda3\\Lib\\site-packages\\pandas\\io\\parsers\\readers.py:620\u001b[0m, in \u001b[0;36m_read\u001b[1;34m(filepath_or_buffer, kwds)\u001b[0m\n\u001b[0;32m    617\u001b[0m _validate_names(kwds\u001b[38;5;241m.\u001b[39mget(\u001b[38;5;124m\"\u001b[39m\u001b[38;5;124mnames\u001b[39m\u001b[38;5;124m\"\u001b[39m, \u001b[38;5;28;01mNone\u001b[39;00m))\n\u001b[0;32m    619\u001b[0m \u001b[38;5;66;03m# Create the parser.\u001b[39;00m\n\u001b[1;32m--> 620\u001b[0m parser \u001b[38;5;241m=\u001b[39m TextFileReader(filepath_or_buffer, \u001b[38;5;241m*\u001b[39m\u001b[38;5;241m*\u001b[39mkwds)\n\u001b[0;32m    622\u001b[0m \u001b[38;5;28;01mif\u001b[39;00m chunksize \u001b[38;5;129;01mor\u001b[39;00m iterator:\n\u001b[0;32m    623\u001b[0m     \u001b[38;5;28;01mreturn\u001b[39;00m parser\n",
      "File \u001b[1;32m~\\anaconda3\\Lib\\site-packages\\pandas\\io\\parsers\\readers.py:1620\u001b[0m, in \u001b[0;36mTextFileReader.__init__\u001b[1;34m(self, f, engine, **kwds)\u001b[0m\n\u001b[0;32m   1617\u001b[0m     \u001b[38;5;28mself\u001b[39m\u001b[38;5;241m.\u001b[39moptions[\u001b[38;5;124m\"\u001b[39m\u001b[38;5;124mhas_index_names\u001b[39m\u001b[38;5;124m\"\u001b[39m] \u001b[38;5;241m=\u001b[39m kwds[\u001b[38;5;124m\"\u001b[39m\u001b[38;5;124mhas_index_names\u001b[39m\u001b[38;5;124m\"\u001b[39m]\n\u001b[0;32m   1619\u001b[0m \u001b[38;5;28mself\u001b[39m\u001b[38;5;241m.\u001b[39mhandles: IOHandles \u001b[38;5;241m|\u001b[39m \u001b[38;5;28;01mNone\u001b[39;00m \u001b[38;5;241m=\u001b[39m \u001b[38;5;28;01mNone\u001b[39;00m\n\u001b[1;32m-> 1620\u001b[0m \u001b[38;5;28mself\u001b[39m\u001b[38;5;241m.\u001b[39m_engine \u001b[38;5;241m=\u001b[39m \u001b[38;5;28mself\u001b[39m\u001b[38;5;241m.\u001b[39m_make_engine(f, \u001b[38;5;28mself\u001b[39m\u001b[38;5;241m.\u001b[39mengine)\n",
      "File \u001b[1;32m~\\anaconda3\\Lib\\site-packages\\pandas\\io\\parsers\\readers.py:1880\u001b[0m, in \u001b[0;36mTextFileReader._make_engine\u001b[1;34m(self, f, engine)\u001b[0m\n\u001b[0;32m   1878\u001b[0m     \u001b[38;5;28;01mif\u001b[39;00m \u001b[38;5;124m\"\u001b[39m\u001b[38;5;124mb\u001b[39m\u001b[38;5;124m\"\u001b[39m \u001b[38;5;129;01mnot\u001b[39;00m \u001b[38;5;129;01min\u001b[39;00m mode:\n\u001b[0;32m   1879\u001b[0m         mode \u001b[38;5;241m+\u001b[39m\u001b[38;5;241m=\u001b[39m \u001b[38;5;124m\"\u001b[39m\u001b[38;5;124mb\u001b[39m\u001b[38;5;124m\"\u001b[39m\n\u001b[1;32m-> 1880\u001b[0m \u001b[38;5;28mself\u001b[39m\u001b[38;5;241m.\u001b[39mhandles \u001b[38;5;241m=\u001b[39m get_handle(\n\u001b[0;32m   1881\u001b[0m     f,\n\u001b[0;32m   1882\u001b[0m     mode,\n\u001b[0;32m   1883\u001b[0m     encoding\u001b[38;5;241m=\u001b[39m\u001b[38;5;28mself\u001b[39m\u001b[38;5;241m.\u001b[39moptions\u001b[38;5;241m.\u001b[39mget(\u001b[38;5;124m\"\u001b[39m\u001b[38;5;124mencoding\u001b[39m\u001b[38;5;124m\"\u001b[39m, \u001b[38;5;28;01mNone\u001b[39;00m),\n\u001b[0;32m   1884\u001b[0m     compression\u001b[38;5;241m=\u001b[39m\u001b[38;5;28mself\u001b[39m\u001b[38;5;241m.\u001b[39moptions\u001b[38;5;241m.\u001b[39mget(\u001b[38;5;124m\"\u001b[39m\u001b[38;5;124mcompression\u001b[39m\u001b[38;5;124m\"\u001b[39m, \u001b[38;5;28;01mNone\u001b[39;00m),\n\u001b[0;32m   1885\u001b[0m     memory_map\u001b[38;5;241m=\u001b[39m\u001b[38;5;28mself\u001b[39m\u001b[38;5;241m.\u001b[39moptions\u001b[38;5;241m.\u001b[39mget(\u001b[38;5;124m\"\u001b[39m\u001b[38;5;124mmemory_map\u001b[39m\u001b[38;5;124m\"\u001b[39m, \u001b[38;5;28;01mFalse\u001b[39;00m),\n\u001b[0;32m   1886\u001b[0m     is_text\u001b[38;5;241m=\u001b[39mis_text,\n\u001b[0;32m   1887\u001b[0m     errors\u001b[38;5;241m=\u001b[39m\u001b[38;5;28mself\u001b[39m\u001b[38;5;241m.\u001b[39moptions\u001b[38;5;241m.\u001b[39mget(\u001b[38;5;124m\"\u001b[39m\u001b[38;5;124mencoding_errors\u001b[39m\u001b[38;5;124m\"\u001b[39m, \u001b[38;5;124m\"\u001b[39m\u001b[38;5;124mstrict\u001b[39m\u001b[38;5;124m\"\u001b[39m),\n\u001b[0;32m   1888\u001b[0m     storage_options\u001b[38;5;241m=\u001b[39m\u001b[38;5;28mself\u001b[39m\u001b[38;5;241m.\u001b[39moptions\u001b[38;5;241m.\u001b[39mget(\u001b[38;5;124m\"\u001b[39m\u001b[38;5;124mstorage_options\u001b[39m\u001b[38;5;124m\"\u001b[39m, \u001b[38;5;28;01mNone\u001b[39;00m),\n\u001b[0;32m   1889\u001b[0m )\n\u001b[0;32m   1890\u001b[0m \u001b[38;5;28;01massert\u001b[39;00m \u001b[38;5;28mself\u001b[39m\u001b[38;5;241m.\u001b[39mhandles \u001b[38;5;129;01mis\u001b[39;00m \u001b[38;5;129;01mnot\u001b[39;00m \u001b[38;5;28;01mNone\u001b[39;00m\n\u001b[0;32m   1891\u001b[0m f \u001b[38;5;241m=\u001b[39m \u001b[38;5;28mself\u001b[39m\u001b[38;5;241m.\u001b[39mhandles\u001b[38;5;241m.\u001b[39mhandle\n",
      "File \u001b[1;32m~\\anaconda3\\Lib\\site-packages\\pandas\\io\\common.py:873\u001b[0m, in \u001b[0;36mget_handle\u001b[1;34m(path_or_buf, mode, encoding, compression, memory_map, is_text, errors, storage_options)\u001b[0m\n\u001b[0;32m    868\u001b[0m \u001b[38;5;28;01melif\u001b[39;00m \u001b[38;5;28misinstance\u001b[39m(handle, \u001b[38;5;28mstr\u001b[39m):\n\u001b[0;32m    869\u001b[0m     \u001b[38;5;66;03m# Check whether the filename is to be opened in binary mode.\u001b[39;00m\n\u001b[0;32m    870\u001b[0m     \u001b[38;5;66;03m# Binary mode does not support 'encoding' and 'newline'.\u001b[39;00m\n\u001b[0;32m    871\u001b[0m     \u001b[38;5;28;01mif\u001b[39;00m ioargs\u001b[38;5;241m.\u001b[39mencoding \u001b[38;5;129;01mand\u001b[39;00m \u001b[38;5;124m\"\u001b[39m\u001b[38;5;124mb\u001b[39m\u001b[38;5;124m\"\u001b[39m \u001b[38;5;129;01mnot\u001b[39;00m \u001b[38;5;129;01min\u001b[39;00m ioargs\u001b[38;5;241m.\u001b[39mmode:\n\u001b[0;32m    872\u001b[0m         \u001b[38;5;66;03m# Encoding\u001b[39;00m\n\u001b[1;32m--> 873\u001b[0m         handle \u001b[38;5;241m=\u001b[39m \u001b[38;5;28mopen\u001b[39m(\n\u001b[0;32m    874\u001b[0m             handle,\n\u001b[0;32m    875\u001b[0m             ioargs\u001b[38;5;241m.\u001b[39mmode,\n\u001b[0;32m    876\u001b[0m             encoding\u001b[38;5;241m=\u001b[39mioargs\u001b[38;5;241m.\u001b[39mencoding,\n\u001b[0;32m    877\u001b[0m             errors\u001b[38;5;241m=\u001b[39merrors,\n\u001b[0;32m    878\u001b[0m             newline\u001b[38;5;241m=\u001b[39m\u001b[38;5;124m\"\u001b[39m\u001b[38;5;124m\"\u001b[39m,\n\u001b[0;32m    879\u001b[0m         )\n\u001b[0;32m    880\u001b[0m     \u001b[38;5;28;01melse\u001b[39;00m:\n\u001b[0;32m    881\u001b[0m         \u001b[38;5;66;03m# Binary mode\u001b[39;00m\n\u001b[0;32m    882\u001b[0m         handle \u001b[38;5;241m=\u001b[39m \u001b[38;5;28mopen\u001b[39m(handle, ioargs\u001b[38;5;241m.\u001b[39mmode)\n",
      "\u001b[1;31mFileNotFoundError\u001b[0m: [Errno 2] No such file or directory: 'oveDOODLE HEART HALF T WHITE GREYISH BLUE_3.csv'"
     ]
    }
   ],
   "source": [
    "df = pd.read_csv('oveDOODLE HEART HALF T WHITE GREYISH BLUE_3.csv')"
   ]
  },
  {
   "cell_type": "code",
   "execution_count": null,
   "id": "4b1e5ba6-db58-4402-8efd-6b61a2e497b2",
   "metadata": {},
   "outputs": [],
   "source": [
    "df"
   ]
  },
  {
   "cell_type": "code",
   "execution_count": null,
   "id": "82c4ac79-0bce-457a-81b7-08878584e020",
   "metadata": {},
   "outputs": [],
   "source": []
  }
 ],
 "metadata": {
  "kernelspec": {
   "display_name": "Python 3 (ipykernel)",
   "language": "python",
   "name": "python3"
  },
  "language_info": {
   "codemirror_mode": {
    "name": "ipython",
    "version": 3
   },
   "file_extension": ".py",
   "mimetype": "text/x-python",
   "name": "python",
   "nbconvert_exporter": "python",
   "pygments_lexer": "ipython3",
   "version": "3.12.3"
  }
 },
 "nbformat": 4,
 "nbformat_minor": 5
}
