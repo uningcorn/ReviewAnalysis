{
 "cells": [
  {
   "cell_type": "code",
   "execution_count": null,
   "id": "7cb75b5a-067a-4e04-b980-accc73bf5eab",
   "metadata": {},
   "outputs": [],
   "source": [
    "from keybert import KeyBERT\n",
    "import pandas as pd\n",
    "\n",
    "# KeyBERT 모델 로드\n",
    "kw_model = KeyBERT()\n",
    "\n",
    "# 찾고자 하는 타겟 단어 리스트\n",
    "target_words = ['코디', '같이', '포인트', '매칭', '매치', '어울리다', '활용']\n",
    "\n",
    "# '팬츠.csv' 파일 불러오기\n",
    "df = pd.read_csv('팬츠.csv')\n",
    "\n",
    "# 각 리뷰에서 target_words와 연관된 키워드를 추출하는 함수 정의\n",
    "def extract_related_keywords(review, target_words, top_n=5):\n",
    "    if pd.isna(review):  # NaN 값 처리\n",
    "        return ''\n",
    "    \n",
    "    # KeyBERT를 사용하여 키워드 추출 (top_n 개의 키워드)\n",
    "    keywords = kw_model.extract_keywords(review, top_n=top_n, keyphrase_ngram_range=(1, 2))\n",
    "    \n",
    "    # 추출된 키워드 중 target_words와 유사한 키워드 필터링\n",
    "    related_keywords = [kw[0] for kw in keywords if any(tw in kw[0] for tw in target_words)]\n",
    "    \n",
    "    # 연관된 키워드 반환\n",
    "    return ', '.join(related_keywords) if related_keywords else '연관 키워드 없음'\n",
    "\n",
    "# 'Review' 열에서 target_words와 연관된 키워드를 추출\n",
    "df['related_keywords'] = df['Review'].apply(lambda x: extract_related_keywords(x, target_words))\n",
    "\n",
    "# 결과 출력\n",
    "print(df[['Review', 'related_keywords']])\n"
   ]
  }
 ],
 "metadata": {
  "kernelspec": {
   "display_name": "Python 3 (ipykernel)",
   "language": "python",
   "name": "python3"
  },
  "language_info": {
   "codemirror_mode": {
    "name": "ipython",
    "version": 3
   },
   "file_extension": ".py",
   "mimetype": "text/x-python",
   "name": "python",
   "nbconvert_exporter": "python",
   "pygments_lexer": "ipython3",
   "version": "3.12.3"
  }
 },
 "nbformat": 4,
 "nbformat_minor": 5
}
