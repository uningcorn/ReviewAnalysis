{
 "cells": [
  {
   "cell_type": "code",
   "execution_count": 2,
   "id": "37b1f094-2508-4186-bbcc-c315bd5fdd7f",
   "metadata": {},
   "outputs": [],
   "source": [
    "# 전처리 코드 정의\n",
    "def clean_review_column(df, column_name):\n",
    "    # '\\n'을 제거하고 한글 자모 및 구두점 제거\n",
    "    df[column_name] = df[column_name].str.replace('\\n', ' ', regex=False)  # 개행 문자 제거\n",
    "    df[column_name] = df[column_name].str.replace(r'[ㄱ-ㅎㅏ-ㅣ]+', ' ', regex=True)  # 한글 자모 제거\n",
    "    df[column_name] = df[column_name].str.replace(r'[^\\w\\s]', ' ', regex=True)  # 특정 구두점 제거\n",
    "    \n",
    "    # 여러 공백을 한 칸으로 변환\n",
    "    df[column_name] = df[column_name].str.replace(r'\\s+', ' ', regex=True)  # 여러 개의 공백을 한 칸으로 변환\n",
    "\n",
    "    return df"
   ]
  },
  {
   "cell_type": "markdown",
   "id": "0a1f76ab-e538-4c55-9d43-4c327a75e54f",
   "metadata": {},
   "source": [
    "# 1"
   ]
  },
  {
   "cell_type": "code",
   "execution_count": 3,
   "id": "d5a419f2-65b8-4dc7-b191-e6a0e7420cf3",
   "metadata": {},
   "outputs": [],
   "source": [
    "import pandas as pd\n",
    "\n",
    "df = pd.read_csv('아우터1. 베켄바우어 트랙탑 - 인디고  IP0418.csv')\n",
    "df = clean_review_column(df, 'Review')\n",
    "documents = df['Review']"
   ]
  },
  {
   "cell_type": "code",
   "execution_count": 4,
   "id": "0566a08b-02b1-481f-b276-5eddb985e918",
   "metadata": {},
   "outputs": [
    {
     "data": {
      "text/html": [
       "<div>\n",
       "<style scoped>\n",
       "    .dataframe tbody tr th:only-of-type {\n",
       "        vertical-align: middle;\n",
       "    }\n",
       "\n",
       "    .dataframe tbody tr th {\n",
       "        vertical-align: top;\n",
       "    }\n",
       "\n",
       "    .dataframe thead th {\n",
       "        text-align: right;\n",
       "    }\n",
       "</style>\n",
       "<table border=\"1\" class=\"dataframe\">\n",
       "  <thead>\n",
       "    <tr style=\"text-align: right;\">\n",
       "      <th></th>\n",
       "      <th>Star</th>\n",
       "      <th>Review</th>\n",
       "    </tr>\n",
       "  </thead>\n",
       "  <tbody>\n",
       "    <tr>\n",
       "      <th>0</th>\n",
       "      <td>5.0</td>\n",
       "      <td>너모 예뻐요 그냥 제가 알던 재질인 줄 알았는데 좀 빳빳한 재질이에요 그리고 안에 ...</td>\n",
       "    </tr>\n",
       "    <tr>\n",
       "      <th>1</th>\n",
       "      <td>4.0</td>\n",
       "      <td>기장에 비해 품은 작고 또 작은 사이즈로 가자니 입기 답답해서 m 사이즈에서 xl로...</td>\n",
       "    </tr>\n",
       "    <tr>\n",
       "      <th>2</th>\n",
       "      <td>5.0</td>\n",
       "      <td>안에 살짝 기모느낌이 나서 따뜻해요 봄이나 가을에 이것만 걸쳐도될듯 아래 밴딩이 잘...</td>\n",
       "    </tr>\n",
       "    <tr>\n",
       "      <th>3</th>\n",
       "      <td>5.0</td>\n",
       "      <td>화면보다 색은 어두워요 그게더이쁜듯 입었을때 착감기는느낌은 아니지만 촤라락 떨어지는...</td>\n",
       "    </tr>\n",
       "    <tr>\n",
       "      <th>4</th>\n",
       "      <td>5.0</td>\n",
       "      <td>너무 예뻐서 사버림 약 2주 정도 입고 쓰는중 사이즈 약간 힙 백수 st로 입고싶...</td>\n",
       "    </tr>\n",
       "    <tr>\n",
       "      <th>...</th>\n",
       "      <td>...</td>\n",
       "      <td>...</td>\n",
       "    </tr>\n",
       "    <tr>\n",
       "      <th>139</th>\n",
       "      <td>5.0</td>\n",
       "      <td>남녀공용 S사이즈라 넉넉할 줄 알았는데 생각보다 타이트한 느낌이네요 그래도 다른 트...</td>\n",
       "    </tr>\n",
       "    <tr>\n",
       "      <th>140</th>\n",
       "      <td>5.0</td>\n",
       "      <td>검정색사고 넘 이뻐서 이색으로 또 구매했습니다</td>\n",
       "    </tr>\n",
       "    <tr>\n",
       "      <th>141</th>\n",
       "      <td>5.0</td>\n",
       "      <td>와 진심 너무너무 예뻐요 한 눈에 반해버려서 바로 구매했어요</td>\n",
       "    </tr>\n",
       "    <tr>\n",
       "      <th>142</th>\n",
       "      <td>5.0</td>\n",
       "      <td>와 겁나 이뻐요 색 진짜이쁘고 핏이 너무 너무 이뻐요 자크 끝까지 올려서 입으면 더...</td>\n",
       "    </tr>\n",
       "    <tr>\n",
       "      <th>143</th>\n",
       "      <td>5.0</td>\n",
       "      <td>단 한번도 아디다스져지 안이쁜적이 업네영 당장 입고 나갑니다 청바지랑 굿 매치네요 ...</td>\n",
       "    </tr>\n",
       "  </tbody>\n",
       "</table>\n",
       "<p>144 rows × 2 columns</p>\n",
       "</div>"
      ],
      "text/plain": [
       "     Star                                             Review\n",
       "0     5.0  너모 예뻐요 그냥 제가 알던 재질인 줄 알았는데 좀 빳빳한 재질이에요 그리고 안에 ...\n",
       "1     4.0  기장에 비해 품은 작고 또 작은 사이즈로 가자니 입기 답답해서 m 사이즈에서 xl로...\n",
       "2     5.0  안에 살짝 기모느낌이 나서 따뜻해요 봄이나 가을에 이것만 걸쳐도될듯 아래 밴딩이 잘...\n",
       "3     5.0  화면보다 색은 어두워요 그게더이쁜듯 입었을때 착감기는느낌은 아니지만 촤라락 떨어지는...\n",
       "4     5.0   너무 예뻐서 사버림 약 2주 정도 입고 쓰는중 사이즈 약간 힙 백수 st로 입고싶...\n",
       "..    ...                                                ...\n",
       "139   5.0  남녀공용 S사이즈라 넉넉할 줄 알았는데 생각보다 타이트한 느낌이네요 그래도 다른 트...\n",
       "140   5.0                         검정색사고 넘 이뻐서 이색으로 또 구매했습니다 \n",
       "141   5.0                 와 진심 너무너무 예뻐요 한 눈에 반해버려서 바로 구매했어요 \n",
       "142   5.0  와 겁나 이뻐요 색 진짜이쁘고 핏이 너무 너무 이뻐요 자크 끝까지 올려서 입으면 더...\n",
       "143   5.0  단 한번도 아디다스져지 안이쁜적이 업네영 당장 입고 나갑니다 청바지랑 굿 매치네요 ...\n",
       "\n",
       "[144 rows x 2 columns]"
      ]
     },
     "execution_count": 4,
     "metadata": {},
     "output_type": "execute_result"
    }
   ],
   "source": [
    "df"
   ]
  },
  {
   "cell_type": "code",
   "execution_count": 5,
   "id": "bdf245b0-0b9f-42ea-a6f0-90cfed722229",
   "metadata": {},
   "outputs": [
    {
     "name": "stderr",
     "output_type": "stream",
     "text": [
      "C:\\Users\\HWAN\\anaconda3\\Lib\\site-packages\\sentence_transformers\\cross_encoder\\CrossEncoder.py:11: TqdmExperimentalWarning: Using `tqdm.autonotebook.tqdm` in notebook mode. Use `tqdm.tqdm` instead to force console mode (e.g. in jupyter console)\n",
      "  from tqdm.autonotebook import tqdm, trange\n"
     ]
    },
    {
     "name": "stdout",
     "output_type": "stream",
     "text": [
      "WARNING:tensorflow:From C:\\Users\\HWAN\\anaconda3\\Lib\\site-packages\\tf_keras\\src\\losses.py:2976: The name tf.losses.sparse_softmax_cross_entropy is deprecated. Please use tf.compat.v1.losses.sparse_softmax_cross_entropy instead.\n",
      "\n",
      "                                              Review  \\\n",
      "0  너모 예뻐요 그냥 제가 알던 재질인 줄 알았는데 좀 빳빳한 재질이에요 그리고 안에 ...   \n",
      "1  기장에 비해 품은 작고 또 작은 사이즈로 가자니 입기 답답해서 m 사이즈에서 xl로...   \n",
      "2  안에 살짝 기모느낌이 나서 따뜻해요 봄이나 가을에 이것만 걸쳐도될듯 아래 밴딩이 잘...   \n",
      "3  화면보다 색은 어두워요 그게더이쁜듯 입었을때 착감기는느낌은 아니지만 촤라락 떨어지는...   \n",
      "4   너무 예뻐서 사버림 약 2주 정도 입고 쓰는중 사이즈 약간 힙 백수 st로 입고싶...   \n",
      "\n",
      "                                            Keywords  \n",
      "0  [(고만고만합니다, 0.6639), (추천합니다, 0.6417), (안감이, 0.5...  \n",
      "1  [(사이즈에서, 0.6604), (사이즈로, 0.5839), (나와서, 0.5708...  \n",
      "2  [(밴딩이, 0.616), (늘어나서, 0.575), (완죤, 0.5624), (편...  \n",
      "3  [(흰색바지나, 0.7044), (추천해요, 0.6977), (화면보다, 0.616...  \n",
      "4  [(전형적인, 0.409), (정사이즈, 0.3853), (무조건, 0.3735),...  \n"
     ]
    }
   ],
   "source": [
    "from keybert import KeyBERT\n",
    "from sklearn.feature_extraction.text import CountVectorizer\n",
    "\n",
    "# KeyBERT 모델 초기화\n",
    "kw_model = KeyBERT()\n",
    "\n",
    "vectorizer = CountVectorizer(ngram_range=(1, 1))\n",
    "\n",
    "# 각 문서에서 핵심 키워드 추출\n",
    "def extract_keywords(text):\n",
    "    # 각 텍스트에서 상위 5개의 키워드 추출\n",
    "    keywords = kw_model.extract_keywords(text, vectorizer=vectorizer, top_n=5)\n",
    "    return keywords\n",
    "\n",
    "# 전체 문서에 대해 핵심 키워드 추출\n",
    "df['Keywords'] = documents.apply(extract_keywords)\n",
    "\n",
    "# 키워드가 잘 추출되었는지 확인\n",
    "print(df[['Review', 'Keywords']].head())"
   ]
  },
  {
   "cell_type": "code",
   "execution_count": 6,
   "id": "ce37629c-0d0d-4c62-8a1a-93e3927c70e0",
   "metadata": {},
   "outputs": [
    {
     "data": {
      "text/html": [
       "<div>\n",
       "<style scoped>\n",
       "    .dataframe tbody tr th:only-of-type {\n",
       "        vertical-align: middle;\n",
       "    }\n",
       "\n",
       "    .dataframe tbody tr th {\n",
       "        vertical-align: top;\n",
       "    }\n",
       "\n",
       "    .dataframe thead th {\n",
       "        text-align: right;\n",
       "    }\n",
       "</style>\n",
       "<table border=\"1\" class=\"dataframe\">\n",
       "  <thead>\n",
       "    <tr style=\"text-align: right;\">\n",
       "      <th></th>\n",
       "      <th>Star</th>\n",
       "      <th>Review</th>\n",
       "      <th>Keywords</th>\n",
       "    </tr>\n",
       "  </thead>\n",
       "  <tbody>\n",
       "    <tr>\n",
       "      <th>0</th>\n",
       "      <td>5.0</td>\n",
       "      <td>너모 예뻐요 그냥 제가 알던 재질인 줄 알았는데 좀 빳빳한 재질이에요 그리고 안에 ...</td>\n",
       "      <td>[(고만고만합니다, 0.6639), (추천합니다, 0.6417), (안감이, 0.5...</td>\n",
       "    </tr>\n",
       "    <tr>\n",
       "      <th>1</th>\n",
       "      <td>4.0</td>\n",
       "      <td>기장에 비해 품은 작고 또 작은 사이즈로 가자니 입기 답답해서 m 사이즈에서 xl로...</td>\n",
       "      <td>[(사이즈에서, 0.6604), (사이즈로, 0.5839), (나와서, 0.5708...</td>\n",
       "    </tr>\n",
       "    <tr>\n",
       "      <th>2</th>\n",
       "      <td>5.0</td>\n",
       "      <td>안에 살짝 기모느낌이 나서 따뜻해요 봄이나 가을에 이것만 걸쳐도될듯 아래 밴딩이 잘...</td>\n",
       "      <td>[(밴딩이, 0.616), (늘어나서, 0.575), (완죤, 0.5624), (편...</td>\n",
       "    </tr>\n",
       "    <tr>\n",
       "      <th>3</th>\n",
       "      <td>5.0</td>\n",
       "      <td>화면보다 색은 어두워요 그게더이쁜듯 입었을때 착감기는느낌은 아니지만 촤라락 떨어지는...</td>\n",
       "      <td>[(흰색바지나, 0.7044), (추천해요, 0.6977), (화면보다, 0.616...</td>\n",
       "    </tr>\n",
       "    <tr>\n",
       "      <th>4</th>\n",
       "      <td>5.0</td>\n",
       "      <td>너무 예뻐서 사버림 약 2주 정도 입고 쓰는중 사이즈 약간 힙 백수 st로 입고싶...</td>\n",
       "      <td>[(전형적인, 0.409), (정사이즈, 0.3853), (무조건, 0.3735),...</td>\n",
       "    </tr>\n",
       "    <tr>\n",
       "      <th>...</th>\n",
       "      <td>...</td>\n",
       "      <td>...</td>\n",
       "      <td>...</td>\n",
       "    </tr>\n",
       "    <tr>\n",
       "      <th>139</th>\n",
       "      <td>5.0</td>\n",
       "      <td>남녀공용 S사이즈라 넉넉할 줄 알았는데 생각보다 타이트한 느낌이네요 그래도 다른 트...</td>\n",
       "      <td>[(남녀공용, 0.696), (넉넉할, 0.5705), (듭니다, 0.5628), ...</td>\n",
       "    </tr>\n",
       "    <tr>\n",
       "      <th>140</th>\n",
       "      <td>5.0</td>\n",
       "      <td>검정색사고 넘 이뻐서 이색으로 또 구매했습니다</td>\n",
       "      <td>[(검정색사고, 0.8233), (이색으로, 0.6832), (이뻐서, 0.3651...</td>\n",
       "    </tr>\n",
       "    <tr>\n",
       "      <th>141</th>\n",
       "      <td>5.0</td>\n",
       "      <td>와 진심 너무너무 예뻐요 한 눈에 반해버려서 바로 구매했어요</td>\n",
       "      <td>[(반해버려서, 0.7101), (너무너무, 0.5781), (바로, 0.4893)...</td>\n",
       "    </tr>\n",
       "    <tr>\n",
       "      <th>142</th>\n",
       "      <td>5.0</td>\n",
       "      <td>와 겁나 이뻐요 색 진짜이쁘고 핏이 너무 너무 이뻐요 자크 끝까지 올려서 입으면 더...</td>\n",
       "      <td>[(입으면, 0.6141), (강추해요, 0.6033), (올려서, 0.533), ...</td>\n",
       "    </tr>\n",
       "    <tr>\n",
       "      <th>143</th>\n",
       "      <td>5.0</td>\n",
       "      <td>단 한번도 아디다스져지 안이쁜적이 업네영 당장 입고 나갑니다 청바지랑 굿 매치네요 ...</td>\n",
       "      <td>[(아디다스져지, 0.6583), (청바지랑, 0.6188), (업네영, 0.612...</td>\n",
       "    </tr>\n",
       "  </tbody>\n",
       "</table>\n",
       "<p>144 rows × 3 columns</p>\n",
       "</div>"
      ],
      "text/plain": [
       "     Star                                             Review  \\\n",
       "0     5.0  너모 예뻐요 그냥 제가 알던 재질인 줄 알았는데 좀 빳빳한 재질이에요 그리고 안에 ...   \n",
       "1     4.0  기장에 비해 품은 작고 또 작은 사이즈로 가자니 입기 답답해서 m 사이즈에서 xl로...   \n",
       "2     5.0  안에 살짝 기모느낌이 나서 따뜻해요 봄이나 가을에 이것만 걸쳐도될듯 아래 밴딩이 잘...   \n",
       "3     5.0  화면보다 색은 어두워요 그게더이쁜듯 입었을때 착감기는느낌은 아니지만 촤라락 떨어지는...   \n",
       "4     5.0   너무 예뻐서 사버림 약 2주 정도 입고 쓰는중 사이즈 약간 힙 백수 st로 입고싶...   \n",
       "..    ...                                                ...   \n",
       "139   5.0  남녀공용 S사이즈라 넉넉할 줄 알았는데 생각보다 타이트한 느낌이네요 그래도 다른 트...   \n",
       "140   5.0                         검정색사고 넘 이뻐서 이색으로 또 구매했습니다    \n",
       "141   5.0                 와 진심 너무너무 예뻐요 한 눈에 반해버려서 바로 구매했어요    \n",
       "142   5.0  와 겁나 이뻐요 색 진짜이쁘고 핏이 너무 너무 이뻐요 자크 끝까지 올려서 입으면 더...   \n",
       "143   5.0  단 한번도 아디다스져지 안이쁜적이 업네영 당장 입고 나갑니다 청바지랑 굿 매치네요 ...   \n",
       "\n",
       "                                              Keywords  \n",
       "0    [(고만고만합니다, 0.6639), (추천합니다, 0.6417), (안감이, 0.5...  \n",
       "1    [(사이즈에서, 0.6604), (사이즈로, 0.5839), (나와서, 0.5708...  \n",
       "2    [(밴딩이, 0.616), (늘어나서, 0.575), (완죤, 0.5624), (편...  \n",
       "3    [(흰색바지나, 0.7044), (추천해요, 0.6977), (화면보다, 0.616...  \n",
       "4    [(전형적인, 0.409), (정사이즈, 0.3853), (무조건, 0.3735),...  \n",
       "..                                                 ...  \n",
       "139  [(남녀공용, 0.696), (넉넉할, 0.5705), (듭니다, 0.5628), ...  \n",
       "140  [(검정색사고, 0.8233), (이색으로, 0.6832), (이뻐서, 0.3651...  \n",
       "141  [(반해버려서, 0.7101), (너무너무, 0.5781), (바로, 0.4893)...  \n",
       "142  [(입으면, 0.6141), (강추해요, 0.6033), (올려서, 0.533), ...  \n",
       "143  [(아디다스져지, 0.6583), (청바지랑, 0.6188), (업네영, 0.612...  \n",
       "\n",
       "[144 rows x 3 columns]"
      ]
     },
     "execution_count": 6,
     "metadata": {},
     "output_type": "execute_result"
    }
   ],
   "source": [
    "df"
   ]
  },
  {
   "cell_type": "code",
   "execution_count": 7,
   "id": "721d0da5-ddc4-4c9b-b4e8-497dd31548e2",
   "metadata": {},
   "outputs": [
    {
     "name": "stdout",
     "output_type": "stream",
     "text": [
      "상위 15개의 키워드:\n",
      "너무: 13번\n",
      "아디다스: 8번\n",
      "실물이: 7번\n",
      "역시: 7번\n",
      "생각보다: 6번\n",
      "감사합니다: 6번\n",
      "색감이: 6번\n",
      "사이즈는: 5번\n",
      "완전: 5번\n",
      "길어요: 5번\n",
      "정말: 5번\n",
      "들어요: 5번\n",
      "베켄바우어: 5번\n",
      "좋아요: 5번\n",
      "입기: 5번\n"
     ]
    }
   ],
   "source": [
    "from collections import Counter\n",
    "\n",
    "# 각 문서에서 추출된 키워드를 모은 리스트 생성\n",
    "all_keywords = []\n",
    "\n",
    "for keywords in df['Keywords']:\n",
    "    # keywords는 [(단어, 가중치), (단어, 가중치), ...] 형식이므로 단어만 추출\n",
    "    all_keywords.extend([keyword[0] for keyword in keywords])\n",
    "\n",
    "# 키워드의 빈도 계산\n",
    "keyword_counts = Counter(all_keywords)\n",
    "\n",
    "# 빈도 상위 10개의 키워드 출력\n",
    "top_keywords = keyword_counts.most_common(15)\n",
    "\n",
    "# 상위 10개의 키워드와 그 빈도를 출력\n",
    "print(\"상위 15개의 키워드:\")\n",
    "for word, count in top_keywords:\n",
    "    print(f\"{word}: {count}번\")"
   ]
  },
  {
   "cell_type": "code",
   "execution_count": 8,
   "id": "c9cc5186-b7c7-41ac-97d6-d4193e403e1f",
   "metadata": {},
   "outputs": [
    {
     "name": "stdout",
     "output_type": "stream",
     "text": [
      "[('사이즈', 24), ('아디다스', 12), ('편하다', 11), ('생각', 9), ('색감', 8), ('예쁘다', 8), ('만족하다', 8), ('기다', 8), ('이쁘다', 8), ('들다', 7)]\n"
     ]
    }
   ],
   "source": [
    "from collections import Counter\n",
    "from konlpy.tag import Okt\n",
    "\n",
    "# Okt 형태소 분석기 초기화\n",
    "okt = Okt()\n",
    "\n",
    "stop_words = ['좋다', '입다', '같다', '이다', '있다', '입']\n",
    "\n",
    "# 키워드를 원형으로 변환\n",
    "def lemmatize_keyword(keyword):\n",
    "    morphs = okt.pos(keyword, stem=True)  # 형태소 분석 및 어간 추출\n",
    "    lemmatized = [word for word, pos in morphs if pos in ['Noun', 'Verb', 'Adjective']] # 명사, 동사, 형용사 추출\n",
    "    return ' '.join(lemmatized) if lemmatized else None  # 원형 변환된 단어들을 합침, 없으면 None 반환\n",
    "\n",
    "# 키워드를 모두 모아서 리스트로 풀기\n",
    "all_keywords = []\n",
    "for keywords in df['Keywords']:\n",
    "    # 키워드 원형으로 변환 후 리스트에 추가 (불용어 제외)\n",
    "    for keyword, score in keywords:\n",
    "        lemmatized_keyword = lemmatize_keyword(keyword)\n",
    "        if lemmatized_keyword and lemmatized_keyword not in stop_words:  # 불용어 필터링\n",
    "            all_keywords.append(lemmatized_keyword)\n",
    "\n",
    "# 각 키워드의 빈도를 계산\n",
    "keyword_counts = Counter(all_keywords)\n",
    "\n",
    "# 상위 10개의 키워드 추출\n",
    "top_10_keywords = keyword_counts.most_common(10)\n",
    "\n",
    "# 결과 출력\n",
    "print(top_10_keywords)"
   ]
  },
  {
   "cell_type": "code",
   "execution_count": 9,
   "id": "ff6dcaef-6012-44d6-95e6-50d1d5910621",
   "metadata": {},
   "outputs": [
    {
     "name": "stdout",
     "output_type": "stream",
     "text": [
      "[('너무', 7.4245), ('색감이', 4.2730999999999995), ('아디다스', 4.2306), ('감사합니다', 4.0542), ('역시', 3.6207000000000003), ('실물이', 3.5982), ('사이즈는', 3.4157), ('생각보다', 3.3661000000000003), ('베켄바우어', 3.1010000000000004), ('강추합니다', 3.0003)]\n"
     ]
    }
   ],
   "source": [
    "from collections import defaultdict\n",
    "\n",
    "# 키워드와 유사도를 저장할 딕셔너리 초기화\n",
    "keyword_scores = defaultdict(float)\n",
    "\n",
    "# 키워드를 모두 모아서 유사도를 합산\n",
    "for keywords in df['Keywords']:\n",
    "    for keyword, score in keywords:\n",
    "        keyword_scores[keyword] += score  # 키워드에 유사도(score) 더하기\n",
    "\n",
    "# 유사도가 높은 상위 10개 키워드 추출\n",
    "top_10_keywords_with_scores = sorted(keyword_scores.items(), key=lambda x: x[1], reverse=True)[:10]\n",
    "\n",
    "# 결과 출력\n",
    "print(top_10_keywords_with_scores)\n"
   ]
  },
  {
   "cell_type": "code",
   "execution_count": 11,
   "id": "56c5b554-2562-4038-abd7-f34e4792c86d",
   "metadata": {},
   "outputs": [
    {
     "name": "stdout",
     "output_type": "stream",
     "text": [
      "[('사이즈', 14.802), ('아디다스', 6.875999999999999), ('편하다', 6.459199999999999), ('색감', 5.728), ('만족하다', 4.979), ('감사하다', 4.0542), ('져지', 3.666), ('역시', 3.6207000000000003), ('강 추하다', 3.6036), ('실물', 3.5982)]\n"
     ]
    }
   ],
   "source": [
    "from collections import defaultdict\n",
    "from konlpy.tag import Okt\n",
    "\n",
    "# Okt 형태소 분석기 초기화\n",
    "okt = Okt()\n",
    "\n",
    "stop_words = ['좋다', '입다', '같다', '이다', '있다', '입', '생각', '기다', '들다']\n",
    "\n",
    "\n",
    "# 키워드를 원형으로 변환하는 함수\n",
    "def lemmatize_keyword(keyword):\n",
    "    morphs = okt.pos(keyword, stem=True)  # 형태소 분석 + 어간 추출\n",
    "    # 품사가 명사(Noun)이거나 동사(Verb), 형용사(Adjective)인 경우만 원형으로 변환\n",
    "    lemmatized = [word for word, pos in morphs if pos in ['Noun', 'Verb', 'Adjective']]\n",
    "    return ' '.join(lemmatized)  # 원형 변환된 단어들을 문자열로 합침\n",
    "\n",
    "# 키워드와 유사도를 저장할 딕셔너리 초기화\n",
    "keyword_scores = defaultdict(float)\n",
    "\n",
    "# 키워드를 모두 모아서 유사도를 합산 (원형으로 변환하여 처리)\n",
    "for keywords in df['Keywords']:\n",
    "    for keyword, score in keywords:\n",
    "        lemmatized_keyword = lemmatize_keyword(keyword)  # 키워드 원형 변환\n",
    "        if lemmatized_keyword and lemmatized_keyword not in stop_words:  # 원형이 비어있지 않고 불용어가 아니라면\n",
    "            keyword_scores[lemmatized_keyword] += score  # 원형 키워드에 유사도 합산\n",
    "\n",
    "# 유사도가 높은 상위 10개 키워드 추출\n",
    "top_10_keywords_with_scores = sorted(keyword_scores.items(), key=lambda x: x[1], reverse=True)[:10]\n",
    "\n",
    "# 결과 출력\n",
    "print(top_10_keywords_with_scores)\n"
   ]
  },
  {
   "cell_type": "markdown",
   "id": "84a3c403-5b1c-4937-b11a-9221f8042e32",
   "metadata": {},
   "source": [
    "# 2"
   ]
  },
  {
   "cell_type": "code",
   "execution_count": null,
   "id": "d8a39015-10fc-45ea-aad6-36c9c7ac0a40",
   "metadata": {},
   "outputs": [],
   "source": [
    "import pandas as pd\n",
    "\n",
    "df = pd.read_csv('아우터1. 베켄바우어 트랙탑 - 인디고  IP0418.csv')\n",
    "df = clean_review_column(df, 'Review')\n",
    "documents = df['Review']"
   ]
  },
  {
   "cell_type": "code",
   "execution_count": null,
   "id": "f138cc06-44fe-48e1-ab0f-e7f806828117",
   "metadata": {},
   "outputs": [],
   "source": [
    "df"
   ]
  },
  {
   "cell_type": "code",
   "execution_count": null,
   "id": "75677f3d-ebf2-4b8d-9b84-14d9c4d512a3",
   "metadata": {},
   "outputs": [],
   "source": [
    "from keybert import KeyBERT\n",
    "from sklearn.feature_extraction.text import CountVectorizer\n",
    "\n",
    "# KeyBERT 모델 초기화\n",
    "kw_model = KeyBERT()\n",
    "\n",
    "vectorizer = CountVectorizer(ngram_range=(1, 1))\n",
    "\n",
    "# 각 문서에서 핵심 키워드 추출\n",
    "def extract_keywords(text):\n",
    "    # 각 텍스트에서 상위 5개의 키워드 추출\n",
    "    keywords = kw_model.extract_keywords(text, vectorizer=vectorizer, top_n=5)\n",
    "    return keywords\n",
    "\n",
    "# 전체 문서에 대해 핵심 키워드 추출\n",
    "df['Keywords'] = documents.apply(extract_keywords)\n",
    "\n",
    "# 키워드가 잘 추출되었는지 확인\n",
    "print(df[['Review', 'Keywords']].head())"
   ]
  },
  {
   "cell_type": "code",
   "execution_count": null,
   "id": "9265618b-4352-4b23-8739-968c04d4df6d",
   "metadata": {},
   "outputs": [],
   "source": []
  },
  {
   "cell_type": "code",
   "execution_count": null,
   "id": "64edd32a-2ae9-463a-beff-b92d69bcd509",
   "metadata": {},
   "outputs": [],
   "source": []
  },
  {
   "cell_type": "code",
   "execution_count": null,
   "id": "c13fe35c-59b9-4bab-98c7-a02c1043cbc2",
   "metadata": {},
   "outputs": [],
   "source": []
  },
  {
   "cell_type": "code",
   "execution_count": null,
   "id": "ef263db0-9ad9-4d52-b31c-7c3b68a4f0c3",
   "metadata": {},
   "outputs": [],
   "source": []
  }
 ],
 "metadata": {
  "kernelspec": {
   "display_name": "Python 3 (ipykernel)",
   "language": "python",
   "name": "python3"
  },
  "language_info": {
   "codemirror_mode": {
    "name": "ipython",
    "version": 3
   },
   "file_extension": ".py",
   "mimetype": "text/x-python",
   "name": "python",
   "nbconvert_exporter": "python",
   "pygments_lexer": "ipython3",
   "version": "3.12.3"
  }
 },
 "nbformat": 4,
 "nbformat_minor": 5
}
