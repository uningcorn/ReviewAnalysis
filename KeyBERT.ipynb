{
 "cells": [
  {
   "cell_type": "code",
   "execution_count": 11,
   "id": "cc4d37dc-db56-4c33-bd48-b1cd52709d15",
   "metadata": {},
   "outputs": [],
   "source": [
    "import pandas as pd"
   ]
  },
  {
   "cell_type": "code",
   "execution_count": 12,
   "id": "37b1f094-2508-4186-bbcc-c315bd5fdd7f",
   "metadata": {},
   "outputs": [],
   "source": [
    "def clean_review_column(df, column_name):\n",
    "    # '\\n'을 제거하고 한글 자모 및 구두점 제거\n",
    "    df[column_name] = df[column_name].str.replace('\\n', ' ', regex=False)  # 개행 문자 제거\n",
    "    df[column_name] = df[column_name].str.replace(r'[ㄱ-ㅎㅏ-ㅣ]+', ' ', regex=True)  # 한글 자모 제거\n",
    "    df[column_name] = df[column_name].str.replace(r'[^\\w\\s]', ' ', regex=True)  # 특정 구두점 제거\n",
    "    \n",
    "    # 여러 공백을 한 칸으로 변환\n",
    "    df[column_name] = df[column_name].str.replace(r'\\s+', ' ', regex=True)  # 여러 개의 공백을 한 칸으로 변환\n",
    "    \n",
    "    return df"
   ]
  },
  {
   "cell_type": "code",
   "execution_count": null,
   "id": "98178573-989e-4f71-ba99-4391bfdf664a",
   "metadata": {},
   "outputs": [],
   "source": [
    "from pykospacing import Spacing\n",
    "\n",
    "spacing = Spacing()"
   ]
  },
  {
   "cell_type": "code",
   "execution_count": 9,
   "id": "d5a419f2-65b8-4dc7-b191-e6a0e7420cf3",
   "metadata": {},
   "outputs": [],
   "source": [
    "df = pd.read_csv('[SET] 워셔블 케이블 반팔 니트 세트.csv')\n",
    "df = clean_review_column(df, 'Review')\n",
    "documents = df['Review']"
   ]
  },
  {
   "cell_type": "code",
   "execution_count": 10,
   "id": "0566a08b-02b1-481f-b276-5eddb985e918",
   "metadata": {},
   "outputs": [
    {
     "data": {
      "text/plain": [
       "0      여름에 꼭 가지고 있어야 템 중 하나 입니다 원플원임에도 불구하고 퀄리티랑 핏이 너...\n",
       "1                여름에 입 기 딱 좋은 두께에 요 부 드러워서 맨 몸에 입어도 괜찮아요\n",
       "2      시원한 느낌이라 좋습니다 부드러워 편하네요 카라와 단추 라인이 예쁘게 잘 나왔습니다...\n",
       "3      무신사 매장까지 방문해서 재질확인 후 이 구매하였습니다 여름에 입 기 좋은 두께 감...\n",
       "4       최고에 요 사이즈 살짝 오버핏인데 그냥 너무 좋야 요 제 스펙이랑 비슷하시면 m 사세요\n",
       "                             ...                        \n",
       "885                          합리적인 가격이 고 여름 반팔은 역시나 수아레네요\n",
       "886                     옷 2벌 와 요 선택 하실 때 다른 거로 선택하시길 바래요\n",
       "887       약간 큰 느낌이 긴 한데 이 가격에 이 정도면 무난 합니다 한 여름에는 힘들 듯해요\n",
       "888                      사이즈도 좋고 여름에 잘 입고 다니고 있습니다 추천합니다\n",
       "889                      가성비 젛아요 품은 생각보다 좀 커요 참고하세요 이 뻐요\n",
       "Name: Review, Length: 890, dtype: object"
      ]
     },
     "execution_count": 10,
     "metadata": {},
     "output_type": "execute_result"
    }
   ],
   "source": [
    "documents"
   ]
  },
  {
   "cell_type": "code",
   "execution_count": 5,
   "id": "bdf245b0-0b9f-42ea-a6f0-90cfed722229",
   "metadata": {},
   "outputs": [
    {
     "name": "stderr",
     "output_type": "stream",
     "text": [
      "C:\\Users\\HWAN\\anaconda3\\Lib\\site-packages\\sentence_transformers\\cross_encoder\\CrossEncoder.py:11: TqdmExperimentalWarning: Using `tqdm.autonotebook.tqdm` in notebook mode. Use `tqdm.tqdm` instead to force console mode (e.g. in jupyter console)\n",
      "  from tqdm.autonotebook import tqdm, trange\n"
     ]
    },
    {
     "name": "stdout",
     "output_type": "stream",
     "text": [
      "WARNING:tensorflow:From C:\\Users\\HWAN\\anaconda3\\Lib\\site-packages\\tf_keras\\src\\losses.py:2976: The name tf.losses.sparse_softmax_cross_entropy is deprecated. Please use tf.compat.v1.losses.sparse_softmax_cross_entropy instead.\n",
      "\n",
      "                                              Review  \\\n",
      "0  여름에 꼭 가지고 있어야 템 중 하나 입니다 원플원임에도 불구하고 퀄리티랑 핏이 너...   \n",
      "1               여름에 입기 딱 좋은 두께에요 부드러워서 맨 몸에 입어도 괜찮아요   \n",
      "2  시원한 느낌이라 좋습니다 부드러워 편하네요 카라와 단추 라인이 예쁘게 잘 나왔습니다...   \n",
      "3  무신사 매장까지 방문해서 재질확인후이 구매하였습니다 여름에 입기 좋은 두께감입니다 ...   \n",
      "4     최고에요 사이즈 살짝 오버핏인데 그냥 너무 좋야요 제 스펙이랑 비슷하시면 m 사세요   \n",
      "\n",
      "                                            Keywords  \n",
      "0  [(정사이즈로, 0.3535), (구매하시면, 0.3386), (구매하시거나, 0....  \n",
      "1  [(입어도, 0.6102), (부드러워서, 0.4709), (여름에, 0.4678)...  \n",
      "2  [(적당히, 0.6256), (라인이, 0.6139), (시원한, 0.6104), ...  \n",
      "3  [(재질확인후이, 0.7081), (방문해서, 0.6456), (무신사, 0.594...  \n",
      "4  [(스펙이랑, 0.6513), (사이즈, 0.5276), (사세요, 0.4755),...  \n"
     ]
    }
   ],
   "source": [
    "from keybert import KeyBERT\n",
    "from sklearn.feature_extraction.text import CountVectorizer\n",
    "\n",
    "# KeyBERT 모델 초기화\n",
    "kw_model = KeyBERT()\n",
    "\n",
    "vectorizer = CountVectorizer(ngram_range=(1, 1))\n",
    "\n",
    "# 각 문서에서 핵심 키워드 추출\n",
    "def extract_keywords(text):\n",
    "    # 각 텍스트에서 상위 5개의 키워드 추출\n",
    "    keywords = kw_model.extract_keywords(text, vectorizer=vectorizer, top_n=5)\n",
    "    return keywords\n",
    "\n",
    "# 전체 문서에 대해 핵심 키워드 추출\n",
    "df['Keywords'] = documents.apply(extract_keywords)\n",
    "\n",
    "# 키워드가 잘 추출되었는지 확인\n",
    "print(df[['Review', 'Keywords']].head())"
   ]
  },
  {
   "cell_type": "code",
   "execution_count": 6,
   "id": "ce37629c-0d0d-4c62-8a1a-93e3927c70e0",
   "metadata": {},
   "outputs": [
    {
     "data": {
      "text/html": [
       "<div>\n",
       "<style scoped>\n",
       "    .dataframe tbody tr th:only-of-type {\n",
       "        vertical-align: middle;\n",
       "    }\n",
       "\n",
       "    .dataframe tbody tr th {\n",
       "        vertical-align: top;\n",
       "    }\n",
       "\n",
       "    .dataframe thead th {\n",
       "        text-align: right;\n",
       "    }\n",
       "</style>\n",
       "<table border=\"1\" class=\"dataframe\">\n",
       "  <thead>\n",
       "    <tr style=\"text-align: right;\">\n",
       "      <th></th>\n",
       "      <th>Review</th>\n",
       "      <th>Star</th>\n",
       "      <th>Keywords</th>\n",
       "    </tr>\n",
       "  </thead>\n",
       "  <tbody>\n",
       "    <tr>\n",
       "      <th>0</th>\n",
       "      <td>여름에 꼭 가지고 있어야 템 중 하나 입니다 원플원임에도 불구하고 퀄리티랑 핏이 너...</td>\n",
       "      <td>5.0</td>\n",
       "      <td>[(정사이즈로, 0.3535), (구매하시면, 0.3386), (구매하시거나, 0....</td>\n",
       "    </tr>\n",
       "    <tr>\n",
       "      <th>1</th>\n",
       "      <td>여름에 입기 딱 좋은 두께에요 부드러워서 맨 몸에 입어도 괜찮아요</td>\n",
       "      <td>5.0</td>\n",
       "      <td>[(입어도, 0.6102), (부드러워서, 0.4709), (여름에, 0.4678)...</td>\n",
       "    </tr>\n",
       "    <tr>\n",
       "      <th>2</th>\n",
       "      <td>시원한 느낌이라 좋습니다 부드러워 편하네요 카라와 단추 라인이 예쁘게 잘 나왔습니다...</td>\n",
       "      <td>5.0</td>\n",
       "      <td>[(적당히, 0.6256), (라인이, 0.6139), (시원한, 0.6104), ...</td>\n",
       "    </tr>\n",
       "    <tr>\n",
       "      <th>3</th>\n",
       "      <td>무신사 매장까지 방문해서 재질확인후이 구매하였습니다 여름에 입기 좋은 두께감입니다 ...</td>\n",
       "      <td>5.0</td>\n",
       "      <td>[(재질확인후이, 0.7081), (방문해서, 0.6456), (무신사, 0.594...</td>\n",
       "    </tr>\n",
       "    <tr>\n",
       "      <th>4</th>\n",
       "      <td>최고에요 사이즈 살짝 오버핏인데 그냥 너무 좋야요 제 스펙이랑 비슷하시면 m 사세요</td>\n",
       "      <td>5.0</td>\n",
       "      <td>[(스펙이랑, 0.6513), (사이즈, 0.5276), (사세요, 0.4755),...</td>\n",
       "    </tr>\n",
       "    <tr>\n",
       "      <th>...</th>\n",
       "      <td>...</td>\n",
       "      <td>...</td>\n",
       "      <td>...</td>\n",
       "    </tr>\n",
       "    <tr>\n",
       "      <th>885</th>\n",
       "      <td>합리적인 가격이고 여름 반팔은 역시나 수아레네요</td>\n",
       "      <td>5.0</td>\n",
       "      <td>[(합리적인, 0.6039), (가격이고, 0.5589), (반팔은, 0.4801)...</td>\n",
       "    </tr>\n",
       "    <tr>\n",
       "      <th>886</th>\n",
       "      <td>옷 2벌 와요 선택하실때 다른거로 선택하시길 바래요</td>\n",
       "      <td>5.0</td>\n",
       "      <td>[(선택하시길, 0.6377), (2벌, 0.521), (다른거로, 0.5048),...</td>\n",
       "    </tr>\n",
       "    <tr>\n",
       "      <th>887</th>\n",
       "      <td>약간 큰 느낌이긴 한데 이 가격에 이정도면 무난 합니다 한여름에는 힘들듯해요</td>\n",
       "      <td>5.0</td>\n",
       "      <td>[(한여름에는, 0.6743), (무난, 0.6062), (합니다, 0.5799),...</td>\n",
       "    </tr>\n",
       "    <tr>\n",
       "      <th>888</th>\n",
       "      <td>사이즈도 좋고 여름에 잘 입고 다니고 있습니다 추천합니다</td>\n",
       "      <td>5.0</td>\n",
       "      <td>[(추천합니다, 0.8154), (다니고, 0.6586), (사이즈도, 0.6375...</td>\n",
       "    </tr>\n",
       "    <tr>\n",
       "      <th>889</th>\n",
       "      <td>가성비 젛아요 품은 생각보다 좀 커요 참고하세요 이뻐요</td>\n",
       "      <td>4.0</td>\n",
       "      <td>[(참고하세요, 0.6479), (가성비, 0.6211), (생각보다, 0.5426...</td>\n",
       "    </tr>\n",
       "  </tbody>\n",
       "</table>\n",
       "<p>890 rows × 3 columns</p>\n",
       "</div>"
      ],
      "text/plain": [
       "                                                Review  Star  \\\n",
       "0    여름에 꼭 가지고 있어야 템 중 하나 입니다 원플원임에도 불구하고 퀄리티랑 핏이 너...   5.0   \n",
       "1                 여름에 입기 딱 좋은 두께에요 부드러워서 맨 몸에 입어도 괜찮아요   5.0   \n",
       "2    시원한 느낌이라 좋습니다 부드러워 편하네요 카라와 단추 라인이 예쁘게 잘 나왔습니다...   5.0   \n",
       "3    무신사 매장까지 방문해서 재질확인후이 구매하였습니다 여름에 입기 좋은 두께감입니다 ...   5.0   \n",
       "4       최고에요 사이즈 살짝 오버핏인데 그냥 너무 좋야요 제 스펙이랑 비슷하시면 m 사세요   5.0   \n",
       "..                                                 ...   ...   \n",
       "885                        합리적인 가격이고 여름 반팔은 역시나 수아레네요    5.0   \n",
       "886                       옷 2벌 와요 선택하실때 다른거로 선택하시길 바래요   5.0   \n",
       "887         약간 큰 느낌이긴 한데 이 가격에 이정도면 무난 합니다 한여름에는 힘들듯해요   5.0   \n",
       "888                    사이즈도 좋고 여름에 잘 입고 다니고 있습니다 추천합니다   5.0   \n",
       "889                     가성비 젛아요 품은 생각보다 좀 커요 참고하세요 이뻐요   4.0   \n",
       "\n",
       "                                              Keywords  \n",
       "0    [(정사이즈로, 0.3535), (구매하시면, 0.3386), (구매하시거나, 0....  \n",
       "1    [(입어도, 0.6102), (부드러워서, 0.4709), (여름에, 0.4678)...  \n",
       "2    [(적당히, 0.6256), (라인이, 0.6139), (시원한, 0.6104), ...  \n",
       "3    [(재질확인후이, 0.7081), (방문해서, 0.6456), (무신사, 0.594...  \n",
       "4    [(스펙이랑, 0.6513), (사이즈, 0.5276), (사세요, 0.4755),...  \n",
       "..                                                 ...  \n",
       "885  [(합리적인, 0.6039), (가격이고, 0.5589), (반팔은, 0.4801)...  \n",
       "886  [(선택하시길, 0.6377), (2벌, 0.521), (다른거로, 0.5048),...  \n",
       "887  [(한여름에는, 0.6743), (무난, 0.6062), (합니다, 0.5799),...  \n",
       "888  [(추천합니다, 0.8154), (다니고, 0.6586), (사이즈도, 0.6375...  \n",
       "889  [(참고하세요, 0.6479), (가성비, 0.6211), (생각보다, 0.5426...  \n",
       "\n",
       "[890 rows x 3 columns]"
      ]
     },
     "execution_count": 6,
     "metadata": {},
     "output_type": "execute_result"
    }
   ],
   "source": [
    "df"
   ]
  },
  {
   "cell_type": "code",
   "execution_count": 7,
   "id": "721d0da5-ddc4-4c9b-b4e8-497dd31548e2",
   "metadata": {},
   "outputs": [
    {
     "name": "stdout",
     "output_type": "stream",
     "text": [
      "상위 15개의 키워드:\n",
      "너무: 91번\n",
      "입기: 60번\n",
      "가성비: 49번\n",
      "좋아요: 46번\n",
      "여름에: 44번\n",
      "사이즈도: 44번\n",
      "만족합니다: 41번\n",
      "색감도: 39번\n",
      "입고: 35번\n",
      "생각보다: 34번\n",
      "사이즈: 30번\n",
      "마음에: 28번\n",
      "입을: 27번\n",
      "재질도: 27번\n",
      "좋고: 27번\n"
     ]
    }
   ],
   "source": [
    "from collections import Counter\n",
    "\n",
    "# 각 문서에서 추출된 키워드를 모은 리스트 생성\n",
    "all_keywords = []\n",
    "\n",
    "for keywords in df['Keywords']:\n",
    "    # keywords는 [(단어, 가중치), (단어, 가중치), ...] 형식이므로 단어만 추출\n",
    "    all_keywords.extend([keyword[0] for keyword in keywords])\n",
    "\n",
    "# 키워드의 빈도 계산\n",
    "keyword_counts = Counter(all_keywords)\n",
    "\n",
    "# 빈도 상위 10개의 키워드 출력\n",
    "top_keywords = keyword_counts.most_common(15)\n",
    "\n",
    "# 상위 10개의 키워드와 그 빈도를 출력\n",
    "print(\"상위 15개의 키워드:\")\n",
    "for word, count in top_keywords:\n",
    "    print(f\"{word}: {count}번\")"
   ]
  },
  {
   "cell_type": "code",
   "execution_count": 8,
   "id": "c9cc5186-b7c7-41ac-97d6-d4193e403e1f",
   "metadata": {},
   "outputs": [
    {
     "name": "stdout",
     "output_type": "stream",
     "text": [
      "[('사이즈', 114), ('색감', 92), ('여름', 72), ('가성 비', 62), ('재질', 59), ('가격', 58), ('배송', 56), ('니트', 55), ('만족하다', 53), ('시원하다', 52)]\n"
     ]
    }
   ],
   "source": [
    "from collections import Counter\n",
    "from konlpy.tag import Okt\n",
    "\n",
    "# Okt 형태소 분석기 초기화\n",
    "okt = Okt()\n",
    "\n",
    "stop_words = ['좋다', '입다', '같다', '이다', '있다', '입']\n",
    "\n",
    "# 키워드를 원형으로 변환\n",
    "def lemmatize_keyword(keyword):\n",
    "    morphs = okt.pos(keyword, stem=True)  # 형태소 분석 및 어간 추출\n",
    "    lemmatized = [word for word, pos in morphs if pos in ['Noun', 'Verb', 'Adjective']] # 명사, 동사, 형용사 추출\n",
    "    return ' '.join(lemmatized) if lemmatized else None  # 원형 변환된 단어들을 합침, 없으면 None 반환\n",
    "\n",
    "# 키워드를 모두 모아서 리스트로 풀기\n",
    "all_keywords = []\n",
    "for keywords in df['Keywords']:\n",
    "    # 키워드 원형으로 변환 후 리스트에 추가 (불용어 제외)\n",
    "    for keyword, score in keywords:\n",
    "        lemmatized_keyword = lemmatize_keyword(keyword)\n",
    "        if lemmatized_keyword and lemmatized_keyword not in stop_words:  # 불용어 필터링\n",
    "            all_keywords.append(lemmatized_keyword)\n",
    "\n",
    "# 각 키워드의 빈도를 계산\n",
    "keyword_counts = Counter(all_keywords)\n",
    "\n",
    "# 상위 10개의 키워드 추출\n",
    "top_10_keywords = keyword_counts.most_common(10)\n",
    "\n",
    "# 결과 출력\n",
    "print(top_10_keywords)"
   ]
  },
  {
   "cell_type": "code",
   "execution_count": 23,
   "id": "deaf2ef0-885a-4d6b-b89c-731e2137a54e",
   "metadata": {},
   "outputs": [],
   "source": [
    "csv_title = \"[SET] 워셔블 케이블 반팔 니트 세트\"\n",
    "\n",
    "# 키워드만 추출하여 리스트로 변환\n",
    "top_10_keywords_list = [keyword for keyword, _ in top_10_keywords]\n",
    "\n",
    "keywords_str = ', '.join(top_10_keywords_list)\n",
    "\n",
    "# 데이터프레임 생성 (2열 1행: 'title'과 'keyword')\n",
    "df = pd.DataFrame({\n",
    "    'title': [csv_title],\n",
    "    'keyword': [keywords_str]\n",
    "})"
   ]
  },
  {
   "cell_type": "code",
   "execution_count": 25,
   "id": "d1f9e749-59a0-493e-beba-fd0ad349bb48",
   "metadata": {},
   "outputs": [],
   "source": [
    "df.to_csv('output.csv', index=False)"
   ]
  },
  {
   "cell_type": "markdown",
   "id": "b9f8d51b-a0e2-4898-9eac-b84772977cd0",
   "metadata": {
    "jp-MarkdownHeadingCollapsed": true
   },
   "source": [
    "### 유사도"
   ]
  },
  {
   "cell_type": "code",
   "execution_count": 9,
   "id": "ff6dcaef-6012-44d6-95e6-50d1d5910621",
   "metadata": {},
   "outputs": [
    {
     "name": "stdout",
     "output_type": "stream",
     "text": [
      "[('너무', 50.934399999999975), ('입기', 29.485300000000002), ('만족합니다', 29.198499999999996), ('가성비', 28.826499999999996), ('사이즈도', 27.499100000000002), ('색감도', 23.14320000000001), ('여름에', 20.394899999999996), ('생각보다', 19.092999999999996), ('입고', 18.4624), ('사이즈', 16.949499999999997)]\n"
     ]
    }
   ],
   "source": [
    "from collections import defaultdict\n",
    "\n",
    "# 키워드와 유사도를 저장할 딕셔너리 초기화\n",
    "keyword_scores = defaultdict(float)\n",
    "\n",
    "# 키워드를 모두 모아서 유사도를 합산\n",
    "for keywords in df['Keywords']:\n",
    "    for keyword, score in keywords:\n",
    "        keyword_scores[keyword] += score  # 키워드에 유사도(score) 더하기\n",
    "\n",
    "# 유사도가 높은 상위 10개 키워드 추출\n",
    "top_10_keywords_with_scores = sorted(keyword_scores.items(), key=lambda x: x[1], reverse=True)[:10]\n",
    "\n",
    "# 결과 출력\n",
    "print(top_10_keywords_with_scores)\n"
   ]
  },
  {
   "cell_type": "code",
   "execution_count": 10,
   "id": "56c5b554-2562-4038-abd7-f34e4792c86d",
   "metadata": {},
   "outputs": [
    {
     "name": "stdout",
     "output_type": "stream",
     "text": [
      "[('사이즈', 68.7178), ('색감', 54.8367), ('만족하다', 37.39309999999999), ('가성 비', 36.63450000000001), ('여름', 34.87310000000001), ('재질', 33.6559), ('배송', 32.547399999999996), ('가격', 32.340700000000005), ('시원하다', 30.535999999999994), ('니트', 29.453899999999997)]\n"
     ]
    }
   ],
   "source": [
    "from collections import defaultdict\n",
    "from konlpy.tag import Okt\n",
    "\n",
    "# Okt 형태소 분석기 초기화\n",
    "okt = Okt()\n",
    "\n",
    "stop_words = ['좋다', '입다', '같다', '이다', '있다', '입', '생각']\n",
    "\n",
    "\n",
    "# 키워드를 원형으로 변환하는 함수\n",
    "def lemmatize_keyword(keyword):\n",
    "    morphs = okt.pos(keyword, stem=True)  # 형태소 분석 + 어간 추출\n",
    "    # 품사가 명사(Noun)이거나 동사(Verb), 형용사(Adjective)인 경우만 원형으로 변환\n",
    "    lemmatized = [word for word, pos in morphs if pos in ['Noun', 'Verb', 'Adjective']]\n",
    "    return ' '.join(lemmatized)  # 원형 변환된 단어들을 문자열로 합침\n",
    "\n",
    "# 키워드와 유사도를 저장할 딕셔너리 초기화\n",
    "keyword_scores = defaultdict(float)\n",
    "\n",
    "# 키워드를 모두 모아서 유사도를 합산 (원형으로 변환하여 처리)\n",
    "for keywords in df['Keywords']:\n",
    "    for keyword, score in keywords:\n",
    "        lemmatized_keyword = lemmatize_keyword(keyword)  # 키워드 원형 변환\n",
    "        if lemmatized_keyword and lemmatized_keyword not in stop_words:  # 원형이 비어있지 않고 불용어가 아니라면\n",
    "            keyword_scores[lemmatized_keyword] += score  # 원형 키워드에 유사도 합산\n",
    "\n",
    "# 유사도가 높은 상위 10개 키워드 추출\n",
    "top_10_keywords_with_scores = sorted(keyword_scores.items(), key=lambda x: x[1], reverse=True)[:10]\n",
    "\n",
    "# 결과 출력\n",
    "print(top_10_keywords_with_scores)\n"
   ]
  },
  {
   "cell_type": "code",
   "execution_count": null,
   "id": "3dab61ac-3919-4d5c-8643-de9235133895",
   "metadata": {},
   "outputs": [],
   "source": []
  },
  {
   "cell_type": "markdown",
   "id": "035413fc-c277-4c0c-8641-934d1d604180",
   "metadata": {
    "jp-MarkdownHeadingCollapsed": true
   },
   "source": [
    "# 2"
   ]
  },
  {
   "cell_type": "code",
   "execution_count": 36,
   "id": "ef263db0-9ad9-4d52-b31c-7c3b68a4f0c3",
   "metadata": {},
   "outputs": [],
   "source": [
    "df = pd.read_csv('[2PACK] 쿨 코튼 티셔츠 블랙+화이트.csv')\n",
    "df = clean_review_column(df, 'Review')\n",
    "documents = df['Review']"
   ]
  },
  {
   "cell_type": "code",
   "execution_count": 37,
   "id": "e764c613-53bf-41c2-83b2-5edaf8ade160",
   "metadata": {},
   "outputs": [
    {
     "name": "stdout",
     "output_type": "stream",
     "text": [
      "                                              Review  \\\n",
      "0  이너티로 입을려고 샀는데 단독으로 입어도 이뻐서 완전 맘에 쏙 후기에 S사이즈도 길...   \n",
      "1      이너티로도 되게 단단하고 여름에 그냥 이거 하나만 입기에도 시웡하고 이쁜거같아요    \n",
      "2  옷이 되게 크게 나왔나봐요 평소에 s 아니면 m으로 사는 편인데 다른 후기들 보고 ...   \n",
      "3                          휘뚜루 마뚜루 입기에는 커버낫 기본이 최고예요   \n",
      "4  두 번째 주문 편함 재질 부드러움 박음질 튼튼함 흰색은 아주 약간 노란끼 있지만 깔...   \n",
      "\n",
      "                                            Keywords  \n",
      "0  [(엉덩이, 0.3746), (완전, 0.3354), (s사이즈도, 0.3219),...  \n",
      "1  [(이너티로도, 0.658), (시웡하고, 0.6566), (입기에도, 0.6257...  \n",
      "2  [(아니면, 0.5717), (xs인데도, 0.5459), (늘어날, 0.5391)...  \n",
      "3  [(기본이, 0.7704), (입기에는, 0.7695), (커버낫, 0.4534),...  \n",
      "4  [(만족도, 0.58), (흰색은, 0.5688), (박음질, 0.5592), (널...  \n"
     ]
    }
   ],
   "source": [
    "from keybert import KeyBERT\n",
    "from sklearn.feature_extraction.text import CountVectorizer\n",
    "\n",
    "# KeyBERT 모델 초기화\n",
    "kw_model = KeyBERT()\n",
    "\n",
    "vectorizer = CountVectorizer(ngram_range=(1, 1))\n",
    "\n",
    "# 전체 문서에 대해 핵심 키워드 추출\n",
    "df['Keywords'] = documents.apply(extract_keywords)\n",
    "\n",
    "# 키워드가 잘 추출되었는지 확인\n",
    "print(df[['Review', 'Keywords']].head())"
   ]
  },
  {
   "cell_type": "code",
   "execution_count": 38,
   "id": "6d03cfd1-e91b-4c78-ac8a-a9b6fa88c017",
   "metadata": {},
   "outputs": [
    {
     "name": "stdout",
     "output_type": "stream",
     "text": [
      "[('사이즈', 137), ('편하다', 121), ('시원하다', 120), ('재질', 86), ('여름', 74), ('배송', 68), ('티', 56), ('적당하다', 54), ('가격', 52), ('가성 비', 43)]\n"
     ]
    }
   ],
   "source": [
    "from collections import Counter\n",
    "from konlpy.tag import Okt\n",
    "\n",
    "# Okt 형태소 분석기 초기화\n",
    "okt = Okt()\n",
    "\n",
    "stop_words = ['좋다', '입다', '같다', '이다', '있다', '입']\n",
    "\n",
    "# 키워드를 모두 모아서 리스트로 풀기\n",
    "all_keywords = []\n",
    "for keywords in df['Keywords']:\n",
    "    # 키워드 원형으로 변환 후 리스트에 추가 (불용어 제외)\n",
    "    for keyword, score in keywords:\n",
    "        lemmatized_keyword = lemmatize_keyword(keyword)\n",
    "        if lemmatized_keyword and lemmatized_keyword not in stop_words:  # 불용어 필터링\n",
    "            all_keywords.append(lemmatized_keyword)\n",
    "\n",
    "# 각 키워드의 빈도를 계산\n",
    "keyword_counts = Counter(all_keywords)\n",
    "\n",
    "# 상위 10개의 키워드 추출\n",
    "top_10_keywords = keyword_counts.most_common(10)\n",
    "\n",
    "# 결과 출력\n",
    "print(top_10_keywords)"
   ]
  },
  {
   "cell_type": "code",
   "execution_count": 39,
   "id": "05cd1945-d03f-4717-a98a-eb035bd79526",
   "metadata": {},
   "outputs": [],
   "source": [
    "csv_title = \"[2PACK] 쿨 코튼 티셔츠 블랙+화이트\"\n",
    "\n",
    "# 키워드만 추출하여 리스트로 변환\n",
    "top_10_keywords_list = [keyword for keyword, _ in top_10_keywords]\n",
    "\n",
    "keywords_str = ', '.join(top_10_keywords_list)\n",
    "\n",
    "# 데이터프레임 생성 (2열 1행: 'title'과 'keyword')\n",
    "new_row = pd.DataFrame({\n",
    "    'title': [csv_title],\n",
    "    'keyword': [keywords_str]\n",
    "})\n",
    "\n",
    "df = pd.read_csv('output.csv')\n",
    "df = pd.concat([df, new_row], ignore_index=True)\n",
    "df.to_csv('output.csv', index=False)"
   ]
  },
  {
   "cell_type": "code",
   "execution_count": 40,
   "id": "96879d60-1995-42dc-bf9d-39786c1640e3",
   "metadata": {},
   "outputs": [
    {
     "data": {
      "text/html": [
       "<div>\n",
       "<style scoped>\n",
       "    .dataframe tbody tr th:only-of-type {\n",
       "        vertical-align: middle;\n",
       "    }\n",
       "\n",
       "    .dataframe tbody tr th {\n",
       "        vertical-align: top;\n",
       "    }\n",
       "\n",
       "    .dataframe thead th {\n",
       "        text-align: right;\n",
       "    }\n",
       "</style>\n",
       "<table border=\"1\" class=\"dataframe\">\n",
       "  <thead>\n",
       "    <tr style=\"text-align: right;\">\n",
       "      <th></th>\n",
       "      <th>title</th>\n",
       "      <th>keyword</th>\n",
       "    </tr>\n",
       "  </thead>\n",
       "  <tbody>\n",
       "    <tr>\n",
       "      <th>0</th>\n",
       "      <td>[SET] 워셔블 케이블 반팔 니트 세트</td>\n",
       "      <td>사이즈, 색감, 여름, 가성 비, 재질, 가격, 배송, 니트, 만족하다, 시원하다</td>\n",
       "    </tr>\n",
       "    <tr>\n",
       "      <th>1</th>\n",
       "      <td>DOODLE HEART HALF T WHITE GREYISH BLUE</td>\n",
       "      <td>프린팅, 디자인, 사이즈, 이쁘다, 들다, 편하다, 배송, 예쁘다, 재질, 생각</td>\n",
       "    </tr>\n",
       "    <tr>\n",
       "      <th>2</th>\n",
       "      <td>[2PACK] 쿨 코튼 티셔츠 블랙+화이트</td>\n",
       "      <td>사이즈, 편하다, 시원하다, 재질, 여름, 배송, 티, 적당하다, 가격, 가성 비</td>\n",
       "    </tr>\n",
       "  </tbody>\n",
       "</table>\n",
       "</div>"
      ],
      "text/plain": [
       "                                    title  \\\n",
       "0                  [SET] 워셔블 케이블 반팔 니트 세트   \n",
       "1  DOODLE HEART HALF T WHITE GREYISH BLUE   \n",
       "2                 [2PACK] 쿨 코튼 티셔츠 블랙+화이트   \n",
       "\n",
       "                                         keyword  \n",
       "0  사이즈, 색감, 여름, 가성 비, 재질, 가격, 배송, 니트, 만족하다, 시원하다  \n",
       "1   프린팅, 디자인, 사이즈, 이쁘다, 들다, 편하다, 배송, 예쁘다, 재질, 생각  \n",
       "2  사이즈, 편하다, 시원하다, 재질, 여름, 배송, 티, 적당하다, 가격, 가성 비  "
      ]
     },
     "execution_count": 40,
     "metadata": {},
     "output_type": "execute_result"
    }
   ],
   "source": [
    "df"
   ]
  },
  {
   "cell_type": "markdown",
   "id": "ec1dea0f-a2f0-4833-b2d0-8c77e1cf4fe2",
   "metadata": {
    "jp-MarkdownHeadingCollapsed": true
   },
   "source": [
    "# 3"
   ]
  },
  {
   "cell_type": "code",
   "execution_count": 31,
   "id": "162ca3a0-da06-4f2f-9b84-27e6721406bb",
   "metadata": {},
   "outputs": [],
   "source": [
    "df = pd.read_csv('DOODLE HEART HALF T WHITE GREYISH BLUE.csv')\n",
    "df = clean_review_column(df, 'Review')\n",
    "documents = df['Review']"
   ]
  },
  {
   "cell_type": "code",
   "execution_count": 32,
   "id": "c54c1bab-4502-41e8-8931-c6a53606b687",
   "metadata": {},
   "outputs": [
    {
     "name": "stdout",
     "output_type": "stream",
     "text": [
      "                                              Review  \\\n",
      "0  그래픽도 예쁜데 이 제품은 핏이 정말 너무 좋습니다 너무 길지 않은 스트릿한 티셔츠...   \n",
      "1              디자인이 너무 예쁘고 그렇게 두껍지도 않아서 한여름에도 입을만 해요   \n",
      "2                   사이즈도 잘맞고 디자인이랑 프린팅 다 너무 마음에 들어요    \n",
      "3                   넘 예뻐요 프린팅이 안 유치해서 마음에 들어요 잘 입을게요   \n",
      "4  커플티로 구매 했는데 너무 이쁘고 흔하지 않아서 더 좋아요 색감도 잘빠지고 프린팅도...   \n",
      "\n",
      "                                            Keywords  \n",
      "0  [(티셔츠를, 0.4813), (그래픽도, 0.399), (입을, 0.3822), ...  \n",
      "1  [(입을만, 0.689), (한여름에도, 0.6263), (디자인이, 0.6153)...  \n",
      "2  [(디자인이랑, 0.6118), (사이즈도, 0.55), (들어요, 0.519), ...  \n",
      "3  [(입을게요, 0.5402), (유치해서, 0.5267), (프린팅이, 0.4694...  \n",
      "4  [(커플티로, 0.6619), (프린팅도, 0.6514), (흔하지, 0.4587)...  \n"
     ]
    }
   ],
   "source": [
    "from keybert import KeyBERT\n",
    "from sklearn.feature_extraction.text import CountVectorizer\n",
    "\n",
    "# KeyBERT 모델 초기화\n",
    "kw_model = KeyBERT()\n",
    "\n",
    "vectorizer = CountVectorizer(ngram_range=(1, 1))\n",
    "\n",
    "# 전체 문서에 대해 핵심 키워드 추출\n",
    "df['Keywords'] = documents.apply(extract_keywords)\n",
    "\n",
    "# 키워드가 잘 추출되었는지 확인\n",
    "print(df[['Review', 'Keywords']].head())"
   ]
  },
  {
   "cell_type": "code",
   "execution_count": 33,
   "id": "f4fa953f-96be-4f9b-9468-d38e4fd69f7a",
   "metadata": {},
   "outputs": [
    {
     "name": "stdout",
     "output_type": "stream",
     "text": [
      "[('프린팅', 157), ('디자인', 138), ('사이즈', 104), ('이쁘다', 94), ('들다', 57), ('편하다', 56), ('배송', 51), ('예쁘다', 51), ('재질', 49), ('생각', 45)]\n"
     ]
    }
   ],
   "source": [
    "from collections import Counter\n",
    "from konlpy.tag import Okt\n",
    "\n",
    "# Okt 형태소 분석기 초기화\n",
    "okt = Okt()\n",
    "\n",
    "stop_words = ['좋다', '입다', '같다', '이다', '있다', '입']\n",
    "\n",
    "# 키워드를 모두 모아서 리스트로 풀기\n",
    "all_keywords = []\n",
    "for keywords in df['Keywords']:\n",
    "    # 키워드 원형으로 변환 후 리스트에 추가 (불용어 제외)\n",
    "    for keyword, score in keywords:\n",
    "        lemmatized_keyword = lemmatize_keyword(keyword)\n",
    "        if lemmatized_keyword and lemmatized_keyword not in stop_words:  # 불용어 필터링\n",
    "            all_keywords.append(lemmatized_keyword)\n",
    "\n",
    "# 각 키워드의 빈도를 계산\n",
    "keyword_counts = Counter(all_keywords)\n",
    "\n",
    "# 상위 10개의 키워드 추출\n",
    "top_10_keywords = keyword_counts.most_common(10)\n",
    "\n",
    "# 결과 출력\n",
    "print(top_10_keywords)"
   ]
  },
  {
   "cell_type": "code",
   "execution_count": 34,
   "id": "8bbccbf7-d2a1-4c97-b3f1-b861237cb768",
   "metadata": {},
   "outputs": [],
   "source": [
    "csv_title = \"DOODLE HEART HALF T WHITE GREYISH BLUE\"\n",
    "\n",
    "# 키워드만 추출하여 리스트로 변환\n",
    "top_10_keywords_list = [keyword for keyword, _ in top_10_keywords]\n",
    "\n",
    "keywords_str = ', '.join(top_10_keywords_list)\n",
    "\n",
    "# 데이터프레임 생성 (2열 1행: 'title'과 'keyword')\n",
    "new_row = pd.DataFrame({\n",
    "    'title': [csv_title],\n",
    "    'keyword': [keywords_str]\n",
    "})\n",
    "\n",
    "df = pd.read_csv('output.csv')\n",
    "df = pd.concat([df, new_row], ignore_index=True)\n",
    "df.to_csv('output.csv', index=False)"
   ]
  },
  {
   "cell_type": "code",
   "execution_count": 35,
   "id": "67795ade-a195-4add-a543-ce2e2cac13f3",
   "metadata": {},
   "outputs": [
    {
     "data": {
      "text/html": [
       "<div>\n",
       "<style scoped>\n",
       "    .dataframe tbody tr th:only-of-type {\n",
       "        vertical-align: middle;\n",
       "    }\n",
       "\n",
       "    .dataframe tbody tr th {\n",
       "        vertical-align: top;\n",
       "    }\n",
       "\n",
       "    .dataframe thead th {\n",
       "        text-align: right;\n",
       "    }\n",
       "</style>\n",
       "<table border=\"1\" class=\"dataframe\">\n",
       "  <thead>\n",
       "    <tr style=\"text-align: right;\">\n",
       "      <th></th>\n",
       "      <th>title</th>\n",
       "      <th>keyword</th>\n",
       "    </tr>\n",
       "  </thead>\n",
       "  <tbody>\n",
       "    <tr>\n",
       "      <th>0</th>\n",
       "      <td>[SET] 워셔블 케이블 반팔 니트 세트</td>\n",
       "      <td>사이즈, 색감, 여름, 가성 비, 재질, 가격, 배송, 니트, 만족하다, 시원하다</td>\n",
       "    </tr>\n",
       "    <tr>\n",
       "      <th>1</th>\n",
       "      <td>DOODLE HEART HALF T WHITE GREYISH BLUE</td>\n",
       "      <td>프린팅, 디자인, 사이즈, 이쁘다, 들다, 편하다, 배송, 예쁘다, 재질, 생각</td>\n",
       "    </tr>\n",
       "  </tbody>\n",
       "</table>\n",
       "</div>"
      ],
      "text/plain": [
       "                                    title  \\\n",
       "0                  [SET] 워셔블 케이블 반팔 니트 세트   \n",
       "1  DOODLE HEART HALF T WHITE GREYISH BLUE   \n",
       "\n",
       "                                         keyword  \n",
       "0  사이즈, 색감, 여름, 가성 비, 재질, 가격, 배송, 니트, 만족하다, 시원하다  \n",
       "1   프린팅, 디자인, 사이즈, 이쁘다, 들다, 편하다, 배송, 예쁘다, 재질, 생각  "
      ]
     },
     "execution_count": 35,
     "metadata": {},
     "output_type": "execute_result"
    }
   ],
   "source": [
    "df"
   ]
  },
  {
   "cell_type": "markdown",
   "id": "1070be61-4ba7-4fc2-847a-69bc12a372f7",
   "metadata": {
    "jp-MarkdownHeadingCollapsed": true
   },
   "source": [
    "# 4"
   ]
  },
  {
   "cell_type": "code",
   "execution_count": 41,
   "id": "8c5f63d6-da6b-4954-aa5b-d6da8bcfa271",
   "metadata": {},
   "outputs": [],
   "source": [
    "df = pd.read_csv('아우터3. ASI 포시즌 에센셜 피그먼트 후드집업_차콜 그레이.csv')\n",
    "df = clean_review_column(df, 'Review')\n",
    "documents = df['Review']"
   ]
  },
  {
   "cell_type": "code",
   "execution_count": 42,
   "id": "58499cb2-2e4e-4b6a-a35d-3208061d7016",
   "metadata": {},
   "outputs": [
    {
     "name": "stdout",
     "output_type": "stream",
     "text": [
      "                                              Review  \\\n",
      "0  저희 아들 180센티에 76kg 한테 입힐려고 주문했는데 넘 늦게 왔네요 취업땜에 ...   \n",
      "1                         사이즈도 좋고 재질도 좋은데 지퍼가 좀 아쉬워요   \n",
      "2            원하던 후드집업을 찾았오요 색감도 너무 예쁘고 기장감도 마음에 듭니다    \n",
      "3  스타일은 잘 잡았지만 얇은게 단점 그리고 지퍼가 스무스하게 내려가진 않음 그래도 이...   \n",
      "4                    실물이 더 예쁘네요 제가 원하던 피그먼트 후드집업입니다    \n",
      "\n",
      "                                            Keywords  \n",
      "0  [(180센티에, 0.5826), (입힐려고, 0.5132), (76kg, 0.49...  \n",
      "1  [(재질도, 0.7948), (사이즈도, 0.7777), (지퍼가, 0.7216),...  \n",
      "2  [(후드집업을, 0.7043), (기장감도, 0.6359), (듭니다, 0.5883...  \n",
      "3  [(내려가진, 0.6305), (합니다, 0.603), (입을, 0.6012), (...  \n",
      "4  [(후드집업입니다, 0.649), (피그먼트, 0.6464), (실물이, 0.521...  \n"
     ]
    }
   ],
   "source": [
    "from keybert import KeyBERT\n",
    "from sklearn.feature_extraction.text import CountVectorizer\n",
    "\n",
    "# KeyBERT 모델 초기화\n",
    "kw_model = KeyBERT()\n",
    "\n",
    "vectorizer = CountVectorizer(ngram_range=(1, 1))\n",
    "\n",
    "# 전체 문서에 대해 핵심 키워드 추출\n",
    "df['Keywords'] = documents.apply(extract_keywords)\n",
    "\n",
    "# 키워드가 잘 추출되었는지 확인\n",
    "print(df[['Review', 'Keywords']].head())"
   ]
  },
  {
   "cell_type": "code",
   "execution_count": 43,
   "id": "e52d77b2-3759-4a49-9444-e1f44206b42e",
   "metadata": {},
   "outputs": [
    {
     "name": "stdout",
     "output_type": "stream",
     "text": [
      "[('색감', 115), ('사이즈', 101), ('배송', 85), ('생각', 84), ('지퍼', 75), ('편하다', 75), ('디자인', 65), ('이쁘다', 61), ('적당하다', 58), ('무겁다', 49)]\n"
     ]
    }
   ],
   "source": [
    "from collections import Counter\n",
    "from konlpy.tag import Okt\n",
    "\n",
    "# Okt 형태소 분석기 초기화\n",
    "okt = Okt()\n",
    "\n",
    "stop_words = ['좋다', '입다', '같다', '이다', '있다', '입']\n",
    "\n",
    "# 키워드를 모두 모아서 리스트로 풀기\n",
    "all_keywords = []\n",
    "for keywords in df['Keywords']:\n",
    "    # 키워드 원형으로 변환 후 리스트에 추가 (불용어 제외)\n",
    "    for keyword, score in keywords:\n",
    "        lemmatized_keyword = lemmatize_keyword(keyword)\n",
    "        if lemmatized_keyword and lemmatized_keyword not in stop_words:  # 불용어 필터링\n",
    "            all_keywords.append(lemmatized_keyword)\n",
    "\n",
    "# 각 키워드의 빈도를 계산\n",
    "keyword_counts = Counter(all_keywords)\n",
    "\n",
    "# 상위 10개의 키워드 추출\n",
    "top_10_keywords = keyword_counts.most_common(10)\n",
    "\n",
    "# 결과 출력\n",
    "print(top_10_keywords)"
   ]
  },
  {
   "cell_type": "code",
   "execution_count": 44,
   "id": "b174da00-8abe-49d3-88bb-fe9bc431bb71",
   "metadata": {},
   "outputs": [],
   "source": [
    "csv_title = \"아우터3. ASI 포시즌 에센셜 피그먼트 후드집업_차콜 그레이\"\n",
    "\n",
    "# 키워드만 추출하여 리스트로 변환\n",
    "top_10_keywords_list = [keyword for keyword, _ in top_10_keywords]\n",
    "\n",
    "keywords_str = ', '.join(top_10_keywords_list)\n",
    "\n",
    "# 데이터프레임 생성 (2열 1행: 'title'과 'keyword')\n",
    "new_row = pd.DataFrame({\n",
    "    'title': [csv_title],\n",
    "    'keyword': [keywords_str]\n",
    "})\n",
    "\n",
    "df = pd.read_csv('output.csv')\n",
    "df = pd.concat([df, new_row], ignore_index=True)\n",
    "df.to_csv('output.csv', index=False)"
   ]
  },
  {
   "cell_type": "code",
   "execution_count": 45,
   "id": "51846a3d-91e6-4f66-a627-91fed7d8d167",
   "metadata": {},
   "outputs": [
    {
     "data": {
      "text/html": [
       "<div>\n",
       "<style scoped>\n",
       "    .dataframe tbody tr th:only-of-type {\n",
       "        vertical-align: middle;\n",
       "    }\n",
       "\n",
       "    .dataframe tbody tr th {\n",
       "        vertical-align: top;\n",
       "    }\n",
       "\n",
       "    .dataframe thead th {\n",
       "        text-align: right;\n",
       "    }\n",
       "</style>\n",
       "<table border=\"1\" class=\"dataframe\">\n",
       "  <thead>\n",
       "    <tr style=\"text-align: right;\">\n",
       "      <th></th>\n",
       "      <th>title</th>\n",
       "      <th>keyword</th>\n",
       "    </tr>\n",
       "  </thead>\n",
       "  <tbody>\n",
       "    <tr>\n",
       "      <th>0</th>\n",
       "      <td>[SET] 워셔블 케이블 반팔 니트 세트</td>\n",
       "      <td>사이즈, 색감, 여름, 가성 비, 재질, 가격, 배송, 니트, 만족하다, 시원하다</td>\n",
       "    </tr>\n",
       "    <tr>\n",
       "      <th>1</th>\n",
       "      <td>DOODLE HEART HALF T WHITE GREYISH BLUE</td>\n",
       "      <td>프린팅, 디자인, 사이즈, 이쁘다, 들다, 편하다, 배송, 예쁘다, 재질, 생각</td>\n",
       "    </tr>\n",
       "    <tr>\n",
       "      <th>2</th>\n",
       "      <td>[2PACK] 쿨 코튼 티셔츠 블랙+화이트</td>\n",
       "      <td>사이즈, 편하다, 시원하다, 재질, 여름, 배송, 티, 적당하다, 가격, 가성 비</td>\n",
       "    </tr>\n",
       "    <tr>\n",
       "      <th>3</th>\n",
       "      <td>아우터3. ASI 포시즌 에센셜 피그먼트 후드집업_차콜 그레이</td>\n",
       "      <td>색감, 사이즈, 배송, 생각, 지퍼, 편하다, 디자인, 이쁘다, 적당하다, 무겁다</td>\n",
       "    </tr>\n",
       "  </tbody>\n",
       "</table>\n",
       "</div>"
      ],
      "text/plain": [
       "                                    title  \\\n",
       "0                  [SET] 워셔블 케이블 반팔 니트 세트   \n",
       "1  DOODLE HEART HALF T WHITE GREYISH BLUE   \n",
       "2                 [2PACK] 쿨 코튼 티셔츠 블랙+화이트   \n",
       "3      아우터3. ASI 포시즌 에센셜 피그먼트 후드집업_차콜 그레이   \n",
       "\n",
       "                                         keyword  \n",
       "0  사이즈, 색감, 여름, 가성 비, 재질, 가격, 배송, 니트, 만족하다, 시원하다  \n",
       "1   프린팅, 디자인, 사이즈, 이쁘다, 들다, 편하다, 배송, 예쁘다, 재질, 생각  \n",
       "2  사이즈, 편하다, 시원하다, 재질, 여름, 배송, 티, 적당하다, 가격, 가성 비  \n",
       "3  색감, 사이즈, 배송, 생각, 지퍼, 편하다, 디자인, 이쁘다, 적당하다, 무겁다  "
      ]
     },
     "execution_count": 45,
     "metadata": {},
     "output_type": "execute_result"
    }
   ],
   "source": [
    "df"
   ]
  },
  {
   "cell_type": "markdown",
   "id": "fb448f8e-797c-4b1b-88c8-6f450dd043cf",
   "metadata": {
    "jp-MarkdownHeadingCollapsed": true
   },
   "source": [
    "# 5"
   ]
  },
  {
   "cell_type": "code",
   "execution_count": 46,
   "id": "6e30c457-a52d-4e15-beed-537f4188c58d",
   "metadata": {},
   "outputs": [],
   "source": [
    "df = pd.read_csv('아우터2. 파이어버드 트랙탑 - 블랙  IJ7058.csv')\n",
    "df = clean_review_column(df, 'Review')\n",
    "documents = df['Review']"
   ]
  },
  {
   "cell_type": "code",
   "execution_count": 47,
   "id": "ff6f1ba1-b112-4087-9c16-c738ad3ab19e",
   "metadata": {},
   "outputs": [
    {
     "name": "stdout",
     "output_type": "stream",
     "text": [
      "                                              Review  \\\n",
      "0  굿 확실히 듣던 대로 시보리가 자기주장이 강하네요 어릴 때 이 져지를 입은 형한테 ...   \n",
      "1  사이즈 정사이즈로 딱 맞고 시보리도 짱짱해서 좋아요 크게사도 이뻤겠지만 만족합니당 ...   \n",
      "2  L사이즈 구매했다가 너무 커서 S사이즈로 교환했어요 만족합니다 S사이즈도 넉넉해요 ...   \n",
      "3                        파이어버드 갖고 싶었는데 매일 입고다닐 것 같어용   \n",
      "4                    사이즈도 좀 큰가 했는데 넉넉하니 너무좋구 핏도 이뻐요    \n",
      "\n",
      "                                            Keywords  \n",
      "0  [(자기주장이, 0.6299), (확실히, 0.5971), (형한테, 0.562),...  \n",
      "1  [(만족합니당, 0.6837), (정사이즈로, 0.631), (자주보이는게, 0.6...  \n",
      "2  [(넉넉해요, 0.6591), (만족합니다, 0.6568), (커서, 0.6199)...  \n",
      "3  [(파이어버드, 0.767), (입고다닐, 0.7036), (매일, 0.6965),...  \n",
      "4  [(넉넉하니, 0.6981), (사이즈도, 0.688), (큰가, 0.6405), ...  \n"
     ]
    }
   ],
   "source": [
    "from keybert import KeyBERT\n",
    "from sklearn.feature_extraction.text import CountVectorizer\n",
    "\n",
    "# KeyBERT 모델 초기화\n",
    "kw_model = KeyBERT()\n",
    "\n",
    "vectorizer = CountVectorizer(ngram_range=(1, 1))\n",
    "\n",
    "# 전체 문서에 대해 핵심 키워드 추출\n",
    "df['Keywords'] = documents.apply(extract_keywords)\n",
    "\n",
    "# 키워드가 잘 추출되었는지 확인\n",
    "print(df[['Review', 'Keywords']].head())"
   ]
  },
  {
   "cell_type": "code",
   "execution_count": 50,
   "id": "7a6401fb-91f2-4c1a-a5dc-e0a1ca0c8b2a",
   "metadata": {},
   "outputs": [
    {
     "name": "stdout",
     "output_type": "stream",
     "text": [
      "[('사이즈', 181), ('편하다', 105), ('배송', 104), ('아디다스', 68), ('적당하다', 53), ('이쁘다', 53), ('만족하다', 51), ('크다', 47), ('져지', 43), ('디자인', 41)]\n"
     ]
    }
   ],
   "source": [
    "from collections import Counter\n",
    "from konlpy.tag import Okt\n",
    "\n",
    "# Okt 형태소 분석기 초기화\n",
    "okt = Okt()\n",
    "\n",
    "stop_words = ['좋다', '입다', '같다', '이다', '있다', '입', '생각', '하다']\n",
    "\n",
    "# 키워드를 모두 모아서 리스트로 풀기\n",
    "all_keywords = []\n",
    "for keywords in df['Keywords']:\n",
    "    # 키워드 원형으로 변환 후 리스트에 추가 (불용어 제외)\n",
    "    for keyword, score in keywords:\n",
    "        lemmatized_keyword = lemmatize_keyword(keyword)\n",
    "        if lemmatized_keyword and lemmatized_keyword not in stop_words:  # 불용어 필터링\n",
    "            all_keywords.append(lemmatized_keyword)\n",
    "\n",
    "# 각 키워드의 빈도를 계산\n",
    "keyword_counts = Counter(all_keywords)\n",
    "\n",
    "# 상위 10개의 키워드 추출\n",
    "top_10_keywords = keyword_counts.most_common(10)\n",
    "\n",
    "# 결과 출력\n",
    "print(top_10_keywords)"
   ]
  },
  {
   "cell_type": "code",
   "execution_count": 51,
   "id": "6810a8ff-ddc7-4933-a2ff-c0719f268e78",
   "metadata": {},
   "outputs": [],
   "source": [
    "csv_title = \"아우터2. 파이어버드 트랙탑 - 블랙  IJ7058\"\n",
    "\n",
    "# 키워드만 추출하여 리스트로 변환\n",
    "top_10_keywords_list = [keyword for keyword, _ in top_10_keywords]\n",
    "\n",
    "keywords_str = ', '.join(top_10_keywords_list)\n",
    "\n",
    "# 데이터프레임 생성 (2열 1행: 'title'과 'keyword')\n",
    "new_row = pd.DataFrame({\n",
    "    'title': [csv_title],\n",
    "    'keyword': [keywords_str]\n",
    "})\n",
    "\n",
    "df = pd.read_csv('output.csv')\n",
    "df = pd.concat([df, new_row], ignore_index=True)\n",
    "df.to_csv('output.csv', index=False)"
   ]
  },
  {
   "cell_type": "code",
   "execution_count": 52,
   "id": "24b9beb5-31e9-426e-a242-00140a1e67d2",
   "metadata": {},
   "outputs": [
    {
     "data": {
      "text/html": [
       "<div>\n",
       "<style scoped>\n",
       "    .dataframe tbody tr th:only-of-type {\n",
       "        vertical-align: middle;\n",
       "    }\n",
       "\n",
       "    .dataframe tbody tr th {\n",
       "        vertical-align: top;\n",
       "    }\n",
       "\n",
       "    .dataframe thead th {\n",
       "        text-align: right;\n",
       "    }\n",
       "</style>\n",
       "<table border=\"1\" class=\"dataframe\">\n",
       "  <thead>\n",
       "    <tr style=\"text-align: right;\">\n",
       "      <th></th>\n",
       "      <th>title</th>\n",
       "      <th>keyword</th>\n",
       "    </tr>\n",
       "  </thead>\n",
       "  <tbody>\n",
       "    <tr>\n",
       "      <th>0</th>\n",
       "      <td>[SET] 워셔블 케이블 반팔 니트 세트</td>\n",
       "      <td>사이즈, 색감, 여름, 가성 비, 재질, 가격, 배송, 니트, 만족하다, 시원하다</td>\n",
       "    </tr>\n",
       "    <tr>\n",
       "      <th>1</th>\n",
       "      <td>DOODLE HEART HALF T WHITE GREYISH BLUE</td>\n",
       "      <td>프린팅, 디자인, 사이즈, 이쁘다, 들다, 편하다, 배송, 예쁘다, 재질, 생각</td>\n",
       "    </tr>\n",
       "    <tr>\n",
       "      <th>2</th>\n",
       "      <td>[2PACK] 쿨 코튼 티셔츠 블랙+화이트</td>\n",
       "      <td>사이즈, 편하다, 시원하다, 재질, 여름, 배송, 티, 적당하다, 가격, 가성 비</td>\n",
       "    </tr>\n",
       "    <tr>\n",
       "      <th>3</th>\n",
       "      <td>아우터3. ASI 포시즌 에센셜 피그먼트 후드집업_차콜 그레이</td>\n",
       "      <td>색감, 사이즈, 배송, 생각, 지퍼, 편하다, 디자인, 이쁘다, 적당하다, 무겁다</td>\n",
       "    </tr>\n",
       "    <tr>\n",
       "      <th>4</th>\n",
       "      <td>아우터2. 파이어버드 트랙탑 - 블랙  IJ7058</td>\n",
       "      <td>사이즈, 편하다, 배송, 아디다스, 적당하다, 이쁘다, 만족하다, 크다, 져지, 디자인</td>\n",
       "    </tr>\n",
       "  </tbody>\n",
       "</table>\n",
       "</div>"
      ],
      "text/plain": [
       "                                    title  \\\n",
       "0                  [SET] 워셔블 케이블 반팔 니트 세트   \n",
       "1  DOODLE HEART HALF T WHITE GREYISH BLUE   \n",
       "2                 [2PACK] 쿨 코튼 티셔츠 블랙+화이트   \n",
       "3      아우터3. ASI 포시즌 에센셜 피그먼트 후드집업_차콜 그레이   \n",
       "4            아우터2. 파이어버드 트랙탑 - 블랙  IJ7058   \n",
       "\n",
       "                                            keyword  \n",
       "0     사이즈, 색감, 여름, 가성 비, 재질, 가격, 배송, 니트, 만족하다, 시원하다  \n",
       "1      프린팅, 디자인, 사이즈, 이쁘다, 들다, 편하다, 배송, 예쁘다, 재질, 생각  \n",
       "2     사이즈, 편하다, 시원하다, 재질, 여름, 배송, 티, 적당하다, 가격, 가성 비  \n",
       "3     색감, 사이즈, 배송, 생각, 지퍼, 편하다, 디자인, 이쁘다, 적당하다, 무겁다  \n",
       "4  사이즈, 편하다, 배송, 아디다스, 적당하다, 이쁘다, 만족하다, 크다, 져지, 디자인  "
      ]
     },
     "execution_count": 52,
     "metadata": {},
     "output_type": "execute_result"
    }
   ],
   "source": [
    "df"
   ]
  },
  {
   "cell_type": "markdown",
   "id": "1ac645ce-5367-4fe3-8256-d0a9d9af7145",
   "metadata": {
    "jp-MarkdownHeadingCollapsed": true
   },
   "source": [
    "# 6"
   ]
  },
  {
   "cell_type": "code",
   "execution_count": 55,
   "id": "1ad7650e-2fbe-4605-a7cd-2c7ce706b22a",
   "metadata": {},
   "outputs": [
    {
     "name": "stdout",
     "output_type": "stream",
     "text": [
      "                                              Review  \\\n",
      "0  예전부터 치카노 스타일로 입어보고 싶었는데 때마침 눈에 딱 들어와서 구매 해 봤습니...   \n",
      "1                  요즘 난 디키즈 러버 입니다 요즘 날씨에 여름까지 딱이에요    \n",
      "2  소재 빳빳하고 무난한 검정색이라 아무옷에 입어도 잘 어울려용 근데 다리길이가 쬐끔 ...   \n",
      "3                  핏이 너무 이쁘고 디테일들이 들어가서 입는 재미 쏠쏠합니다    \n",
      "4                   깔별로 쟁여놓는 바지입니다 36사이즈 헐렁호이 츠 직입니자   \n",
      "\n",
      "                                            Keywords  \n",
      "0  [(넉넉하니, 0.65), (사이즈는, 0.6146), (들어와서, 0.5614),...  \n",
      "1  [(날씨에, 0.7014), (디키즈, 0.4882), (요즘, 0.4868), (...  \n",
      "2  [(검정색이라, 0.6879), (어울려용, 0.6551), (입어도, 0.483)...  \n",
      "3  [(쏠쏠합니다, 0.7588), (디테일들이, 0.5939), (들어가서, 0.50...  \n",
      "4  [(36사이즈, 0.7329), (바지입니다, 0.5284), (직입니자, 0.49...  \n"
     ]
    }
   ],
   "source": [
    "df = pd.read_csv('42283 루즈핏 워크쇼츠 Black_reviews.csv')\n",
    "df = clean_review_column(df, 'Review')\n",
    "documents = df['Review']\n",
    "\n",
    "from keybert import KeyBERT\n",
    "from sklearn.feature_extraction.text import CountVectorizer\n",
    "\n",
    "# KeyBERT 모델 초기화\n",
    "kw_model = KeyBERT()\n",
    "\n",
    "vectorizer = CountVectorizer(ngram_range=(1, 1))\n",
    "\n",
    "# 전체 문서에 대해 핵심 키워드 추출\n",
    "df['Keywords'] = documents.apply(extract_keywords)\n",
    "\n",
    "# 키워드가 잘 추출되었는지 확인\n",
    "print(df[['Review', 'Keywords']].head())"
   ]
  },
  {
   "cell_type": "code",
   "execution_count": 56,
   "id": "3e71780f-cf4d-4dc2-a89e-93a97dd752bd",
   "metadata": {},
   "outputs": [
    {
     "name": "stdout",
     "output_type": "stream",
     "text": [
      "[('사이즈', 247), ('허리', 123), ('디 키즈', 74), ('재질', 72), ('바지', 64), ('크다', 56), ('만족하다', 50), ('업 하다', 47), ('기장', 47), ('핏', 47)]\n"
     ]
    }
   ],
   "source": [
    "from collections import Counter\n",
    "from konlpy.tag import Okt\n",
    "\n",
    "# Okt 형태소 분석기 초기화\n",
    "okt = Okt()\n",
    "\n",
    "stop_words = ['좋다', '입다', '같다', '이다', '있다', '입', '생각', '하다']\n",
    "\n",
    "# 키워드를 모두 모아서 리스트로 풀기\n",
    "all_keywords = []\n",
    "for keywords in df['Keywords']:\n",
    "    # 키워드 원형으로 변환 후 리스트에 추가 (불용어 제외)\n",
    "    for keyword, score in keywords:\n",
    "        lemmatized_keyword = lemmatize_keyword(keyword)\n",
    "        if lemmatized_keyword and lemmatized_keyword not in stop_words:  # 불용어 필터링\n",
    "            all_keywords.append(lemmatized_keyword)\n",
    "\n",
    "# 각 키워드의 빈도를 계산\n",
    "keyword_counts = Counter(all_keywords)\n",
    "\n",
    "# 상위 10개의 키워드 추출\n",
    "top_10_keywords = keyword_counts.most_common(10)\n",
    "\n",
    "# 결과 출력\n",
    "print(top_10_keywords)"
   ]
  },
  {
   "cell_type": "code",
   "execution_count": 57,
   "id": "4ec521fe-726f-4105-a7b7-24e6926ecbf4",
   "metadata": {},
   "outputs": [],
   "source": [
    "csv_title = \"42283 루즈핏 워크쇼츠 Black_reviews.csv\"\n",
    "\n",
    "# 키워드만 추출하여 리스트로 변환\n",
    "top_10_keywords_list = [keyword for keyword, _ in top_10_keywords]\n",
    "\n",
    "keywords_str = ', '.join(top_10_keywords_list)\n",
    "\n",
    "# 데이터프레임 생성 (2열 1행: 'title'과 'keyword')\n",
    "new_row = pd.DataFrame({\n",
    "    'title': [csv_title],\n",
    "    'keyword': [keywords_str]\n",
    "})\n",
    "\n",
    "df = pd.read_csv('output.csv')\n",
    "df = pd.concat([df, new_row], ignore_index=True)\n",
    "df.to_csv('output.csv', index=False)"
   ]
  },
  {
   "cell_type": "code",
   "execution_count": 59,
   "id": "48df477b-ccfe-448d-9648-db92d6051ba9",
   "metadata": {},
   "outputs": [
    {
     "data": {
      "text/html": [
       "<div>\n",
       "<style scoped>\n",
       "    .dataframe tbody tr th:only-of-type {\n",
       "        vertical-align: middle;\n",
       "    }\n",
       "\n",
       "    .dataframe tbody tr th {\n",
       "        vertical-align: top;\n",
       "    }\n",
       "\n",
       "    .dataframe thead th {\n",
       "        text-align: right;\n",
       "    }\n",
       "</style>\n",
       "<table border=\"1\" class=\"dataframe\">\n",
       "  <thead>\n",
       "    <tr style=\"text-align: right;\">\n",
       "      <th></th>\n",
       "      <th>title</th>\n",
       "      <th>keyword</th>\n",
       "    </tr>\n",
       "  </thead>\n",
       "  <tbody>\n",
       "    <tr>\n",
       "      <th>0</th>\n",
       "      <td>[SET] 워셔블 케이블 반팔 니트 세트</td>\n",
       "      <td>사이즈, 색감, 여름, 가성 비, 재질, 가격, 배송, 니트, 만족하다, 시원하다</td>\n",
       "    </tr>\n",
       "    <tr>\n",
       "      <th>1</th>\n",
       "      <td>DOODLE HEART HALF T WHITE GREYISH BLUE</td>\n",
       "      <td>프린팅, 디자인, 사이즈, 이쁘다, 들다, 편하다, 배송, 예쁘다, 재질, 생각</td>\n",
       "    </tr>\n",
       "    <tr>\n",
       "      <th>2</th>\n",
       "      <td>[2PACK] 쿨 코튼 티셔츠 블랙+화이트</td>\n",
       "      <td>사이즈, 편하다, 시원하다, 재질, 여름, 배송, 티, 적당하다, 가격, 가성 비</td>\n",
       "    </tr>\n",
       "    <tr>\n",
       "      <th>3</th>\n",
       "      <td>아우터3. ASI 포시즌 에센셜 피그먼트 후드집업_차콜 그레이</td>\n",
       "      <td>색감, 사이즈, 배송, 생각, 지퍼, 편하다, 디자인, 이쁘다, 적당하다, 무겁다</td>\n",
       "    </tr>\n",
       "    <tr>\n",
       "      <th>4</th>\n",
       "      <td>아우터2. 파이어버드 트랙탑 - 블랙  IJ7058</td>\n",
       "      <td>사이즈, 편하다, 배송, 아디다스, 적당하다, 이쁘다, 만족하다, 크다, 져지, 디자인</td>\n",
       "    </tr>\n",
       "    <tr>\n",
       "      <th>5</th>\n",
       "      <td>42283 루즈핏 워크쇼츠 Black_reviews.csv</td>\n",
       "      <td>사이즈, 허리, 디 키즈, 재질, 바지, 크다, 만족하다, 업 하다, 기장, 핏</td>\n",
       "    </tr>\n",
       "  </tbody>\n",
       "</table>\n",
       "</div>"
      ],
      "text/plain": [
       "                                    title  \\\n",
       "0                  [SET] 워셔블 케이블 반팔 니트 세트   \n",
       "1  DOODLE HEART HALF T WHITE GREYISH BLUE   \n",
       "2                 [2PACK] 쿨 코튼 티셔츠 블랙+화이트   \n",
       "3      아우터3. ASI 포시즌 에센셜 피그먼트 후드집업_차콜 그레이   \n",
       "4            아우터2. 파이어버드 트랙탑 - 블랙  IJ7058   \n",
       "5        42283 루즈핏 워크쇼츠 Black_reviews.csv   \n",
       "\n",
       "                                            keyword  \n",
       "0     사이즈, 색감, 여름, 가성 비, 재질, 가격, 배송, 니트, 만족하다, 시원하다  \n",
       "1      프린팅, 디자인, 사이즈, 이쁘다, 들다, 편하다, 배송, 예쁘다, 재질, 생각  \n",
       "2     사이즈, 편하다, 시원하다, 재질, 여름, 배송, 티, 적당하다, 가격, 가성 비  \n",
       "3     색감, 사이즈, 배송, 생각, 지퍼, 편하다, 디자인, 이쁘다, 적당하다, 무겁다  \n",
       "4  사이즈, 편하다, 배송, 아디다스, 적당하다, 이쁘다, 만족하다, 크다, 져지, 디자인  \n",
       "5      사이즈, 허리, 디 키즈, 재질, 바지, 크다, 만족하다, 업 하다, 기장, 핏  "
      ]
     },
     "execution_count": 59,
     "metadata": {},
     "output_type": "execute_result"
    }
   ],
   "source": [
    "df"
   ]
  },
  {
   "cell_type": "markdown",
   "id": "7956dce4-f70d-4ab9-8dfa-60a3e3694bbc",
   "metadata": {
    "jp-MarkdownHeadingCollapsed": true
   },
   "source": [
    "# 7"
   ]
  },
  {
   "cell_type": "code",
   "execution_count": 60,
   "id": "35536d92-b4f6-4b16-81d9-b9963bce9a53",
   "metadata": {},
   "outputs": [
    {
     "name": "stdout",
     "output_type": "stream",
     "text": [
      "                                              Review  \\\n",
      "0  장점 1 재질이 좋다 탄탄 재질이 싸구려가 아닌 게 티 나요 이런 트레이닝 팬츠 여...   \n",
      "1       핏이 엄청 좋은거 같아요 일단 비싸긴했는데 연말특가세일 받아서 싸게샀어요 추천    \n",
      "2  편하게 입을 스웨트팬츠 찾는 중에 턱이 있어서 심심해보이지 않고 볼륨감 있어서 아주...   \n",
      "3                    스타일 좋네요 색감이 너무 좋아요 가격대비 가성비입니다    \n",
      "4  배송빨라서 좋아요 두께는 중간정도라 한겨울아니면 다입을 수 있을듯 싶어요 핏도 예쁘...   \n",
      "\n",
      "                                            Keywords  \n",
      "0  [(사진으로는, 0.3445), (여기저기서, 0.3408), (가격대인, 0.33...  \n",
      "1  [(연말특가세일, 0.7779), (엄청, 0.5831), (추천, 0.4983),...  \n",
      "2  [(심심해보이지, 0.5359), (검정색, 0.5286), (만족하고, 0.444...  \n",
      "3  [(가성비입니다, 0.7411), (가격대비, 0.6163), (색감이, 0.574...  \n",
      "4  [(중간정도라, 0.7328), (한겨울아니면, 0.6507), (다입을, 0.59...  \n"
     ]
    }
   ],
   "source": [
    "df = pd.read_csv('(여름버전추가) 투턱 와이드 롱 스웨트 팬츠 [그레이]_reviews.csv')\n",
    "df = clean_review_column(df, 'Review')\n",
    "documents = df['Review']\n",
    "\n",
    "from keybert import KeyBERT\n",
    "from sklearn.feature_extraction.text import CountVectorizer\n",
    "\n",
    "# KeyBERT 모델 초기화\n",
    "kw_model = KeyBERT()\n",
    "\n",
    "vectorizer = CountVectorizer(ngram_range=(1, 1))\n",
    "\n",
    "# 전체 문서에 대해 핵심 키워드 추출\n",
    "df['Keywords'] = documents.apply(extract_keywords)\n",
    "\n",
    "# 키워드가 잘 추출되었는지 확인\n",
    "print(df[['Review', 'Keywords']].head())"
   ]
  },
  {
   "cell_type": "code",
   "execution_count": 62,
   "id": "800af56c-cf96-4de4-bf4f-f6c4bec4fce2",
   "metadata": {},
   "outputs": [
    {
     "name": "stdout",
     "output_type": "stream",
     "text": [
      "[('편하다', 142), ('여름', 99), ('기장', 77), ('바지', 63), ('배송', 57), ('사이즈', 53), ('핏', 51), ('시원하다', 51), ('이쁘다', 48), ('만족하다', 46)]\n"
     ]
    }
   ],
   "source": [
    "from collections import Counter\n",
    "from konlpy.tag import Okt\n",
    "\n",
    "# Okt 형태소 분석기 초기화\n",
    "okt = Okt()\n",
    "\n",
    "stop_words = ['좋다', '입다', '같다', '이다', '있다', '입', '생각', '하다', '기다', '들다']\n",
    "\n",
    "# 키워드를 모두 모아서 리스트로 풀기\n",
    "all_keywords = []\n",
    "for keywords in df['Keywords']:\n",
    "    # 키워드 원형으로 변환 후 리스트에 추가 (불용어 제외)\n",
    "    for keyword, score in keywords:\n",
    "        lemmatized_keyword = lemmatize_keyword(keyword)\n",
    "        if lemmatized_keyword and lemmatized_keyword not in stop_words:  # 불용어 필터링\n",
    "            all_keywords.append(lemmatized_keyword)\n",
    "\n",
    "# 각 키워드의 빈도를 계산\n",
    "keyword_counts = Counter(all_keywords)\n",
    "\n",
    "# 상위 10개의 키워드 추출\n",
    "top_10_keywords = keyword_counts.most_common(10)\n",
    "\n",
    "# 결과 출력\n",
    "print(top_10_keywords)"
   ]
  },
  {
   "cell_type": "code",
   "execution_count": 63,
   "id": "c43d07dc-0c99-490a-94e6-acdae0560fa7",
   "metadata": {},
   "outputs": [],
   "source": [
    "csv_title = \"(여름버전추가) 투턱 와이드 롱 스웨트 팬츠 [그레이]_reviews\"\n",
    "\n",
    "# 키워드만 추출하여 리스트로 변환\n",
    "top_10_keywords_list = [keyword for keyword, _ in top_10_keywords]\n",
    "\n",
    "keywords_str = ', '.join(top_10_keywords_list)\n",
    "\n",
    "# 데이터프레임 생성 (2열 1행: 'title'과 'keyword')\n",
    "new_row = pd.DataFrame({\n",
    "    'title': [csv_title],\n",
    "    'keyword': [keywords_str]\n",
    "})\n",
    "\n",
    "df = pd.read_csv('output.csv')\n",
    "df = pd.concat([df, new_row], ignore_index=True)\n",
    "df.to_csv('output.csv', index=False)"
   ]
  },
  {
   "cell_type": "code",
   "execution_count": 64,
   "id": "6d9981a5-e47c-490c-ab6c-a40fd90d2054",
   "metadata": {},
   "outputs": [
    {
     "data": {
      "text/html": [
       "<div>\n",
       "<style scoped>\n",
       "    .dataframe tbody tr th:only-of-type {\n",
       "        vertical-align: middle;\n",
       "    }\n",
       "\n",
       "    .dataframe tbody tr th {\n",
       "        vertical-align: top;\n",
       "    }\n",
       "\n",
       "    .dataframe thead th {\n",
       "        text-align: right;\n",
       "    }\n",
       "</style>\n",
       "<table border=\"1\" class=\"dataframe\">\n",
       "  <thead>\n",
       "    <tr style=\"text-align: right;\">\n",
       "      <th></th>\n",
       "      <th>title</th>\n",
       "      <th>keyword</th>\n",
       "    </tr>\n",
       "  </thead>\n",
       "  <tbody>\n",
       "    <tr>\n",
       "      <th>0</th>\n",
       "      <td>[SET] 워셔블 케이블 반팔 니트 세트</td>\n",
       "      <td>사이즈, 색감, 여름, 가성 비, 재질, 가격, 배송, 니트, 만족하다, 시원하다</td>\n",
       "    </tr>\n",
       "    <tr>\n",
       "      <th>1</th>\n",
       "      <td>DOODLE HEART HALF T WHITE GREYISH BLUE</td>\n",
       "      <td>프린팅, 디자인, 사이즈, 이쁘다, 들다, 편하다, 배송, 예쁘다, 재질, 생각</td>\n",
       "    </tr>\n",
       "    <tr>\n",
       "      <th>2</th>\n",
       "      <td>[2PACK] 쿨 코튼 티셔츠 블랙+화이트</td>\n",
       "      <td>사이즈, 편하다, 시원하다, 재질, 여름, 배송, 티, 적당하다, 가격, 가성 비</td>\n",
       "    </tr>\n",
       "    <tr>\n",
       "      <th>3</th>\n",
       "      <td>아우터3. ASI 포시즌 에센셜 피그먼트 후드집업_차콜 그레이</td>\n",
       "      <td>색감, 사이즈, 배송, 생각, 지퍼, 편하다, 디자인, 이쁘다, 적당하다, 무겁다</td>\n",
       "    </tr>\n",
       "    <tr>\n",
       "      <th>4</th>\n",
       "      <td>아우터2. 파이어버드 트랙탑 - 블랙  IJ7058</td>\n",
       "      <td>사이즈, 편하다, 배송, 아디다스, 적당하다, 이쁘다, 만족하다, 크다, 져지, 디자인</td>\n",
       "    </tr>\n",
       "    <tr>\n",
       "      <th>5</th>\n",
       "      <td>42283 루즈핏 워크쇼츠 Black_reviews.csv</td>\n",
       "      <td>사이즈, 허리, 디 키즈, 재질, 바지, 크다, 만족하다, 업 하다, 기장, 핏</td>\n",
       "    </tr>\n",
       "    <tr>\n",
       "      <th>6</th>\n",
       "      <td>(여름버전추가) 투턱 와이드 롱 스웨트 팬츠 [그레이]_reviews</td>\n",
       "      <td>편하다, 여름, 기장, 바지, 배송, 사이즈, 핏, 시원하다, 이쁘다, 만족하다</td>\n",
       "    </tr>\n",
       "  </tbody>\n",
       "</table>\n",
       "</div>"
      ],
      "text/plain": [
       "                                    title  \\\n",
       "0                  [SET] 워셔블 케이블 반팔 니트 세트   \n",
       "1  DOODLE HEART HALF T WHITE GREYISH BLUE   \n",
       "2                 [2PACK] 쿨 코튼 티셔츠 블랙+화이트   \n",
       "3      아우터3. ASI 포시즌 에센셜 피그먼트 후드집업_차콜 그레이   \n",
       "4            아우터2. 파이어버드 트랙탑 - 블랙  IJ7058   \n",
       "5        42283 루즈핏 워크쇼츠 Black_reviews.csv   \n",
       "6  (여름버전추가) 투턱 와이드 롱 스웨트 팬츠 [그레이]_reviews   \n",
       "\n",
       "                                            keyword  \n",
       "0     사이즈, 색감, 여름, 가성 비, 재질, 가격, 배송, 니트, 만족하다, 시원하다  \n",
       "1      프린팅, 디자인, 사이즈, 이쁘다, 들다, 편하다, 배송, 예쁘다, 재질, 생각  \n",
       "2     사이즈, 편하다, 시원하다, 재질, 여름, 배송, 티, 적당하다, 가격, 가성 비  \n",
       "3     색감, 사이즈, 배송, 생각, 지퍼, 편하다, 디자인, 이쁘다, 적당하다, 무겁다  \n",
       "4  사이즈, 편하다, 배송, 아디다스, 적당하다, 이쁘다, 만족하다, 크다, 져지, 디자인  \n",
       "5      사이즈, 허리, 디 키즈, 재질, 바지, 크다, 만족하다, 업 하다, 기장, 핏  \n",
       "6      편하다, 여름, 기장, 바지, 배송, 사이즈, 핏, 시원하다, 이쁘다, 만족하다  "
      ]
     },
     "execution_count": 64,
     "metadata": {},
     "output_type": "execute_result"
    }
   ],
   "source": [
    "df"
   ]
  },
  {
   "cell_type": "markdown",
   "id": "2a59ed3f-35e7-48ba-936f-06e95d9a029e",
   "metadata": {
    "jp-MarkdownHeadingCollapsed": true
   },
   "source": [
    "# 8"
   ]
  },
  {
   "cell_type": "code",
   "execution_count": 65,
   "id": "f95b0011-cb5e-424b-b96f-b58140450666",
   "metadata": {},
   "outputs": [
    {
     "name": "stdout",
     "output_type": "stream",
     "text": [
      "                                              Review  \\\n",
      "0  너모 예뻐요 그냥 제가 알던 재질인 줄 알았는데 좀 빳빳한 재질이에요 그리고 안에 ...   \n",
      "1  기장에 비해 품은 작고 또 작은 사이즈로 가자니 입기 답답해서 m 사이즈에서 xl로...   \n",
      "2  안에 살짝 기모느낌이 나서 따뜻해요 봄이나 가을에 이것만 걸쳐도될듯 아래 밴딩이 잘...   \n",
      "3  화면보다 색은 어두워요 그게더이쁜듯 입었을때 착감기는느낌은 아니지만 촤라락 떨어지는...   \n",
      "4   너무 예뻐서 사버림 약 2주 정도 입고 쓰는중 사이즈 약간 힙 백수 st로 입고싶...   \n",
      "\n",
      "                                            Keywords  \n",
      "0  [(고만고만합니다, 0.6639), (추천합니다, 0.6417), (안감이, 0.5...  \n",
      "1  [(사이즈에서, 0.6604), (사이즈로, 0.5839), (나와서, 0.5708...  \n",
      "2  [(밴딩이, 0.616), (늘어나서, 0.575), (완죤, 0.5624), (편...  \n",
      "3  [(흰색바지나, 0.7044), (추천해요, 0.6977), (화면보다, 0.616...  \n",
      "4  [(전형적인, 0.409), (정사이즈, 0.3853), (무조건, 0.3735),...  \n"
     ]
    }
   ],
   "source": [
    "df = pd.read_csv('아우터1. 베켄바우어 트랙탑 - 인디고  IP0418.csv')\n",
    "df = clean_review_column(df, 'Review')\n",
    "documents = df['Review']\n",
    "\n",
    "from keybert import KeyBERT\n",
    "from sklearn.feature_extraction.text import CountVectorizer\n",
    "\n",
    "# KeyBERT 모델 초기화\n",
    "kw_model = KeyBERT()\n",
    "\n",
    "vectorizer = CountVectorizer(ngram_range=(1, 1))\n",
    "\n",
    "# 전체 문서에 대해 핵심 키워드 추출\n",
    "df['Keywords'] = documents.apply(extract_keywords)\n",
    "\n",
    "# 키워드가 잘 추출되었는지 확인\n",
    "print(df[['Review', 'Keywords']].head())"
   ]
  },
  {
   "cell_type": "code",
   "execution_count": 67,
   "id": "c62537ed-3cd8-4e93-9fb1-a9265dae6fbc",
   "metadata": {},
   "outputs": [
    {
     "name": "stdout",
     "output_type": "stream",
     "text": [
      "[('사이즈', 24), ('아디다스', 12), ('편하다', 11), ('색감', 8), ('예쁘다', 8), ('만족하다', 8), ('이쁘다', 8), ('실물', 7), ('역시', 7), ('기장', 6)]\n"
     ]
    }
   ],
   "source": [
    "from collections import Counter\n",
    "from konlpy.tag import Okt\n",
    "\n",
    "# Okt 형태소 분석기 초기화\n",
    "okt = Okt()\n",
    "\n",
    "stop_words = ['좋다', '입다', '같다', '이다', '있다', '입', '생각', '하다', '기다', '들다']\n",
    "\n",
    "# 키워드를 모두 모아서 리스트로 풀기\n",
    "all_keywords = []\n",
    "for keywords in df['Keywords']:\n",
    "    # 키워드 원형으로 변환 후 리스트에 추가 (불용어 제외)\n",
    "    for keyword, score in keywords:\n",
    "        lemmatized_keyword = lemmatize_keyword(keyword)\n",
    "        if lemmatized_keyword and lemmatized_keyword not in stop_words:  # 불용어 필터링\n",
    "            all_keywords.append(lemmatized_keyword)\n",
    "\n",
    "# 각 키워드의 빈도를 계산\n",
    "keyword_counts = Counter(all_keywords)\n",
    "\n",
    "# 상위 10개의 키워드 추출\n",
    "top_10_keywords = keyword_counts.most_common(10)\n",
    "\n",
    "# 결과 출력\n",
    "print(top_10_keywords)"
   ]
  },
  {
   "cell_type": "code",
   "execution_count": 68,
   "id": "73f9a069-bf41-4096-9e51-55095d9d0254",
   "metadata": {},
   "outputs": [],
   "source": [
    "csv_title = \"아우터1. 베켄바우어 트랙탑 - 인디고  IP0418\"\n",
    "\n",
    "# 키워드만 추출하여 리스트로 변환\n",
    "top_10_keywords_list = [keyword for keyword, _ in top_10_keywords]\n",
    "\n",
    "keywords_str = ', '.join(top_10_keywords_list)\n",
    "\n",
    "# 데이터프레임 생성 (2열 1행: 'title'과 'keyword')\n",
    "new_row = pd.DataFrame({\n",
    "    'title': [csv_title],\n",
    "    'keyword': [keywords_str]\n",
    "})\n",
    "\n",
    "df = pd.read_csv('output.csv')\n",
    "df = pd.concat([df, new_row], ignore_index=True)\n",
    "df.to_csv('output.csv', index=False)"
   ]
  },
  {
   "cell_type": "code",
   "execution_count": 69,
   "id": "35020e87-7726-424c-94ce-9c4d7c129b5f",
   "metadata": {},
   "outputs": [
    {
     "data": {
      "text/html": [
       "<div>\n",
       "<style scoped>\n",
       "    .dataframe tbody tr th:only-of-type {\n",
       "        vertical-align: middle;\n",
       "    }\n",
       "\n",
       "    .dataframe tbody tr th {\n",
       "        vertical-align: top;\n",
       "    }\n",
       "\n",
       "    .dataframe thead th {\n",
       "        text-align: right;\n",
       "    }\n",
       "</style>\n",
       "<table border=\"1\" class=\"dataframe\">\n",
       "  <thead>\n",
       "    <tr style=\"text-align: right;\">\n",
       "      <th></th>\n",
       "      <th>title</th>\n",
       "      <th>keyword</th>\n",
       "    </tr>\n",
       "  </thead>\n",
       "  <tbody>\n",
       "    <tr>\n",
       "      <th>0</th>\n",
       "      <td>[SET] 워셔블 케이블 반팔 니트 세트</td>\n",
       "      <td>사이즈, 색감, 여름, 가성 비, 재질, 가격, 배송, 니트, 만족하다, 시원하다</td>\n",
       "    </tr>\n",
       "    <tr>\n",
       "      <th>1</th>\n",
       "      <td>DOODLE HEART HALF T WHITE GREYISH BLUE</td>\n",
       "      <td>프린팅, 디자인, 사이즈, 이쁘다, 들다, 편하다, 배송, 예쁘다, 재질, 생각</td>\n",
       "    </tr>\n",
       "    <tr>\n",
       "      <th>2</th>\n",
       "      <td>[2PACK] 쿨 코튼 티셔츠 블랙+화이트</td>\n",
       "      <td>사이즈, 편하다, 시원하다, 재질, 여름, 배송, 티, 적당하다, 가격, 가성 비</td>\n",
       "    </tr>\n",
       "    <tr>\n",
       "      <th>3</th>\n",
       "      <td>아우터3. ASI 포시즌 에센셜 피그먼트 후드집업_차콜 그레이</td>\n",
       "      <td>색감, 사이즈, 배송, 생각, 지퍼, 편하다, 디자인, 이쁘다, 적당하다, 무겁다</td>\n",
       "    </tr>\n",
       "    <tr>\n",
       "      <th>4</th>\n",
       "      <td>아우터2. 파이어버드 트랙탑 - 블랙  IJ7058</td>\n",
       "      <td>사이즈, 편하다, 배송, 아디다스, 적당하다, 이쁘다, 만족하다, 크다, 져지, 디자인</td>\n",
       "    </tr>\n",
       "    <tr>\n",
       "      <th>5</th>\n",
       "      <td>42283 루즈핏 워크쇼츠 Black_reviews.csv</td>\n",
       "      <td>사이즈, 허리, 디 키즈, 재질, 바지, 크다, 만족하다, 업 하다, 기장, 핏</td>\n",
       "    </tr>\n",
       "    <tr>\n",
       "      <th>6</th>\n",
       "      <td>(여름버전추가) 투턱 와이드 롱 스웨트 팬츠 [그레이]_reviews</td>\n",
       "      <td>편하다, 여름, 기장, 바지, 배송, 사이즈, 핏, 시원하다, 이쁘다, 만족하다</td>\n",
       "    </tr>\n",
       "    <tr>\n",
       "      <th>7</th>\n",
       "      <td>아우터1. 베켄바우어 트랙탑 - 인디고  IP0418</td>\n",
       "      <td>사이즈, 아디다스, 편하다, 색감, 예쁘다, 만족하다, 이쁘다, 실물, 역시, 기장</td>\n",
       "    </tr>\n",
       "  </tbody>\n",
       "</table>\n",
       "</div>"
      ],
      "text/plain": [
       "                                    title  \\\n",
       "0                  [SET] 워셔블 케이블 반팔 니트 세트   \n",
       "1  DOODLE HEART HALF T WHITE GREYISH BLUE   \n",
       "2                 [2PACK] 쿨 코튼 티셔츠 블랙+화이트   \n",
       "3      아우터3. ASI 포시즌 에센셜 피그먼트 후드집업_차콜 그레이   \n",
       "4            아우터2. 파이어버드 트랙탑 - 블랙  IJ7058   \n",
       "5        42283 루즈핏 워크쇼츠 Black_reviews.csv   \n",
       "6  (여름버전추가) 투턱 와이드 롱 스웨트 팬츠 [그레이]_reviews   \n",
       "7           아우터1. 베켄바우어 트랙탑 - 인디고  IP0418   \n",
       "\n",
       "                                            keyword  \n",
       "0     사이즈, 색감, 여름, 가성 비, 재질, 가격, 배송, 니트, 만족하다, 시원하다  \n",
       "1      프린팅, 디자인, 사이즈, 이쁘다, 들다, 편하다, 배송, 예쁘다, 재질, 생각  \n",
       "2     사이즈, 편하다, 시원하다, 재질, 여름, 배송, 티, 적당하다, 가격, 가성 비  \n",
       "3     색감, 사이즈, 배송, 생각, 지퍼, 편하다, 디자인, 이쁘다, 적당하다, 무겁다  \n",
       "4  사이즈, 편하다, 배송, 아디다스, 적당하다, 이쁘다, 만족하다, 크다, 져지, 디자인  \n",
       "5      사이즈, 허리, 디 키즈, 재질, 바지, 크다, 만족하다, 업 하다, 기장, 핏  \n",
       "6      편하다, 여름, 기장, 바지, 배송, 사이즈, 핏, 시원하다, 이쁘다, 만족하다  \n",
       "7    사이즈, 아디다스, 편하다, 색감, 예쁘다, 만족하다, 이쁘다, 실물, 역시, 기장  "
      ]
     },
     "execution_count": 69,
     "metadata": {},
     "output_type": "execute_result"
    }
   ],
   "source": [
    "df"
   ]
  },
  {
   "cell_type": "markdown",
   "id": "62df4352-5f27-40c8-8375-cc1c52054c62",
   "metadata": {},
   "source": [
    "# 9"
   ]
  },
  {
   "cell_type": "code",
   "execution_count": 70,
   "id": "b0b2600e-5d2d-44bc-9df1-90a45d26b6a5",
   "metadata": {},
   "outputs": [
    {
     "name": "stdout",
     "output_type": "stream",
     "text": [
      "                                              Review  \\\n",
      "0         다리가 상당히 길어보입니다 가을에 이것만 땡겨입겠습 둥 아 밑위가 좀 짧아요   \n",
      "1        아우 예뻐용 홍홍 말라서 30이랑 32 고민 많이 됐는데 32 입어도 예뿌네용   \n",
      "2  여자후기 없어서 고민 많이 하다가 그냥 샀는데 핏이랑 색감 다 맘에 드네요 길다고 ...   \n",
      "3  사이즈는 정사이즈 가시면 될 것 같아요 일직선으로 떨어지는 스트레이트 핏이 이쁩니다...   \n",
      "4                         튼실한 제 빵댕이도 견딜줄 몰랐습니다 강추합니다   \n",
      "\n",
      "                                            Keywords  \n",
      "0  [(상당히, 0.6784), (길어보입니다, 0.6781), (다리가, 0.5632...  \n",
      "1  [(30이랑, 0.5924), (32, 0.4495), (입어도, 0.305), (...  \n",
      "2  [(롤업하는, 0.6706), (다니는, 0.6313), (여자후기, 0.5767)...  \n",
      "3  [(일직선으로, 0.6306), (정사이즈, 0.6074), (워싱은, 0.5633...  \n",
      "4  [(강추합니다, 0.7244), (튼실한, 0.633), (견딜줄, 0.5909),...  \n"
     ]
    }
   ],
   "source": [
    "df = pd.read_csv('1967 JET BLACK JEANS [WIDE STRAIGHT]_reviews.csv')\n",
    "df = clean_review_column(df, 'Review')\n",
    "documents = df['Review']\n",
    "\n",
    "from keybert import KeyBERT\n",
    "from sklearn.feature_extraction.text import CountVectorizer\n",
    "\n",
    "# KeyBERT 모델 초기화\n",
    "kw_model = KeyBERT()\n",
    "\n",
    "vectorizer = CountVectorizer(ngram_range=(1, 1))\n",
    "\n",
    "# 전체 문서에 대해 핵심 키워드 추출\n",
    "df['Keywords'] = documents.apply(extract_keywords)\n",
    "\n",
    "# 키워드가 잘 추출되었는지 확인\n",
    "print(df[['Review', 'Keywords']].head())"
   ]
  },
  {
   "cell_type": "code",
   "execution_count": 71,
   "id": "44b25c83-a02d-40e1-a931-6b9d11e3640b",
   "metadata": {},
   "outputs": [
    {
     "name": "stdout",
     "output_type": "stream",
     "text": [
      "[('기장', 124), ('바지', 118), ('사이즈', 112), ('색감', 80), ('만족하다', 68), ('적당하다', 59), ('브랜디 드', 58), ('핏', 57), ('이쁘다', 56), ('허리', 55)]\n"
     ]
    }
   ],
   "source": [
    "from collections import Counter\n",
    "from konlpy.tag import Okt\n",
    "\n",
    "# Okt 형태소 분석기 초기화\n",
    "okt = Okt()\n",
    "\n",
    "stop_words = ['좋다', '입다', '같다', '이다', '있다', '입', '생각', '하다', '기다', '들다']\n",
    "\n",
    "# 키워드를 모두 모아서 리스트로 풀기\n",
    "all_keywords = []\n",
    "for keywords in df['Keywords']:\n",
    "    # 키워드 원형으로 변환 후 리스트에 추가 (불용어 제외)\n",
    "    for keyword, score in keywords:\n",
    "        lemmatized_keyword = lemmatize_keyword(keyword)\n",
    "        if lemmatized_keyword and lemmatized_keyword not in stop_words:  # 불용어 필터링\n",
    "            all_keywords.append(lemmatized_keyword)\n",
    "\n",
    "# 각 키워드의 빈도를 계산\n",
    "keyword_counts = Counter(all_keywords)\n",
    "\n",
    "# 상위 10개의 키워드 추출\n",
    "top_10_keywords = keyword_counts.most_common(10)\n",
    "\n",
    "# 결과 출력\n",
    "print(top_10_keywords)"
   ]
  },
  {
   "cell_type": "code",
   "execution_count": 72,
   "id": "d7e7afcf-a2d4-41ba-bdf7-5f381239c83c",
   "metadata": {},
   "outputs": [],
   "source": [
    "csv_title = \"1967 JET BLACK JEANS [WIDE STRAIGHT]_reviews\"\n",
    "\n",
    "# 키워드만 추출하여 리스트로 변환\n",
    "top_10_keywords_list = [keyword for keyword, _ in top_10_keywords]\n",
    "\n",
    "keywords_str = ', '.join(top_10_keywords_list)\n",
    "\n",
    "# 데이터프레임 생성 (2열 1행: 'title'과 'keyword')\n",
    "new_row = pd.DataFrame({\n",
    "    'title': [csv_title],\n",
    "    'keyword': [keywords_str]\n",
    "})\n",
    "\n",
    "df = pd.read_csv('output.csv')\n",
    "df = pd.concat([df, new_row], ignore_index=True)\n",
    "df.to_csv('output.csv', index=False)"
   ]
  },
  {
   "cell_type": "code",
   "execution_count": 73,
   "id": "0bc3cd18-53a8-4f47-b096-2e35d309f936",
   "metadata": {},
   "outputs": [
    {
     "data": {
      "text/html": [
       "<div>\n",
       "<style scoped>\n",
       "    .dataframe tbody tr th:only-of-type {\n",
       "        vertical-align: middle;\n",
       "    }\n",
       "\n",
       "    .dataframe tbody tr th {\n",
       "        vertical-align: top;\n",
       "    }\n",
       "\n",
       "    .dataframe thead th {\n",
       "        text-align: right;\n",
       "    }\n",
       "</style>\n",
       "<table border=\"1\" class=\"dataframe\">\n",
       "  <thead>\n",
       "    <tr style=\"text-align: right;\">\n",
       "      <th></th>\n",
       "      <th>title</th>\n",
       "      <th>keyword</th>\n",
       "    </tr>\n",
       "  </thead>\n",
       "  <tbody>\n",
       "    <tr>\n",
       "      <th>0</th>\n",
       "      <td>[SET] 워셔블 케이블 반팔 니트 세트</td>\n",
       "      <td>사이즈, 색감, 여름, 가성 비, 재질, 가격, 배송, 니트, 만족하다, 시원하다</td>\n",
       "    </tr>\n",
       "    <tr>\n",
       "      <th>1</th>\n",
       "      <td>DOODLE HEART HALF T WHITE GREYISH BLUE</td>\n",
       "      <td>프린팅, 디자인, 사이즈, 이쁘다, 들다, 편하다, 배송, 예쁘다, 재질, 생각</td>\n",
       "    </tr>\n",
       "    <tr>\n",
       "      <th>2</th>\n",
       "      <td>[2PACK] 쿨 코튼 티셔츠 블랙+화이트</td>\n",
       "      <td>사이즈, 편하다, 시원하다, 재질, 여름, 배송, 티, 적당하다, 가격, 가성 비</td>\n",
       "    </tr>\n",
       "    <tr>\n",
       "      <th>3</th>\n",
       "      <td>아우터3. ASI 포시즌 에센셜 피그먼트 후드집업_차콜 그레이</td>\n",
       "      <td>색감, 사이즈, 배송, 생각, 지퍼, 편하다, 디자인, 이쁘다, 적당하다, 무겁다</td>\n",
       "    </tr>\n",
       "    <tr>\n",
       "      <th>4</th>\n",
       "      <td>아우터2. 파이어버드 트랙탑 - 블랙  IJ7058</td>\n",
       "      <td>사이즈, 편하다, 배송, 아디다스, 적당하다, 이쁘다, 만족하다, 크다, 져지, 디자인</td>\n",
       "    </tr>\n",
       "    <tr>\n",
       "      <th>5</th>\n",
       "      <td>42283 루즈핏 워크쇼츠 Black_reviews.csv</td>\n",
       "      <td>사이즈, 허리, 디 키즈, 재질, 바지, 크다, 만족하다, 업 하다, 기장, 핏</td>\n",
       "    </tr>\n",
       "    <tr>\n",
       "      <th>6</th>\n",
       "      <td>(여름버전추가) 투턱 와이드 롱 스웨트 팬츠 [그레이]_reviews</td>\n",
       "      <td>편하다, 여름, 기장, 바지, 배송, 사이즈, 핏, 시원하다, 이쁘다, 만족하다</td>\n",
       "    </tr>\n",
       "    <tr>\n",
       "      <th>7</th>\n",
       "      <td>아우터1. 베켄바우어 트랙탑 - 인디고  IP0418</td>\n",
       "      <td>사이즈, 아디다스, 편하다, 색감, 예쁘다, 만족하다, 이쁘다, 실물, 역시, 기장</td>\n",
       "    </tr>\n",
       "    <tr>\n",
       "      <th>8</th>\n",
       "      <td>1967 JET BLACK JEANS [WIDE STRAIGHT]_reviews</td>\n",
       "      <td>기장, 바지, 사이즈, 색감, 만족하다, 적당하다, 브랜디 드, 핏, 이쁘다, 허리</td>\n",
       "    </tr>\n",
       "  </tbody>\n",
       "</table>\n",
       "</div>"
      ],
      "text/plain": [
       "                                          title  \\\n",
       "0                        [SET] 워셔블 케이블 반팔 니트 세트   \n",
       "1        DOODLE HEART HALF T WHITE GREYISH BLUE   \n",
       "2                       [2PACK] 쿨 코튼 티셔츠 블랙+화이트   \n",
       "3            아우터3. ASI 포시즌 에센셜 피그먼트 후드집업_차콜 그레이   \n",
       "4                  아우터2. 파이어버드 트랙탑 - 블랙  IJ7058   \n",
       "5              42283 루즈핏 워크쇼츠 Black_reviews.csv   \n",
       "6        (여름버전추가) 투턱 와이드 롱 스웨트 팬츠 [그레이]_reviews   \n",
       "7                 아우터1. 베켄바우어 트랙탑 - 인디고  IP0418   \n",
       "8  1967 JET BLACK JEANS [WIDE STRAIGHT]_reviews   \n",
       "\n",
       "                                            keyword  \n",
       "0     사이즈, 색감, 여름, 가성 비, 재질, 가격, 배송, 니트, 만족하다, 시원하다  \n",
       "1      프린팅, 디자인, 사이즈, 이쁘다, 들다, 편하다, 배송, 예쁘다, 재질, 생각  \n",
       "2     사이즈, 편하다, 시원하다, 재질, 여름, 배송, 티, 적당하다, 가격, 가성 비  \n",
       "3     색감, 사이즈, 배송, 생각, 지퍼, 편하다, 디자인, 이쁘다, 적당하다, 무겁다  \n",
       "4  사이즈, 편하다, 배송, 아디다스, 적당하다, 이쁘다, 만족하다, 크다, 져지, 디자인  \n",
       "5      사이즈, 허리, 디 키즈, 재질, 바지, 크다, 만족하다, 업 하다, 기장, 핏  \n",
       "6      편하다, 여름, 기장, 바지, 배송, 사이즈, 핏, 시원하다, 이쁘다, 만족하다  \n",
       "7    사이즈, 아디다스, 편하다, 색감, 예쁘다, 만족하다, 이쁘다, 실물, 역시, 기장  \n",
       "8    기장, 바지, 사이즈, 색감, 만족하다, 적당하다, 브랜디 드, 핏, 이쁘다, 허리  "
      ]
     },
     "execution_count": 73,
     "metadata": {},
     "output_type": "execute_result"
    }
   ],
   "source": [
    "df"
   ]
  },
  {
   "cell_type": "markdown",
   "id": "633edb18-924d-4d7d-829b-850578de27df",
   "metadata": {
    "jp-MarkdownHeadingCollapsed": true
   },
   "source": [
    "# 10"
   ]
  },
  {
   "cell_type": "code",
   "execution_count": 74,
   "id": "a9dd2329-1bd7-4ada-857f-46dece00cd24",
   "metadata": {},
   "outputs": [
    {
     "name": "stdout",
     "output_type": "stream",
     "text": [
      "                                              Review  \\\n",
      "0  XS사려다 S샀는데 XS살걸 우선 다른 피케원피스보다 기장이 길었고 시원한 재질이여...   \n",
      "1  키가 매우매우 크기 때무네 저에게는 미니기장이긴 한데 짧을건 이미 예상하고 구매했습...   \n",
      "2  네이비랑 블랙 고밈하다가 블랙구매했어요 허리 잘록하게 잘들어가고 핏이뻐요 다만 많이...   \n",
      "3      처음에 s살까 xs살까 고민하다가 xs샀어요 질도 좋고 예뻐요 네이비도 살까봐여    \n",
      "4  많이 짧지도 않고 깔끔한 핏에 허리라인이 살짝 들어가서 예뻐요 옷감이 얇아서 밝은데...   \n",
      "\n",
      "                                            Keywords  \n",
      "0  [(xs살걸, 0.7127), (xs사려다, 0.6514), (재질이여서, 0.56...  \n",
      "1  [(갠춘합니당, 0.3518), (미니기장이긴, 0.3505), (속치마, 0.30...  \n",
      "2  [(네이비랑, 0.5784), (잘들어가고, 0.5773), (잘록하게, 0.567...  \n",
      "3  [(네이비도, 0.752), (고민하다가, 0.7416), (처음에, 0.6394)...  \n",
      "4  [(비쳐보여서, 0.7145), (허리라인이, 0.6891), (속치마를, 0.65...  \n"
     ]
    }
   ],
   "source": [
    "df = pd.read_csv('reviews_1875663.csv')\n",
    "df = clean_review_column(df, 'Review')\n",
    "documents = df['Review']\n",
    "\n",
    "from keybert import KeyBERT\n",
    "from sklearn.feature_extraction.text import CountVectorizer\n",
    "\n",
    "# KeyBERT 모델 초기화\n",
    "kw_model = KeyBERT()\n",
    "\n",
    "vectorizer = CountVectorizer(ngram_range=(1, 1))\n",
    "\n",
    "# 전체 문서에 대해 핵심 키워드 추출\n",
    "df['Keywords'] = documents.apply(extract_keywords)\n",
    "\n",
    "# 키워드가 잘 추출되었는지 확인\n",
    "print(df[['Review', 'Keywords']].head())"
   ]
  },
  {
   "cell_type": "code",
   "execution_count": 75,
   "id": "0e672c63-10f0-481d-8a87-ce6738720e9d",
   "metadata": {},
   "outputs": [
    {
     "name": "stdout",
     "output_type": "stream",
     "text": [
      "[('시원하다', 167), ('길이', 125), ('사이즈', 123), ('편하다', 115), ('적당하다', 98), ('비치다', 83), ('원피스', 70), ('배송', 53), ('재질', 51), ('라인', 51)]\n"
     ]
    }
   ],
   "source": [
    "from collections import Counter\n",
    "from konlpy.tag import Okt\n",
    "\n",
    "# Okt 형태소 분석기 초기화\n",
    "okt = Okt()\n",
    "\n",
    "stop_words = ['좋다', '입다', '같다', '이다', '있다', '입', '생각', '하다', '기다', '들다']\n",
    "\n",
    "# 키워드를 모두 모아서 리스트로 풀기\n",
    "all_keywords = []\n",
    "for keywords in df['Keywords']:\n",
    "    # 키워드 원형으로 변환 후 리스트에 추가 (불용어 제외)\n",
    "    for keyword, score in keywords:\n",
    "        lemmatized_keyword = lemmatize_keyword(keyword)\n",
    "        if lemmatized_keyword and lemmatized_keyword not in stop_words:  # 불용어 필터링\n",
    "            all_keywords.append(lemmatized_keyword)\n",
    "\n",
    "# 각 키워드의 빈도를 계산\n",
    "keyword_counts = Counter(all_keywords)\n",
    "\n",
    "# 상위 10개의 키워드 추출\n",
    "top_10_keywords = keyword_counts.most_common(10)\n",
    "\n",
    "# 결과 출력\n",
    "print(top_10_keywords)"
   ]
  },
  {
   "cell_type": "code",
   "execution_count": 76,
   "id": "c41edaef-7888-4e84-88d6-fb9d4a97d8c4",
   "metadata": {},
   "outputs": [],
   "source": [
    "csv_title = \"reviews_1875663\"\n",
    "\n",
    "# 키워드만 추출하여 리스트로 변환\n",
    "top_10_keywords_list = [keyword for keyword, _ in top_10_keywords]\n",
    "\n",
    "keywords_str = ', '.join(top_10_keywords_list)\n",
    "\n",
    "# 데이터프레임 생성 (2열 1행: 'title'과 'keyword')\n",
    "new_row = pd.DataFrame({\n",
    "    'title': [csv_title],\n",
    "    'keyword': [keywords_str]\n",
    "})\n",
    "\n",
    "df = pd.read_csv('output.csv')\n",
    "df = pd.concat([df, new_row], ignore_index=True)\n",
    "df.to_csv('output.csv', index=False)"
   ]
  },
  {
   "cell_type": "code",
   "execution_count": 77,
   "id": "86473cf4-e6b4-48f5-b109-d633edc5aa17",
   "metadata": {},
   "outputs": [
    {
     "data": {
      "text/html": [
       "<div>\n",
       "<style scoped>\n",
       "    .dataframe tbody tr th:only-of-type {\n",
       "        vertical-align: middle;\n",
       "    }\n",
       "\n",
       "    .dataframe tbody tr th {\n",
       "        vertical-align: top;\n",
       "    }\n",
       "\n",
       "    .dataframe thead th {\n",
       "        text-align: right;\n",
       "    }\n",
       "</style>\n",
       "<table border=\"1\" class=\"dataframe\">\n",
       "  <thead>\n",
       "    <tr style=\"text-align: right;\">\n",
       "      <th></th>\n",
       "      <th>title</th>\n",
       "      <th>keyword</th>\n",
       "    </tr>\n",
       "  </thead>\n",
       "  <tbody>\n",
       "    <tr>\n",
       "      <th>0</th>\n",
       "      <td>[SET] 워셔블 케이블 반팔 니트 세트</td>\n",
       "      <td>사이즈, 색감, 여름, 가성 비, 재질, 가격, 배송, 니트, 만족하다, 시원하다</td>\n",
       "    </tr>\n",
       "    <tr>\n",
       "      <th>1</th>\n",
       "      <td>DOODLE HEART HALF T WHITE GREYISH BLUE</td>\n",
       "      <td>프린팅, 디자인, 사이즈, 이쁘다, 들다, 편하다, 배송, 예쁘다, 재질, 생각</td>\n",
       "    </tr>\n",
       "    <tr>\n",
       "      <th>2</th>\n",
       "      <td>[2PACK] 쿨 코튼 티셔츠 블랙+화이트</td>\n",
       "      <td>사이즈, 편하다, 시원하다, 재질, 여름, 배송, 티, 적당하다, 가격, 가성 비</td>\n",
       "    </tr>\n",
       "    <tr>\n",
       "      <th>3</th>\n",
       "      <td>아우터3. ASI 포시즌 에센셜 피그먼트 후드집업_차콜 그레이</td>\n",
       "      <td>색감, 사이즈, 배송, 생각, 지퍼, 편하다, 디자인, 이쁘다, 적당하다, 무겁다</td>\n",
       "    </tr>\n",
       "    <tr>\n",
       "      <th>4</th>\n",
       "      <td>아우터2. 파이어버드 트랙탑 - 블랙  IJ7058</td>\n",
       "      <td>사이즈, 편하다, 배송, 아디다스, 적당하다, 이쁘다, 만족하다, 크다, 져지, 디자인</td>\n",
       "    </tr>\n",
       "    <tr>\n",
       "      <th>5</th>\n",
       "      <td>42283 루즈핏 워크쇼츠 Black_reviews.csv</td>\n",
       "      <td>사이즈, 허리, 디 키즈, 재질, 바지, 크다, 만족하다, 업 하다, 기장, 핏</td>\n",
       "    </tr>\n",
       "    <tr>\n",
       "      <th>6</th>\n",
       "      <td>(여름버전추가) 투턱 와이드 롱 스웨트 팬츠 [그레이]_reviews</td>\n",
       "      <td>편하다, 여름, 기장, 바지, 배송, 사이즈, 핏, 시원하다, 이쁘다, 만족하다</td>\n",
       "    </tr>\n",
       "    <tr>\n",
       "      <th>7</th>\n",
       "      <td>아우터1. 베켄바우어 트랙탑 - 인디고  IP0418</td>\n",
       "      <td>사이즈, 아디다스, 편하다, 색감, 예쁘다, 만족하다, 이쁘다, 실물, 역시, 기장</td>\n",
       "    </tr>\n",
       "    <tr>\n",
       "      <th>8</th>\n",
       "      <td>1967 JET BLACK JEANS [WIDE STRAIGHT]_reviews</td>\n",
       "      <td>기장, 바지, 사이즈, 색감, 만족하다, 적당하다, 브랜디 드, 핏, 이쁘다, 허리</td>\n",
       "    </tr>\n",
       "    <tr>\n",
       "      <th>9</th>\n",
       "      <td>reviews_1875663</td>\n",
       "      <td>시원하다, 길이, 사이즈, 편하다, 적당하다, 비치다, 원피스, 배송, 재질, 라인</td>\n",
       "    </tr>\n",
       "  </tbody>\n",
       "</table>\n",
       "</div>"
      ],
      "text/plain": [
       "                                          title  \\\n",
       "0                        [SET] 워셔블 케이블 반팔 니트 세트   \n",
       "1        DOODLE HEART HALF T WHITE GREYISH BLUE   \n",
       "2                       [2PACK] 쿨 코튼 티셔츠 블랙+화이트   \n",
       "3            아우터3. ASI 포시즌 에센셜 피그먼트 후드집업_차콜 그레이   \n",
       "4                  아우터2. 파이어버드 트랙탑 - 블랙  IJ7058   \n",
       "5              42283 루즈핏 워크쇼츠 Black_reviews.csv   \n",
       "6        (여름버전추가) 투턱 와이드 롱 스웨트 팬츠 [그레이]_reviews   \n",
       "7                 아우터1. 베켄바우어 트랙탑 - 인디고  IP0418   \n",
       "8  1967 JET BLACK JEANS [WIDE STRAIGHT]_reviews   \n",
       "9                               reviews_1875663   \n",
       "\n",
       "                                            keyword  \n",
       "0     사이즈, 색감, 여름, 가성 비, 재질, 가격, 배송, 니트, 만족하다, 시원하다  \n",
       "1      프린팅, 디자인, 사이즈, 이쁘다, 들다, 편하다, 배송, 예쁘다, 재질, 생각  \n",
       "2     사이즈, 편하다, 시원하다, 재질, 여름, 배송, 티, 적당하다, 가격, 가성 비  \n",
       "3     색감, 사이즈, 배송, 생각, 지퍼, 편하다, 디자인, 이쁘다, 적당하다, 무겁다  \n",
       "4  사이즈, 편하다, 배송, 아디다스, 적당하다, 이쁘다, 만족하다, 크다, 져지, 디자인  \n",
       "5      사이즈, 허리, 디 키즈, 재질, 바지, 크다, 만족하다, 업 하다, 기장, 핏  \n",
       "6      편하다, 여름, 기장, 바지, 배송, 사이즈, 핏, 시원하다, 이쁘다, 만족하다  \n",
       "7    사이즈, 아디다스, 편하다, 색감, 예쁘다, 만족하다, 이쁘다, 실물, 역시, 기장  \n",
       "8    기장, 바지, 사이즈, 색감, 만족하다, 적당하다, 브랜디 드, 핏, 이쁘다, 허리  \n",
       "9    시원하다, 길이, 사이즈, 편하다, 적당하다, 비치다, 원피스, 배송, 재질, 라인  "
      ]
     },
     "execution_count": 77,
     "metadata": {},
     "output_type": "execute_result"
    }
   ],
   "source": [
    "df"
   ]
  },
  {
   "cell_type": "markdown",
   "id": "3735d2b1-6b3e-4ed9-b890-e7c282ee8ca5",
   "metadata": {
    "jp-MarkdownHeadingCollapsed": true
   },
   "source": [
    "# 11"
   ]
  },
  {
   "cell_type": "code",
   "execution_count": 78,
   "id": "00f1cee8-3579-45b0-abe1-49f46e2acc7c",
   "metadata": {},
   "outputs": [
    {
     "name": "stdout",
     "output_type": "stream",
     "text": [
      "                                              Review  \\\n",
      "0                     이뻐요 최고 꾸미고 나갈 때 진짜 자주 입음 무난꾸안꾸   \n",
      "1  딸아이가 맘에들어합니다 160초반에 48킬로 딱맞습니다 기본디자인이고 만듬세 좋아요...   \n",
      "2          생각보다 짧아서 당황했지만 두께감 적당하고 허리 들뜸 없어서 너무 좋아요    \n",
      "3              허리는 맞는데 골반이 너무 껴요 길이는 딱 좋은데 입고벗기 불편해요   \n",
      "4           오랜만에 짧은청치마 원하던스타일이에요 날씨가 따뜻해서 외출복으로 픽했어요   \n",
      "\n",
      "                                            Keywords  \n",
      "0  [(입음, 0.7701), (나갈, 0.6841), (자주, 0.6678), (최고...  \n",
      "1  [(기본디자인이고, 0.5646), (맘에들어합니다, 0.5142), (160초반에...  \n",
      "2  [(적당하고, 0.7706), (생각보다, 0.7002), (너무, 0.572), ...  \n",
      "3  [(허리는, 0.6768), (불편해요, 0.6754), (골반이, 0.668), ...  \n",
      "4  [(원하던스타일이에요, 0.8043), (날씨가, 0.5828), (오랜만에, 0....  \n"
     ]
    }
   ],
   "source": [
    "df = pd.read_csv('reviews_1944554.csv')\n",
    "df = clean_review_column(df, 'Review')\n",
    "documents = df['Review']\n",
    "\n",
    "from keybert import KeyBERT\n",
    "from sklearn.feature_extraction.text import CountVectorizer\n",
    "\n",
    "# KeyBERT 모델 초기화\n",
    "kw_model = KeyBERT()\n",
    "\n",
    "vectorizer = CountVectorizer(ngram_range=(1, 1))\n",
    "\n",
    "# 전체 문서에 대해 핵심 키워드 추출\n",
    "df['Keywords'] = documents.apply(extract_keywords)\n",
    "\n",
    "# 키워드가 잘 추출되었는지 확인\n",
    "print(df[['Review', 'Keywords']].head())"
   ]
  },
  {
   "cell_type": "code",
   "execution_count": 79,
   "id": "9217c62d-ed8b-43ba-871e-2571412a5619",
   "metadata": {},
   "outputs": [
    {
     "name": "stdout",
     "output_type": "stream",
     "text": [
      "[('사이즈', 169), ('허리', 157), ('적당하다', 121), ('길이', 106), ('치마', 69), ('편하다', 63), ('배송', 63), ('크다', 56), ('만족하다', 47), ('색상', 44)]\n"
     ]
    }
   ],
   "source": [
    "from collections import Counter\n",
    "from konlpy.tag import Okt\n",
    "\n",
    "# Okt 형태소 분석기 초기화\n",
    "okt = Okt()\n",
    "\n",
    "stop_words = ['좋다', '입다', '같다', '이다', '있다', '입', '생각', '하다', '기다', '들다']\n",
    "\n",
    "# 키워드를 모두 모아서 리스트로 풀기\n",
    "all_keywords = []\n",
    "for keywords in df['Keywords']:\n",
    "    # 키워드 원형으로 변환 후 리스트에 추가 (불용어 제외)\n",
    "    for keyword, score in keywords:\n",
    "        lemmatized_keyword = lemmatize_keyword(keyword)\n",
    "        if lemmatized_keyword and lemmatized_keyword not in stop_words:  # 불용어 필터링\n",
    "            all_keywords.append(lemmatized_keyword)\n",
    "\n",
    "# 각 키워드의 빈도를 계산\n",
    "keyword_counts = Counter(all_keywords)\n",
    "\n",
    "# 상위 10개의 키워드 추출\n",
    "top_10_keywords = keyword_counts.most_common(10)\n",
    "\n",
    "# 결과 출력\n",
    "print(top_10_keywords)"
   ]
  },
  {
   "cell_type": "code",
   "execution_count": 80,
   "id": "0c256df8-9dea-4ee4-9b7b-35e1b5949f48",
   "metadata": {},
   "outputs": [],
   "source": [
    "csv_title = \"reviews_1944554\"\n",
    "\n",
    "# 키워드만 추출하여 리스트로 변환\n",
    "top_10_keywords_list = [keyword for keyword, _ in top_10_keywords]\n",
    "\n",
    "keywords_str = ', '.join(top_10_keywords_list)\n",
    "\n",
    "# 데이터프레임 생성 (2열 1행: 'title'과 'keyword')\n",
    "new_row = pd.DataFrame({\n",
    "    'title': [csv_title],\n",
    "    'keyword': [keywords_str]\n",
    "})\n",
    "\n",
    "df = pd.read_csv('output.csv')\n",
    "df = pd.concat([df, new_row], ignore_index=True)\n",
    "df.to_csv('output.csv', index=False)"
   ]
  },
  {
   "cell_type": "code",
   "execution_count": 81,
   "id": "fb2e7a84-67cf-48a9-9712-d41f3c34e940",
   "metadata": {},
   "outputs": [
    {
     "data": {
      "text/html": [
       "<div>\n",
       "<style scoped>\n",
       "    .dataframe tbody tr th:only-of-type {\n",
       "        vertical-align: middle;\n",
       "    }\n",
       "\n",
       "    .dataframe tbody tr th {\n",
       "        vertical-align: top;\n",
       "    }\n",
       "\n",
       "    .dataframe thead th {\n",
       "        text-align: right;\n",
       "    }\n",
       "</style>\n",
       "<table border=\"1\" class=\"dataframe\">\n",
       "  <thead>\n",
       "    <tr style=\"text-align: right;\">\n",
       "      <th></th>\n",
       "      <th>title</th>\n",
       "      <th>keyword</th>\n",
       "    </tr>\n",
       "  </thead>\n",
       "  <tbody>\n",
       "    <tr>\n",
       "      <th>0</th>\n",
       "      <td>[SET] 워셔블 케이블 반팔 니트 세트</td>\n",
       "      <td>사이즈, 색감, 여름, 가성 비, 재질, 가격, 배송, 니트, 만족하다, 시원하다</td>\n",
       "    </tr>\n",
       "    <tr>\n",
       "      <th>1</th>\n",
       "      <td>DOODLE HEART HALF T WHITE GREYISH BLUE</td>\n",
       "      <td>프린팅, 디자인, 사이즈, 이쁘다, 들다, 편하다, 배송, 예쁘다, 재질, 생각</td>\n",
       "    </tr>\n",
       "    <tr>\n",
       "      <th>2</th>\n",
       "      <td>[2PACK] 쿨 코튼 티셔츠 블랙+화이트</td>\n",
       "      <td>사이즈, 편하다, 시원하다, 재질, 여름, 배송, 티, 적당하다, 가격, 가성 비</td>\n",
       "    </tr>\n",
       "    <tr>\n",
       "      <th>3</th>\n",
       "      <td>아우터3. ASI 포시즌 에센셜 피그먼트 후드집업_차콜 그레이</td>\n",
       "      <td>색감, 사이즈, 배송, 생각, 지퍼, 편하다, 디자인, 이쁘다, 적당하다, 무겁다</td>\n",
       "    </tr>\n",
       "    <tr>\n",
       "      <th>4</th>\n",
       "      <td>아우터2. 파이어버드 트랙탑 - 블랙  IJ7058</td>\n",
       "      <td>사이즈, 편하다, 배송, 아디다스, 적당하다, 이쁘다, 만족하다, 크다, 져지, 디자인</td>\n",
       "    </tr>\n",
       "    <tr>\n",
       "      <th>5</th>\n",
       "      <td>42283 루즈핏 워크쇼츠 Black_reviews.csv</td>\n",
       "      <td>사이즈, 허리, 디 키즈, 재질, 바지, 크다, 만족하다, 업 하다, 기장, 핏</td>\n",
       "    </tr>\n",
       "    <tr>\n",
       "      <th>6</th>\n",
       "      <td>(여름버전추가) 투턱 와이드 롱 스웨트 팬츠 [그레이]_reviews</td>\n",
       "      <td>편하다, 여름, 기장, 바지, 배송, 사이즈, 핏, 시원하다, 이쁘다, 만족하다</td>\n",
       "    </tr>\n",
       "    <tr>\n",
       "      <th>7</th>\n",
       "      <td>아우터1. 베켄바우어 트랙탑 - 인디고  IP0418</td>\n",
       "      <td>사이즈, 아디다스, 편하다, 색감, 예쁘다, 만족하다, 이쁘다, 실물, 역시, 기장</td>\n",
       "    </tr>\n",
       "    <tr>\n",
       "      <th>8</th>\n",
       "      <td>1967 JET BLACK JEANS [WIDE STRAIGHT]_reviews</td>\n",
       "      <td>기장, 바지, 사이즈, 색감, 만족하다, 적당하다, 브랜디 드, 핏, 이쁘다, 허리</td>\n",
       "    </tr>\n",
       "    <tr>\n",
       "      <th>9</th>\n",
       "      <td>reviews_1875663</td>\n",
       "      <td>시원하다, 길이, 사이즈, 편하다, 적당하다, 비치다, 원피스, 배송, 재질, 라인</td>\n",
       "    </tr>\n",
       "    <tr>\n",
       "      <th>10</th>\n",
       "      <td>reviews_1944554</td>\n",
       "      <td>사이즈, 허리, 적당하다, 길이, 치마, 편하다, 배송, 크다, 만족하다, 색상</td>\n",
       "    </tr>\n",
       "  </tbody>\n",
       "</table>\n",
       "</div>"
      ],
      "text/plain": [
       "                                           title  \\\n",
       "0                         [SET] 워셔블 케이블 반팔 니트 세트   \n",
       "1         DOODLE HEART HALF T WHITE GREYISH BLUE   \n",
       "2                        [2PACK] 쿨 코튼 티셔츠 블랙+화이트   \n",
       "3             아우터3. ASI 포시즌 에센셜 피그먼트 후드집업_차콜 그레이   \n",
       "4                   아우터2. 파이어버드 트랙탑 - 블랙  IJ7058   \n",
       "5               42283 루즈핏 워크쇼츠 Black_reviews.csv   \n",
       "6         (여름버전추가) 투턱 와이드 롱 스웨트 팬츠 [그레이]_reviews   \n",
       "7                  아우터1. 베켄바우어 트랙탑 - 인디고  IP0418   \n",
       "8   1967 JET BLACK JEANS [WIDE STRAIGHT]_reviews   \n",
       "9                                reviews_1875663   \n",
       "10                               reviews_1944554   \n",
       "\n",
       "                                             keyword  \n",
       "0      사이즈, 색감, 여름, 가성 비, 재질, 가격, 배송, 니트, 만족하다, 시원하다  \n",
       "1       프린팅, 디자인, 사이즈, 이쁘다, 들다, 편하다, 배송, 예쁘다, 재질, 생각  \n",
       "2      사이즈, 편하다, 시원하다, 재질, 여름, 배송, 티, 적당하다, 가격, 가성 비  \n",
       "3      색감, 사이즈, 배송, 생각, 지퍼, 편하다, 디자인, 이쁘다, 적당하다, 무겁다  \n",
       "4   사이즈, 편하다, 배송, 아디다스, 적당하다, 이쁘다, 만족하다, 크다, 져지, 디자인  \n",
       "5       사이즈, 허리, 디 키즈, 재질, 바지, 크다, 만족하다, 업 하다, 기장, 핏  \n",
       "6       편하다, 여름, 기장, 바지, 배송, 사이즈, 핏, 시원하다, 이쁘다, 만족하다  \n",
       "7     사이즈, 아디다스, 편하다, 색감, 예쁘다, 만족하다, 이쁘다, 실물, 역시, 기장  \n",
       "8     기장, 바지, 사이즈, 색감, 만족하다, 적당하다, 브랜디 드, 핏, 이쁘다, 허리  \n",
       "9     시원하다, 길이, 사이즈, 편하다, 적당하다, 비치다, 원피스, 배송, 재질, 라인  \n",
       "10      사이즈, 허리, 적당하다, 길이, 치마, 편하다, 배송, 크다, 만족하다, 색상  "
      ]
     },
     "execution_count": 81,
     "metadata": {},
     "output_type": "execute_result"
    }
   ],
   "source": [
    "df"
   ]
  },
  {
   "cell_type": "markdown",
   "id": "63e3d298-ab3b-410b-842a-bb5e90a60c59",
   "metadata": {
    "jp-MarkdownHeadingCollapsed": true
   },
   "source": [
    "# 12"
   ]
  },
  {
   "cell_type": "code",
   "execution_count": 87,
   "id": "009cf5fa-e0cb-43fd-856c-38b534a35059",
   "metadata": {},
   "outputs": [
    {
     "name": "stdout",
     "output_type": "stream",
     "text": [
      "                                              Review  \\\n",
      "0  168 기준 살짝 짧은 기장이기는 하지만 속바지가 있어서 편하게 입기 좋아요 옆쪽 ...   \n",
      "1  디자인은 정말 예쁜데 안에 박음질은 엉망이에요 단 기장이 아예 다르게 어긋나있는데도...   \n",
      "2              교복 치마 대신 입으려고 샀는데 편하고 핏도 예쁘고 너무 만족합니다   \n",
      "3  저렴한 가격인데 품질 좋네요 안에 속바지가 있어서 좀 짧긴해도 부담없어요 저한테는 ...   \n",
      "4  사이즈랑 길이가 완전 딱입니다 160대초반 44사이즈 입으시면 xs사이즈 예쁘게 잘...   \n",
      "\n",
      "                                            Keywords  \n",
      "0  [(기장이기는, 0.6006), (심심하지, 0.5184), (속바지가, 0.490...  \n",
      "1  [(엉망이에요, 0.697), (허접할거, 0.6658), (기장이, 0.6189)...  \n",
      "2  [(만족합니다, 0.7323), (입으려고, 0.6412), (편하고, 0.6041...  \n",
      "3  [(엉덩이가, 0.667), (조여서, 0.6089), (저렴한, 0.5945), ...  \n",
      "4  [(xs사이즈, 0.5646), (44사이즈, 0.5194), (입으시면, 0.42...  \n"
     ]
    }
   ],
   "source": [
    "df = pd.read_csv('reviews_2551401.csv')\n",
    "df = clean_review_column(df, 'Review')\n",
    "documents = df['Review']\n",
    "\n",
    "from keybert import KeyBERT\n",
    "from sklearn.feature_extraction.text import CountVectorizer\n",
    "\n",
    "# KeyBERT 모델 초기화\n",
    "kw_model = KeyBERT()\n",
    "\n",
    "vectorizer = CountVectorizer(ngram_range=(1, 1))\n",
    "\n",
    "# 전체 문서에 대해 핵심 키워드 추출\n",
    "df['Keywords'] = documents.apply(extract_keywords)\n",
    "\n",
    "# 키워드가 잘 추출되었는지 확인\n",
    "print(df[['Review', 'Keywords']].head())"
   ]
  },
  {
   "cell_type": "code",
   "execution_count": 88,
   "id": "ff06c074-3121-4f36-9806-79ad3e9d3908",
   "metadata": {},
   "outputs": [
    {
     "name": "stdout",
     "output_type": "stream",
     "text": [
      "[('편하다', 253), ('바지', 186), ('사이즈', 175), ('허리', 118), ('길이', 61), ('예쁘다', 56), ('만족하다', 53), ('엉덩이', 53), ('적당하다', 52), ('기장', 49)]\n"
     ]
    }
   ],
   "source": [
    "from collections import Counter\n",
    "from konlpy.tag import Okt\n",
    "\n",
    "# Okt 형태소 분석기 초기화\n",
    "okt = Okt()\n",
    "\n",
    "stop_words = ['좋다', '입다', '같다', '이다', '있다', '입', '생각', '하다', '기다', '들다', '안']\n",
    "\n",
    "# 키워드를 모두 모아서 리스트로 풀기\n",
    "all_keywords = []\n",
    "for keywords in df['Keywords']:\n",
    "    # 키워드 원형으로 변환 후 리스트에 추가 (불용어 제외)\n",
    "    for keyword, score in keywords:\n",
    "        lemmatized_keyword = lemmatize_keyword(keyword)\n",
    "        if lemmatized_keyword and lemmatized_keyword not in stop_words:  # 불용어 필터링\n",
    "            all_keywords.append(lemmatized_keyword)\n",
    "\n",
    "# 각 키워드의 빈도를 계산\n",
    "keyword_counts = Counter(all_keywords)\n",
    "\n",
    "# 상위 10개의 키워드 추출\n",
    "top_10_keywords = keyword_counts.most_common(10)\n",
    "\n",
    "# 결과 출력\n",
    "print(top_10_keywords)"
   ]
  },
  {
   "cell_type": "code",
   "execution_count": 94,
   "id": "61bd0f75-4ee5-4416-afe8-5d8395461cea",
   "metadata": {},
   "outputs": [],
   "source": [
    "csv_title = \"reviews_2551401\"\n",
    "\n",
    "# 키워드만 추출하여 리스트로 변환\n",
    "top_10_keywords_list = [keyword for keyword, _ in top_10_keywords]\n",
    "\n",
    "keywords_str = ', '.join(top_10_keywords_list)\n",
    "\n",
    "# 데이터프레임 생성 (2열 1행: 'title'과 'keyword')\n",
    "new_row = pd.DataFrame({\n",
    "    'title': [csv_title],\n",
    "    'keyword': [keywords_str]\n",
    "})\n",
    "\n",
    "df = pd.read_csv('output.csv')\n",
    "df = pd.concat([df, new_row], ignore_index=True)\n",
    "df.to_csv('output.csv', index=False)"
   ]
  },
  {
   "cell_type": "code",
   "execution_count": 95,
   "id": "230991dd-9fc2-419b-b891-93f81c3d88c5",
   "metadata": {},
   "outputs": [
    {
     "data": {
      "text/html": [
       "<div>\n",
       "<style scoped>\n",
       "    .dataframe tbody tr th:only-of-type {\n",
       "        vertical-align: middle;\n",
       "    }\n",
       "\n",
       "    .dataframe tbody tr th {\n",
       "        vertical-align: top;\n",
       "    }\n",
       "\n",
       "    .dataframe thead th {\n",
       "        text-align: right;\n",
       "    }\n",
       "</style>\n",
       "<table border=\"1\" class=\"dataframe\">\n",
       "  <thead>\n",
       "    <tr style=\"text-align: right;\">\n",
       "      <th></th>\n",
       "      <th>title</th>\n",
       "      <th>keyword</th>\n",
       "    </tr>\n",
       "  </thead>\n",
       "  <tbody>\n",
       "    <tr>\n",
       "      <th>0</th>\n",
       "      <td>[SET] 워셔블 케이블 반팔 니트 세트</td>\n",
       "      <td>사이즈, 색감, 여름, 가성 비, 재질, 가격, 배송, 니트, 만족하다, 시원하다</td>\n",
       "    </tr>\n",
       "    <tr>\n",
       "      <th>1</th>\n",
       "      <td>DOODLE HEART HALF T WHITE GREYISH BLUE</td>\n",
       "      <td>프린팅, 디자인, 사이즈, 이쁘다, 들다, 편하다, 배송, 예쁘다, 재질, 생각</td>\n",
       "    </tr>\n",
       "    <tr>\n",
       "      <th>2</th>\n",
       "      <td>[2PACK] 쿨 코튼 티셔츠 블랙+화이트</td>\n",
       "      <td>사이즈, 편하다, 시원하다, 재질, 여름, 배송, 티, 적당하다, 가격, 가성 비</td>\n",
       "    </tr>\n",
       "    <tr>\n",
       "      <th>3</th>\n",
       "      <td>아우터3. ASI 포시즌 에센셜 피그먼트 후드집업_차콜 그레이</td>\n",
       "      <td>색감, 사이즈, 배송, 생각, 지퍼, 편하다, 디자인, 이쁘다, 적당하다, 무겁다</td>\n",
       "    </tr>\n",
       "    <tr>\n",
       "      <th>4</th>\n",
       "      <td>아우터2. 파이어버드 트랙탑 - 블랙  IJ7058</td>\n",
       "      <td>사이즈, 편하다, 배송, 아디다스, 적당하다, 이쁘다, 만족하다, 크다, 져지, 디자인</td>\n",
       "    </tr>\n",
       "    <tr>\n",
       "      <th>5</th>\n",
       "      <td>42283 루즈핏 워크쇼츠 Black_reviews.csv</td>\n",
       "      <td>사이즈, 허리, 디 키즈, 재질, 바지, 크다, 만족하다, 업 하다, 기장, 핏</td>\n",
       "    </tr>\n",
       "    <tr>\n",
       "      <th>6</th>\n",
       "      <td>(여름버전추가) 투턱 와이드 롱 스웨트 팬츠 [그레이]_reviews</td>\n",
       "      <td>편하다, 여름, 기장, 바지, 배송, 사이즈, 핏, 시원하다, 이쁘다, 만족하다</td>\n",
       "    </tr>\n",
       "    <tr>\n",
       "      <th>7</th>\n",
       "      <td>아우터1. 베켄바우어 트랙탑 - 인디고  IP0418</td>\n",
       "      <td>사이즈, 아디다스, 편하다, 색감, 예쁘다, 만족하다, 이쁘다, 실물, 역시, 기장</td>\n",
       "    </tr>\n",
       "    <tr>\n",
       "      <th>8</th>\n",
       "      <td>1967 JET BLACK JEANS [WIDE STRAIGHT]_reviews</td>\n",
       "      <td>기장, 바지, 사이즈, 색감, 만족하다, 적당하다, 브랜디 드, 핏, 이쁘다, 허리</td>\n",
       "    </tr>\n",
       "    <tr>\n",
       "      <th>9</th>\n",
       "      <td>reviews_1875663</td>\n",
       "      <td>시원하다, 길이, 사이즈, 편하다, 적당하다, 비치다, 원피스, 배송, 재질, 라인</td>\n",
       "    </tr>\n",
       "    <tr>\n",
       "      <th>10</th>\n",
       "      <td>reviews_1944554</td>\n",
       "      <td>사이즈, 허리, 적당하다, 길이, 치마, 편하다, 배송, 크다, 만족하다, 색상</td>\n",
       "    </tr>\n",
       "    <tr>\n",
       "      <th>11</th>\n",
       "      <td>reviews_2551401</td>\n",
       "      <td>편하다, 바지, 사이즈, 허리, 길이, 예쁘다, 만족하다, 엉덩이, 적당하다, 안</td>\n",
       "    </tr>\n",
       "    <tr>\n",
       "      <th>12</th>\n",
       "      <td>reviews_2551401</td>\n",
       "      <td>편하다, 바지, 사이즈, 허리, 길이, 예쁘다, 만족하다, 엉덩이, 적당하다, 기장</td>\n",
       "    </tr>\n",
       "    <tr>\n",
       "      <th>13</th>\n",
       "      <td>reviews_2551401</td>\n",
       "      <td>편하다, 바지, 사이즈, 허리, 길이, 예쁘다, 만족하다, 엉덩이, 적당하다, 기장</td>\n",
       "    </tr>\n",
       "  </tbody>\n",
       "</table>\n",
       "</div>"
      ],
      "text/plain": [
       "                                           title  \\\n",
       "0                         [SET] 워셔블 케이블 반팔 니트 세트   \n",
       "1         DOODLE HEART HALF T WHITE GREYISH BLUE   \n",
       "2                        [2PACK] 쿨 코튼 티셔츠 블랙+화이트   \n",
       "3             아우터3. ASI 포시즌 에센셜 피그먼트 후드집업_차콜 그레이   \n",
       "4                   아우터2. 파이어버드 트랙탑 - 블랙  IJ7058   \n",
       "5               42283 루즈핏 워크쇼츠 Black_reviews.csv   \n",
       "6         (여름버전추가) 투턱 와이드 롱 스웨트 팬츠 [그레이]_reviews   \n",
       "7                  아우터1. 베켄바우어 트랙탑 - 인디고  IP0418   \n",
       "8   1967 JET BLACK JEANS [WIDE STRAIGHT]_reviews   \n",
       "9                                reviews_1875663   \n",
       "10                               reviews_1944554   \n",
       "11                               reviews_2551401   \n",
       "12                               reviews_2551401   \n",
       "13                               reviews_2551401   \n",
       "\n",
       "                                             keyword  \n",
       "0      사이즈, 색감, 여름, 가성 비, 재질, 가격, 배송, 니트, 만족하다, 시원하다  \n",
       "1       프린팅, 디자인, 사이즈, 이쁘다, 들다, 편하다, 배송, 예쁘다, 재질, 생각  \n",
       "2      사이즈, 편하다, 시원하다, 재질, 여름, 배송, 티, 적당하다, 가격, 가성 비  \n",
       "3      색감, 사이즈, 배송, 생각, 지퍼, 편하다, 디자인, 이쁘다, 적당하다, 무겁다  \n",
       "4   사이즈, 편하다, 배송, 아디다스, 적당하다, 이쁘다, 만족하다, 크다, 져지, 디자인  \n",
       "5       사이즈, 허리, 디 키즈, 재질, 바지, 크다, 만족하다, 업 하다, 기장, 핏  \n",
       "6       편하다, 여름, 기장, 바지, 배송, 사이즈, 핏, 시원하다, 이쁘다, 만족하다  \n",
       "7     사이즈, 아디다스, 편하다, 색감, 예쁘다, 만족하다, 이쁘다, 실물, 역시, 기장  \n",
       "8     기장, 바지, 사이즈, 색감, 만족하다, 적당하다, 브랜디 드, 핏, 이쁘다, 허리  \n",
       "9     시원하다, 길이, 사이즈, 편하다, 적당하다, 비치다, 원피스, 배송, 재질, 라인  \n",
       "10      사이즈, 허리, 적당하다, 길이, 치마, 편하다, 배송, 크다, 만족하다, 색상  \n",
       "11     편하다, 바지, 사이즈, 허리, 길이, 예쁘다, 만족하다, 엉덩이, 적당하다, 안  \n",
       "12    편하다, 바지, 사이즈, 허리, 길이, 예쁘다, 만족하다, 엉덩이, 적당하다, 기장  \n",
       "13    편하다, 바지, 사이즈, 허리, 길이, 예쁘다, 만족하다, 엉덩이, 적당하다, 기장  "
      ]
     },
     "execution_count": 95,
     "metadata": {},
     "output_type": "execute_result"
    }
   ],
   "source": [
    "df"
   ]
  },
  {
   "cell_type": "code",
   "execution_count": 99,
   "id": "03919483-7e95-47e5-aa75-be3103ad8d66",
   "metadata": {},
   "outputs": [],
   "source": [
    "df = df.drop(index=12)"
   ]
  },
  {
   "cell_type": "code",
   "execution_count": 101,
   "id": "565c7f41-7a71-498b-969e-f6d478c1be2a",
   "metadata": {},
   "outputs": [],
   "source": [
    "df = df.reset_index(drop=True)\n",
    "df.to_csv('output.csv', index=False)"
   ]
  },
  {
   "cell_type": "code",
   "execution_count": 102,
   "id": "5f2adcd8-7d7f-4795-a890-a55efe2ebf13",
   "metadata": {},
   "outputs": [
    {
     "data": {
      "text/html": [
       "<div>\n",
       "<style scoped>\n",
       "    .dataframe tbody tr th:only-of-type {\n",
       "        vertical-align: middle;\n",
       "    }\n",
       "\n",
       "    .dataframe tbody tr th {\n",
       "        vertical-align: top;\n",
       "    }\n",
       "\n",
       "    .dataframe thead th {\n",
       "        text-align: right;\n",
       "    }\n",
       "</style>\n",
       "<table border=\"1\" class=\"dataframe\">\n",
       "  <thead>\n",
       "    <tr style=\"text-align: right;\">\n",
       "      <th></th>\n",
       "      <th>title</th>\n",
       "      <th>keyword</th>\n",
       "    </tr>\n",
       "  </thead>\n",
       "  <tbody>\n",
       "    <tr>\n",
       "      <th>0</th>\n",
       "      <td>[SET] 워셔블 케이블 반팔 니트 세트</td>\n",
       "      <td>사이즈, 색감, 여름, 가성 비, 재질, 가격, 배송, 니트, 만족하다, 시원하다</td>\n",
       "    </tr>\n",
       "    <tr>\n",
       "      <th>1</th>\n",
       "      <td>DOODLE HEART HALF T WHITE GREYISH BLUE</td>\n",
       "      <td>프린팅, 디자인, 사이즈, 이쁘다, 들다, 편하다, 배송, 예쁘다, 재질, 생각</td>\n",
       "    </tr>\n",
       "    <tr>\n",
       "      <th>2</th>\n",
       "      <td>[2PACK] 쿨 코튼 티셔츠 블랙+화이트</td>\n",
       "      <td>사이즈, 편하다, 시원하다, 재질, 여름, 배송, 티, 적당하다, 가격, 가성 비</td>\n",
       "    </tr>\n",
       "    <tr>\n",
       "      <th>3</th>\n",
       "      <td>아우터3. ASI 포시즌 에센셜 피그먼트 후드집업_차콜 그레이</td>\n",
       "      <td>색감, 사이즈, 배송, 생각, 지퍼, 편하다, 디자인, 이쁘다, 적당하다, 무겁다</td>\n",
       "    </tr>\n",
       "    <tr>\n",
       "      <th>4</th>\n",
       "      <td>아우터2. 파이어버드 트랙탑 - 블랙  IJ7058</td>\n",
       "      <td>사이즈, 편하다, 배송, 아디다스, 적당하다, 이쁘다, 만족하다, 크다, 져지, 디자인</td>\n",
       "    </tr>\n",
       "    <tr>\n",
       "      <th>5</th>\n",
       "      <td>42283 루즈핏 워크쇼츠 Black_reviews.csv</td>\n",
       "      <td>사이즈, 허리, 디 키즈, 재질, 바지, 크다, 만족하다, 업 하다, 기장, 핏</td>\n",
       "    </tr>\n",
       "    <tr>\n",
       "      <th>6</th>\n",
       "      <td>(여름버전추가) 투턱 와이드 롱 스웨트 팬츠 [그레이]_reviews</td>\n",
       "      <td>편하다, 여름, 기장, 바지, 배송, 사이즈, 핏, 시원하다, 이쁘다, 만족하다</td>\n",
       "    </tr>\n",
       "    <tr>\n",
       "      <th>7</th>\n",
       "      <td>아우터1. 베켄바우어 트랙탑 - 인디고  IP0418</td>\n",
       "      <td>사이즈, 아디다스, 편하다, 색감, 예쁘다, 만족하다, 이쁘다, 실물, 역시, 기장</td>\n",
       "    </tr>\n",
       "    <tr>\n",
       "      <th>8</th>\n",
       "      <td>1967 JET BLACK JEANS [WIDE STRAIGHT]_reviews</td>\n",
       "      <td>기장, 바지, 사이즈, 색감, 만족하다, 적당하다, 브랜디 드, 핏, 이쁘다, 허리</td>\n",
       "    </tr>\n",
       "    <tr>\n",
       "      <th>9</th>\n",
       "      <td>reviews_1875663</td>\n",
       "      <td>시원하다, 길이, 사이즈, 편하다, 적당하다, 비치다, 원피스, 배송, 재질, 라인</td>\n",
       "    </tr>\n",
       "    <tr>\n",
       "      <th>10</th>\n",
       "      <td>reviews_1944554</td>\n",
       "      <td>사이즈, 허리, 적당하다, 길이, 치마, 편하다, 배송, 크다, 만족하다, 색상</td>\n",
       "    </tr>\n",
       "    <tr>\n",
       "      <th>11</th>\n",
       "      <td>reviews_2551401</td>\n",
       "      <td>편하다, 바지, 사이즈, 허리, 길이, 예쁘다, 만족하다, 엉덩이, 적당하다, 기장</td>\n",
       "    </tr>\n",
       "  </tbody>\n",
       "</table>\n",
       "</div>"
      ],
      "text/plain": [
       "                                           title  \\\n",
       "0                         [SET] 워셔블 케이블 반팔 니트 세트   \n",
       "1         DOODLE HEART HALF T WHITE GREYISH BLUE   \n",
       "2                        [2PACK] 쿨 코튼 티셔츠 블랙+화이트   \n",
       "3             아우터3. ASI 포시즌 에센셜 피그먼트 후드집업_차콜 그레이   \n",
       "4                   아우터2. 파이어버드 트랙탑 - 블랙  IJ7058   \n",
       "5               42283 루즈핏 워크쇼츠 Black_reviews.csv   \n",
       "6         (여름버전추가) 투턱 와이드 롱 스웨트 팬츠 [그레이]_reviews   \n",
       "7                  아우터1. 베켄바우어 트랙탑 - 인디고  IP0418   \n",
       "8   1967 JET BLACK JEANS [WIDE STRAIGHT]_reviews   \n",
       "9                                reviews_1875663   \n",
       "10                               reviews_1944554   \n",
       "11                               reviews_2551401   \n",
       "\n",
       "                                             keyword  \n",
       "0      사이즈, 색감, 여름, 가성 비, 재질, 가격, 배송, 니트, 만족하다, 시원하다  \n",
       "1       프린팅, 디자인, 사이즈, 이쁘다, 들다, 편하다, 배송, 예쁘다, 재질, 생각  \n",
       "2      사이즈, 편하다, 시원하다, 재질, 여름, 배송, 티, 적당하다, 가격, 가성 비  \n",
       "3      색감, 사이즈, 배송, 생각, 지퍼, 편하다, 디자인, 이쁘다, 적당하다, 무겁다  \n",
       "4   사이즈, 편하다, 배송, 아디다스, 적당하다, 이쁘다, 만족하다, 크다, 져지, 디자인  \n",
       "5       사이즈, 허리, 디 키즈, 재질, 바지, 크다, 만족하다, 업 하다, 기장, 핏  \n",
       "6       편하다, 여름, 기장, 바지, 배송, 사이즈, 핏, 시원하다, 이쁘다, 만족하다  \n",
       "7     사이즈, 아디다스, 편하다, 색감, 예쁘다, 만족하다, 이쁘다, 실물, 역시, 기장  \n",
       "8     기장, 바지, 사이즈, 색감, 만족하다, 적당하다, 브랜디 드, 핏, 이쁘다, 허리  \n",
       "9     시원하다, 길이, 사이즈, 편하다, 적당하다, 비치다, 원피스, 배송, 재질, 라인  \n",
       "10      사이즈, 허리, 적당하다, 길이, 치마, 편하다, 배송, 크다, 만족하다, 색상  \n",
       "11    편하다, 바지, 사이즈, 허리, 길이, 예쁘다, 만족하다, 엉덩이, 적당하다, 기장  "
      ]
     },
     "execution_count": 102,
     "metadata": {},
     "output_type": "execute_result"
    }
   ],
   "source": [
    "df"
   ]
  },
  {
   "cell_type": "code",
   "execution_count": null,
   "id": "0430f7eb-3381-4670-82c3-d14cc106dfb8",
   "metadata": {},
   "outputs": [],
   "source": []
  },
  {
   "cell_type": "code",
   "execution_count": null,
   "id": "2ec7d08f-c122-4510-bf54-fb4abdbe6fe1",
   "metadata": {},
   "outputs": [],
   "source": []
  }
 ],
 "metadata": {
  "kernelspec": {
   "display_name": "Python 3 (ipykernel)",
   "language": "python",
   "name": "python3"
  },
  "language_info": {
   "codemirror_mode": {
    "name": "ipython",
    "version": 3
   },
   "file_extension": ".py",
   "mimetype": "text/x-python",
   "name": "python",
   "nbconvert_exporter": "python",
   "pygments_lexer": "ipython3",
   "version": "3.12.3"
  }
 },
 "nbformat": 4,
 "nbformat_minor": 5
}
