{
 "cells": [
  {
   "cell_type": "markdown",
   "id": "62f7da21-0244-47ff-9c51-69b47ceb91d6",
   "metadata": {},
   "source": [
    "# 답안지 수정"
   ]
  },
  {
   "cell_type": "code",
   "execution_count": null,
   "id": "2e99619f-2a75-4670-b47a-0efc162f93f9",
   "metadata": {},
   "outputs": [],
   "source": [
    "import pandas as pd\n",
    "\n",
    "df = pd.read_csv('merged_reviews_with_answers1.csv')\n",
    "df"
   ]
  },
  {
   "cell_type": "code",
   "execution_count": 34,
   "id": "8ec4e532-6e0f-4ebf-b89a-e3d5b328a999",
   "metadata": {},
   "outputs": [
    {
     "name": "stdout",
     "output_type": "stream",
     "text": [
      "Index([], dtype='int64')\n"
     ]
    }
   ],
   "source": [
    "# '없다'라는 단어가 포함된 인덱스 출력\n",
    "indices_with_eopda = df[df['Answer'].apply(lambda x: any(word.strip() == '않다' for word in str(x).split(',')))].index\n",
    "\n",
    "print(indices_with_eopda)"
   ]
  },
  {
   "cell_type": "code",
   "execution_count": 65,
   "id": "cb2fb709-22c6-4cf1-af3f-f434a5ebc11d",
   "metadata": {},
   "outputs": [
    {
     "data": {
      "text/plain": [
       "181                             크다, 핏, 스타일, 디자인, 최애, 청바지\n",
       "182                                               핏, 편하다\n",
       "183                                  귀엽다, 싸다, 바지, 가격, 최고\n",
       "184                          허리, 타이트, 완벽하다, 최애, 바지, 만족하다\n",
       "185                          바지, 크다, 편하다, 허리, 벨트, 수선, 강추\n",
       "186                                              핏, 깔끔하다\n",
       "187                                                   실물\n",
       "188    기장, 길다, 매치, 어울리다, 널찍하다, 여름, 핏, 허리, 사이즈, 색감, 어둡...\n",
       "189                                    색감, 핏, 가격, 냄새, 인기\n",
       "190                                 체크, 셔츠, 재질, 시원하다, 여름\n",
       "191                                     재질, 배송, 빠르다, 합리적\n",
       "192                                               크게, xl\n",
       "193                       깔끔하다, 기본, 저지, 기장, 소매, 길이, 적당하다\n",
       "194                                                 만족하다\n",
       "195                                                   크다\n",
       "196                               재질, 부드럽다, 배송, 빠르다, 편하다\n",
       "197                               배송, 빠르다, 사이즈, 맞다, 만족하다\n",
       "198                                     로고, 아쉽다, 핏, 달라지다\n",
       "199                                   배송, 빠르다, 핏, 오버핏, 힙\n",
       "Name: Answer, dtype: object"
      ]
     },
     "execution_count": 65,
     "metadata": {},
     "output_type": "execute_result"
    }
   ],
   "source": [
    "df['Answer'][181:200]"
   ]
  },
  {
   "cell_type": "code",
   "execution_count": 21,
   "id": "f93d897a-3caf-4ab8-bbe1-00f372b71242",
   "metadata": {},
   "outputs": [
    {
     "data": {
      "text/plain": [
       "'오버핏, 티셔츠, 두께, 얇지 않다, 사이즈, 크다, 여성, s, 추천'"
      ]
     },
     "execution_count": 21,
     "metadata": {},
     "output_type": "execute_result"
    }
   ],
   "source": [
    "df['Answer'][122]"
   ]
  },
  {
   "cell_type": "code",
   "execution_count": 57,
   "id": "e0addf4f-004e-43ef-b0d1-1f610ebf7736",
   "metadata": {},
   "outputs": [],
   "source": [
    "df = df.drop(index=176) # NaN행 삭제 "
   ]
  },
  {
   "cell_type": "code",
   "execution_count": 59,
   "id": "e9f37af3-361e-482c-bb79-19ff7242e2dd",
   "metadata": {},
   "outputs": [],
   "source": [
    "df = df.reset_index(drop=True) # index 재배열 "
   ]
  },
  {
   "cell_type": "code",
   "execution_count": 66,
   "id": "6744c04c-ea3f-4d25-a860-d007df4e2ae7",
   "metadata": {},
   "outputs": [
    {
     "data": {
      "text/html": [
       "<div>\n",
       "<style scoped>\n",
       "    .dataframe tbody tr th:only-of-type {\n",
       "        vertical-align: middle;\n",
       "    }\n",
       "\n",
       "    .dataframe tbody tr th {\n",
       "        vertical-align: top;\n",
       "    }\n",
       "\n",
       "    .dataframe thead th {\n",
       "        text-align: right;\n",
       "    }\n",
       "</style>\n",
       "<table border=\"1\" class=\"dataframe\">\n",
       "  <thead>\n",
       "    <tr style=\"text-align: right;\">\n",
       "      <th></th>\n",
       "      <th>Review</th>\n",
       "      <th>keyword_1</th>\n",
       "      <th>keyword_2</th>\n",
       "      <th>keyword_3</th>\n",
       "      <th>keyword_4</th>\n",
       "      <th>common_keywords_all</th>\n",
       "      <th>common_keywords_3_plus</th>\n",
       "      <th>Answer</th>\n",
       "    </tr>\n",
       "  </thead>\n",
       "  <tbody>\n",
       "    <tr>\n",
       "      <th>0</th>\n",
       "      <td>예쁘고 질 좋아요 추천합니다! 무진장 세일때 잘 샀어요</td>\n",
       "      <td>[무진장, 추천, 세일, 질]</td>\n",
       "      <td>[무진장, 추천, 세일]</td>\n",
       "      <td>[추천, 무진장, 세일]</td>\n",
       "      <td>[무진장, 세일, 추천]</td>\n",
       "      <td>NaN</td>\n",
       "      <td>무진장,   추천,   세일</td>\n",
       "      <td>질, 추천, 세일</td>\n",
       "    </tr>\n",
       "    <tr>\n",
       "      <th>1</th>\n",
       "      <td>기본치마입니당 속옷색 주의하면 될거같아여요</td>\n",
       "      <td>[주의, 기본, 속옷, 색, 치마]</td>\n",
       "      <td>[치마, 주의, 요요, 기본, 속옷]</td>\n",
       "      <td>[주의, 치마, 요요, 속옷, 기본]</td>\n",
       "      <td>[요요, 주의, 속옷, 기본, 치마]</td>\n",
       "      <td>속옷</td>\n",
       "      <td>주의,   기본,   속옷,   치마,   요요</td>\n",
       "      <td>기본, 속옷, 주의</td>\n",
       "    </tr>\n",
       "    <tr>\n",
       "      <th>2</th>\n",
       "      <td>너무 하얀색아니고 적당한 크림색이라 좋습니다</td>\n",
       "      <td>[하얀색, 크림색]</td>\n",
       "      <td>[크림색, 적당하다, 아니다, 하얀색]</td>\n",
       "      <td>[크림, 색, 아니다, 적당하다, 하얀색]</td>\n",
       "      <td>[하얀색, 아니다, 적당하다, 크림]</td>\n",
       "      <td>NaN</td>\n",
       "      <td>하얀색,   적당하다,   아니다</td>\n",
       "      <td>적당하다, 크림색</td>\n",
       "    </tr>\n",
       "    <tr>\n",
       "      <th>3</th>\n",
       "      <td>매장에서 입어보고\\n무신사 스토어에서 바로 구매\\n배송받고 바로 입고\\n나갔어요\\n...</td>\n",
       "      <td>[물다, 입어보다, 스토어, 매장, 배송받다]</td>\n",
       "      <td>[매장, 입어보다, 스토어, 물다, 배송받다]</td>\n",
       "      <td>[배송, 받다, 입어보다, 매장, 스토어, 물다]</td>\n",
       "      <td>[스토어, 받다, 매장, 입어보다, 물다, 배송]</td>\n",
       "      <td>물다</td>\n",
       "      <td>물다,   입어보다,   스토어,   매장</td>\n",
       "      <td>배송</td>\n",
       "    </tr>\n",
       "    <tr>\n",
       "      <th>4</th>\n",
       "      <td>크지도 않고 작지도 않고 딱 맞네요. 구김이 두드러지는건 흰색이라 어쩔 수 없는 것...</td>\n",
       "      <td>[크다, 어울리다, 맞다, 두드러지다, 구김, 흰색, 작다]</td>\n",
       "      <td>[두드러지다, 어울리다, 크다, 흰색, 구김, 없다]</td>\n",
       "      <td>[흰색, 어울리다, 맞다, 구김, 에나, 두드러지다, 어쩔]</td>\n",
       "      <td>[두드러지다, 어쩔, 에나, 구김, 어울리다, 흰색, 없다, 크다, 맞다]</td>\n",
       "      <td>구김</td>\n",
       "      <td>어울리다,   두드러지다,   구김,   흰색,   크다,   맞다</td>\n",
       "      <td>맞다, 구김, 흰색, 어울리다</td>\n",
       "    </tr>\n",
       "    <tr>\n",
       "      <th>5</th>\n",
       "      <td>사이즈 맞고 핏도 예쁘고 잘샀어요..원단도 탄탄하고 좋아요.</td>\n",
       "      <td>[원단, 사이즈, 탄탄하다, 핏]</td>\n",
       "      <td>[탄탄하다, 원단, 사이즈, 핏, 맞다]</td>\n",
       "      <td>[맞다, 핏, 원단, 사이즈, 탄탄하다]</td>\n",
       "      <td>[원단, 탄탄하다, 맞다, 사이즈]</td>\n",
       "      <td>사이즈</td>\n",
       "      <td>원단,   사이즈,   탄탄하다,   핏,   맞다</td>\n",
       "      <td>사이즈, 맞다, 핏, 원단, 탄탄하다</td>\n",
       "    </tr>\n",
       "    <tr>\n",
       "      <th>6</th>\n",
       "      <td>음...저는 약간 살짝 끼어요.\\n몸이 불편하진 않은데 보기에는 조금 불편할 수 있...</td>\n",
       "      <td>[끼]</td>\n",
       "      <td>[만족하다, 신축, 보기, 불편하다, 음서, 사이즈, 색감, 몸]</td>\n",
       "      <td>[색감, 만족하다, 사이즈, 편하다, 보기, 에는, 불편하다]</td>\n",
       "      <td>[불편하다, 음서, 보기, 끼다, 그렇다, 크게, 에는, 신축, 색감, 만족하다]</td>\n",
       "      <td>보기</td>\n",
       "      <td>만족하다,   보기,   불편하다,   색감</td>\n",
       "      <td>끼다, 사이즈, 색감, 신축성, 편하다, 만족하다</td>\n",
       "    </tr>\n",
       "    <tr>\n",
       "      <th>7</th>\n",
       "      <td>s사이즈는 허리가 작아서 m샀는데 좀 크네용.\\n여름엔 좀 춥고 봄,가을이 젤 좋을...</td>\n",
       "      <td>[m, 춥다, 크다, 허리, 봄, s사이즈, 작다, 여름, 가을]</td>\n",
       "      <td>[여름, 사이즈, 작다, 허리, 크다, 추다]</td>\n",
       "      <td>[추다, 여름, 작다, 크다, s, 사이즈, 허리]</td>\n",
       "      <td>[추다, 작다, 여름, 크다, 허리, 사이즈]</td>\n",
       "      <td>크다,  허리,  사이즈</td>\n",
       "      <td>크다,   허리,   작다,   여름,   사이즈,   추다</td>\n",
       "      <td>사이즈, 허리, 봄, 가을</td>\n",
       "    </tr>\n",
       "    <tr>\n",
       "      <th>8</th>\n",
       "      <td>77반 88에게 타이트하게 맞아요ㅋㅋ 이쁘고 핏하고 시원하지만 계속 숨참고 있어야 ...</td>\n",
       "      <td>[계속, 한다는, 시원하다, 맞다, 핏, 타이트, 단점, 키, 숨, 참고]</td>\n",
       "      <td>[키, 단점, 시원하다, 참고, 타이트]</td>\n",
       "      <td>[시원하다, 타이트, 맞다, 단점]</td>\n",
       "      <td>[한다는, 계속, 단점, 참고, 타이트, 하고, 맞다, 시원하다]</td>\n",
       "      <td>NaN</td>\n",
       "      <td>시원하다,   타이트,   단점,   맞다,   참고</td>\n",
       "      <td>타이트, 핏하다, 시원하다, 키</td>\n",
       "    </tr>\n",
       "    <tr>\n",
       "      <th>9</th>\n",
       "      <td>예뻐요 생각했던 핏입니다 이런 스타일 옷 찾고 있었는데 좋아요</td>\n",
       "      <td>[스타일, 찾다, 이렇다, 핏]</td>\n",
       "      <td>[스타일, 이렇다, 핏입니, 찾다]</td>\n",
       "      <td>[핏입니, 스타일, 이렇다, 찾다]</td>\n",
       "      <td>[핏입니, 이렇다, 찾다, 스타일]</td>\n",
       "      <td>NaN</td>\n",
       "      <td>스타일,   찾다,   이렇다,   핏입니</td>\n",
       "      <td>핏, 스타일</td>\n",
       "    </tr>\n",
       "    <tr>\n",
       "      <th>10</th>\n",
       "      <td>길이가 다른 원피스들에 비해 긴 편이에요. 엄마가 좋아하는 길이ㅋㅋ 그래도 허리 라...</td>\n",
       "      <td>[허리, 엄마, 원피스, 라인, 길이]</td>\n",
       "      <td>[원피스, 길이, 편이, 허리, 길이, 라인, 엄마, 비다]</td>\n",
       "      <td>[엄마, 편이, 잡히다, 원피스, 비다, 좋아하다, 허리, 라인]</td>\n",
       "      <td>[엄마, 비다, 길이, 좋아하다, 잡히다, 편이, 원피스, 라인, 허리]</td>\n",
       "      <td>NaN</td>\n",
       "      <td>허리,   엄마,   원피스,   라인,   길이,   편이,   비다</td>\n",
       "      <td>길이, 허리, 라인</td>\n",
       "    </tr>\n",
       "    <tr>\n",
       "      <th>11</th>\n",
       "      <td>여름 내 잘 입었어요 딱 맞게 입고싶어 xs할까 고민하다가 s구입한건데 어깨가 딱 ...</td>\n",
       "      <td>[고민, s, 맞다, 내, 어깨, 여름, xs]</td>\n",
       "      <td>[고민, 어깨, 싶다, 맞다, 맞다]</td>\n",
       "      <td>[맞다, 고민, 어깨, 건데]</td>\n",
       "      <td>[맞다, 건데, 어깨, xs, 고민, 여름]</td>\n",
       "      <td>NaN</td>\n",
       "      <td>맞다,   고민,   어깨</td>\n",
       "      <td>여름, 맞다, xs, s, 어깨</td>\n",
       "    </tr>\n",
       "    <tr>\n",
       "      <th>12</th>\n",
       "      <td>편하고 좋아여 흰색도 살 예정이에여 라인도 잡아쥼!!</td>\n",
       "      <td>[잡아쥼, 살, 편하다, 흰색, 예정, 라인]</td>\n",
       "      <td>[편하다, 잡아쥼, 흰색, 라인, 예정]</td>\n",
       "      <td>[라인, 예정, 편하다, 잡아쥼, 흰색]</td>\n",
       "      <td>[잡아쥼, 흰색, 예정, 이에요, 라인, 편하다]</td>\n",
       "      <td>NaN</td>\n",
       "      <td>잡아쥼,   편하다,   흰색,   예정,   라인</td>\n",
       "      <td>편하다, 라인</td>\n",
       "    </tr>\n",
       "    <tr>\n",
       "      <th>13</th>\n",
       "      <td>pk원피스는 처음인데 진짜 맘에들어요. 근데 좀 짧긴해요. 아랫배 부각도 있긴있어요...</td>\n",
       "      <td>[도전쇼, 짧다, 처음, 원피스, 스트레이트, 체형라면, 부각, 아랫배]</td>\n",
       "      <td>[도전쇼, 체형라면, 스트레이트, 원피스, 처음, 부각]</td>\n",
       "      <td>[체형, 라면, 도전, 쇼, 부각]</td>\n",
       "      <td>[스트레이트, 아랫, 도전, 부각, 라면, pk, 체형, 처음, 근데, 인데]</td>\n",
       "      <td>NaN</td>\n",
       "      <td>부각,   처음,   스트레이트</td>\n",
       "      <td>원피스, 짧다, 아랫배, 부각, 스트레이트, 체형</td>\n",
       "    </tr>\n",
       "    <tr>\n",
       "      <th>14</th>\n",
       "      <td>얇아서 여름에 입기 시원 할 듯.. 허리가 잘록하게 들어 가 있어서 핏되는 게 예쁩니다</td>\n",
       "      <td>[잘록하다, 시원하다, 허리, 들어가다, 여름, 얇다, 핏되]</td>\n",
       "      <td>[잘록하다, 시원하다, 허리, 들어가다, 여름, 얇다, 핏되]</td>\n",
       "      <td>[잘록하다, 여름, 얇다, 핏되, 들어가다, 시원하다, 허리]</td>\n",
       "      <td>[잘록하다, 핏되, 들어가다, 여름, 허리, 시원하다, 얇다]</td>\n",
       "      <td>NaN</td>\n",
       "      <td>잘록하다,   시원하다,   허리,   들어가다,   여름,   얇다,   핏되</td>\n",
       "      <td>얇다, 여름, 시원하다, 허리, 핏되다</td>\n",
       "    </tr>\n",
       "    <tr>\n",
       "      <th>15</th>\n",
       "      <td>편하게 휘뚜루마뚜루 입고 다닐 수 있어 좋습니다 진짜 얇아서 시원해요</td>\n",
       "      <td>[편하다, 휘뚜루마뚜루, 얇다, 시원]</td>\n",
       "      <td>[시원하다, 편하다, 얇다]</td>\n",
       "      <td>[얇다, 시원하다, 편하다, 휘뚜루마뚜루]</td>\n",
       "      <td>[휘뚜루마뚜루, 편하다, 시원하다, 얇다]</td>\n",
       "      <td>NaN</td>\n",
       "      <td>편하다,   얇다,   휘뚜루마뚜루,   시원하다</td>\n",
       "      <td>편하다, 얇다, 시원하다</td>\n",
       "    </tr>\n",
       "    <tr>\n",
       "      <th>16</th>\n",
       "      <td>162/52 하비인데 S사이즈 딱 좋아요. 핏 예뻐서 손이 자주 가요. 다만 얇아서...</td>\n",
       "      <td>[비침, 핏, s사이즈, 가요, 속치마, 하비, 얇다, 손]</td>\n",
       "      <td>[줍다, 사이즈, 치마, 비치다, 하비, 손, 가요]</td>\n",
       "      <td>[줍다, 얇다, 하비, 비치다, 손, 가요]</td>\n",
       "      <td>[줍다, 하비, 가요, 인데, 치마, 비치다, 사이즈, 얇다]</td>\n",
       "      <td>NaN</td>\n",
       "      <td>가요,   하비,   얇다,   손,   줍다,   비치다</td>\n",
       "      <td>하비, 사이즈, 핏, 얇다, 비치다, 속치마</td>\n",
       "    </tr>\n",
       "    <tr>\n",
       "      <th>17</th>\n",
       "      <td>사이즈도 좋구요\\n재질이 부드럽네요\\n무게도 너무 가볍</td>\n",
       "      <td>[부드럽다, 사이즈, 재질, 가볍다, 무게]</td>\n",
       "      <td>[가법, 사이즈, 부드럽다, 재질, 무게]</td>\n",
       "      <td>[부드럽다, 무게, 사이즈, 재질, 가법]</td>\n",
       "      <td>[가법, 무게, 부드럽다, 재질, 사이즈]</td>\n",
       "      <td>사이즈</td>\n",
       "      <td>부드럽다,   사이즈,   재질,   무게,   가법</td>\n",
       "      <td>사이즈, 재질, 부드럽다, 무게, 가볍다</td>\n",
       "    </tr>\n",
       "    <tr>\n",
       "      <th>18</th>\n",
       "      <td>너무 맘에 들어요! 배송도 빠르고 시원한 재질이에요</td>\n",
       "      <td>[]</td>\n",
       "      <td>[재질, 배송, 시원하다, 빠르다]</td>\n",
       "      <td>[재질, 배송, 시원하다, 빠르다]</td>\n",
       "      <td>[이에요, 빠르다, 재질, 배송, 시원하다]</td>\n",
       "      <td>NaN</td>\n",
       "      <td>재질,   배송,   시원하다,   빠르다</td>\n",
       "      <td>배송, 빠르다, 시원하다, 재질</td>\n",
       "    </tr>\n",
       "    <tr>\n",
       "      <th>19</th>\n",
       "      <td>어느날 갑자기 신랑이 무신사에 대한 사랑이 생겨서 저도 한번 볼까나 하고 어플도 깔...</td>\n",
       "      <td>[알림, 시원, 살, 물다, 집, 신랑, 근처, 바느질, 스타일, 앱]</td>\n",
       "      <td>[신청, 생기다, 신랑, 사랑, 시원하다, 사, 이렇다, 바느질, 갑자기, 근처]</td>\n",
       "      <td>[신세계, 스타일, 보기, 갑자기, 가다, 바느질]</td>\n",
       "      <td>[바느질, 생기다, 근처, 신청, 신세계, 꼼꼼, 대한, 알림, 보기, 갑자기]</td>\n",
       "      <td>NaN</td>\n",
       "      <td>바느질,   갑자기,   근처</td>\n",
       "      <td>시원하다, 바느질, 꼼꼼하다, 스타일</td>\n",
       "    </tr>\n",
       "  </tbody>\n",
       "</table>\n",
       "</div>"
      ],
      "text/plain": [
       "                                               Review  \\\n",
       "0                      예쁘고 질 좋아요 추천합니다! 무진장 세일때 잘 샀어요   \n",
       "1                             기본치마입니당 속옷색 주의하면 될거같아여요   \n",
       "2                            너무 하얀색아니고 적당한 크림색이라 좋습니다   \n",
       "3   매장에서 입어보고\\n무신사 스토어에서 바로 구매\\n배송받고 바로 입고\\n나갔어요\\n...   \n",
       "4   크지도 않고 작지도 않고 딱 맞네요. 구김이 두드러지는건 흰색이라 어쩔 수 없는 것...   \n",
       "5                   사이즈 맞고 핏도 예쁘고 잘샀어요..원단도 탄탄하고 좋아요.   \n",
       "6   음...저는 약간 살짝 끼어요.\\n몸이 불편하진 않은데 보기에는 조금 불편할 수 있...   \n",
       "7   s사이즈는 허리가 작아서 m샀는데 좀 크네용.\\n여름엔 좀 춥고 봄,가을이 젤 좋을...   \n",
       "8   77반 88에게 타이트하게 맞아요ㅋㅋ 이쁘고 핏하고 시원하지만 계속 숨참고 있어야 ...   \n",
       "9                  예뻐요 생각했던 핏입니다 이런 스타일 옷 찾고 있었는데 좋아요   \n",
       "10  길이가 다른 원피스들에 비해 긴 편이에요. 엄마가 좋아하는 길이ㅋㅋ 그래도 허리 라...   \n",
       "11  여름 내 잘 입었어요 딱 맞게 입고싶어 xs할까 고민하다가 s구입한건데 어깨가 딱 ...   \n",
       "12                      편하고 좋아여 흰색도 살 예정이에여 라인도 잡아쥼!!   \n",
       "13  pk원피스는 처음인데 진짜 맘에들어요. 근데 좀 짧긴해요. 아랫배 부각도 있긴있어요...   \n",
       "14   얇아서 여름에 입기 시원 할 듯.. 허리가 잘록하게 들어 가 있어서 핏되는 게 예쁩니다   \n",
       "15             편하게 휘뚜루마뚜루 입고 다닐 수 있어 좋습니다 진짜 얇아서 시원해요   \n",
       "16  162/52 하비인데 S사이즈 딱 좋아요. 핏 예뻐서 손이 자주 가요. 다만 얇아서...   \n",
       "17                     사이즈도 좋구요\\n재질이 부드럽네요\\n무게도 너무 가볍   \n",
       "18                       너무 맘에 들어요! 배송도 빠르고 시원한 재질이에요   \n",
       "19  어느날 갑자기 신랑이 무신사에 대한 사랑이 생겨서 저도 한번 볼까나 하고 어플도 깔...   \n",
       "\n",
       "                                    keyword_1  \\\n",
       "0                            [무진장, 추천, 세일, 질]   \n",
       "1                         [주의, 기본, 속옷, 색, 치마]   \n",
       "2                                  [하얀색, 크림색]   \n",
       "3                   [물다, 입어보다, 스토어, 매장, 배송받다]   \n",
       "4           [크다, 어울리다, 맞다, 두드러지다, 구김, 흰색, 작다]   \n",
       "5                          [원단, 사이즈, 탄탄하다, 핏]   \n",
       "6                                         [끼]   \n",
       "7        [m, 춥다, 크다, 허리, 봄, s사이즈, 작다, 여름, 가을]   \n",
       "8   [계속, 한다는, 시원하다, 맞다, 핏, 타이트, 단점, 키, 숨, 참고]   \n",
       "9                           [스타일, 찾다, 이렇다, 핏]   \n",
       "10                      [허리, 엄마, 원피스, 라인, 길이]   \n",
       "11                 [고민, s, 맞다, 내, 어깨, 여름, xs]   \n",
       "12                  [잡아쥼, 살, 편하다, 흰색, 예정, 라인]   \n",
       "13   [도전쇼, 짧다, 처음, 원피스, 스트레이트, 체형라면, 부각, 아랫배]   \n",
       "14         [잘록하다, 시원하다, 허리, 들어가다, 여름, 얇다, 핏되]   \n",
       "15                      [편하다, 휘뚜루마뚜루, 얇다, 시원]   \n",
       "16          [비침, 핏, s사이즈, 가요, 속치마, 하비, 얇다, 손]   \n",
       "17                   [부드럽다, 사이즈, 재질, 가볍다, 무게]   \n",
       "18                                         []   \n",
       "19    [알림, 시원, 살, 물다, 집, 신랑, 근처, 바느질, 스타일, 앱]   \n",
       "\n",
       "                                        keyword_2  \\\n",
       "0                                   [무진장, 추천, 세일]   \n",
       "1                            [치마, 주의, 요요, 기본, 속옷]   \n",
       "2                           [크림색, 적당하다, 아니다, 하얀색]   \n",
       "3                       [매장, 입어보다, 스토어, 물다, 배송받다]   \n",
       "4                   [두드러지다, 어울리다, 크다, 흰색, 구김, 없다]   \n",
       "5                          [탄탄하다, 원단, 사이즈, 핏, 맞다]   \n",
       "6            [만족하다, 신축, 보기, 불편하다, 음서, 사이즈, 색감, 몸]   \n",
       "7                       [여름, 사이즈, 작다, 허리, 크다, 추다]   \n",
       "8                          [키, 단점, 시원하다, 참고, 타이트]   \n",
       "9                             [스타일, 이렇다, 핏입니, 찾다]   \n",
       "10              [원피스, 길이, 편이, 허리, 길이, 라인, 엄마, 비다]   \n",
       "11                           [고민, 어깨, 싶다, 맞다, 맞다]   \n",
       "12                         [편하다, 잡아쥼, 흰색, 라인, 예정]   \n",
       "13                [도전쇼, 체형라면, 스트레이트, 원피스, 처음, 부각]   \n",
       "14             [잘록하다, 시원하다, 허리, 들어가다, 여름, 얇다, 핏되]   \n",
       "15                                [시원하다, 편하다, 얇다]   \n",
       "16                  [줍다, 사이즈, 치마, 비치다, 하비, 손, 가요]   \n",
       "17                        [가법, 사이즈, 부드럽다, 재질, 무게]   \n",
       "18                            [재질, 배송, 시원하다, 빠르다]   \n",
       "19  [신청, 생기다, 신랑, 사랑, 시원하다, 사, 이렇다, 바느질, 갑자기, 근처]   \n",
       "\n",
       "                               keyword_3  \\\n",
       "0                          [추천, 무진장, 세일]   \n",
       "1                   [주의, 치마, 요요, 속옷, 기본]   \n",
       "2                [크림, 색, 아니다, 적당하다, 하얀색]   \n",
       "3            [배송, 받다, 입어보다, 매장, 스토어, 물다]   \n",
       "4      [흰색, 어울리다, 맞다, 구김, 에나, 두드러지다, 어쩔]   \n",
       "5                 [맞다, 핏, 원단, 사이즈, 탄탄하다]   \n",
       "6     [색감, 만족하다, 사이즈, 편하다, 보기, 에는, 불편하다]   \n",
       "7           [추다, 여름, 작다, 크다, s, 사이즈, 허리]   \n",
       "8                    [시원하다, 타이트, 맞다, 단점]   \n",
       "9                    [핏입니, 스타일, 이렇다, 찾다]   \n",
       "10  [엄마, 편이, 잡히다, 원피스, 비다, 좋아하다, 허리, 라인]   \n",
       "11                      [맞다, 고민, 어깨, 건데]   \n",
       "12                [라인, 예정, 편하다, 잡아쥼, 흰색]   \n",
       "13                   [체형, 라면, 도전, 쇼, 부각]   \n",
       "14    [잘록하다, 여름, 얇다, 핏되, 들어가다, 시원하다, 허리]   \n",
       "15               [얇다, 시원하다, 편하다, 휘뚜루마뚜루]   \n",
       "16              [줍다, 얇다, 하비, 비치다, 손, 가요]   \n",
       "17               [부드럽다, 무게, 사이즈, 재질, 가법]   \n",
       "18                   [재질, 배송, 시원하다, 빠르다]   \n",
       "19          [신세계, 스타일, 보기, 갑자기, 가다, 바느질]   \n",
       "\n",
       "                                        keyword_4 common_keywords_all  \\\n",
       "0                                   [무진장, 세일, 추천]                 NaN   \n",
       "1                            [요요, 주의, 속옷, 기본, 치마]                  속옷   \n",
       "2                            [하얀색, 아니다, 적당하다, 크림]                 NaN   \n",
       "3                     [스토어, 받다, 매장, 입어보다, 물다, 배송]                  물다   \n",
       "4       [두드러지다, 어쩔, 에나, 구김, 어울리다, 흰색, 없다, 크다, 맞다]                  구김   \n",
       "5                             [원단, 탄탄하다, 맞다, 사이즈]                 사이즈   \n",
       "6   [불편하다, 음서, 보기, 끼다, 그렇다, 크게, 에는, 신축, 색감, 만족하다]                  보기   \n",
       "7                       [추다, 작다, 여름, 크다, 허리, 사이즈]       크다,  허리,  사이즈   \n",
       "8            [한다는, 계속, 단점, 참고, 타이트, 하고, 맞다, 시원하다]                 NaN   \n",
       "9                             [핏입니, 이렇다, 찾다, 스타일]                 NaN   \n",
       "10       [엄마, 비다, 길이, 좋아하다, 잡히다, 편이, 원피스, 라인, 허리]                 NaN   \n",
       "11                       [맞다, 건데, 어깨, xs, 고민, 여름]                 NaN   \n",
       "12                    [잡아쥼, 흰색, 예정, 이에요, 라인, 편하다]                 NaN   \n",
       "13    [스트레이트, 아랫, 도전, 부각, 라면, pk, 체형, 처음, 근데, 인데]                 NaN   \n",
       "14             [잘록하다, 핏되, 들어가다, 여름, 허리, 시원하다, 얇다]                 NaN   \n",
       "15                        [휘뚜루마뚜루, 편하다, 시원하다, 얇다]                 NaN   \n",
       "16             [줍다, 하비, 가요, 인데, 치마, 비치다, 사이즈, 얇다]                 NaN   \n",
       "17                        [가법, 무게, 부드럽다, 재질, 사이즈]                 사이즈   \n",
       "18                       [이에요, 빠르다, 재질, 배송, 시원하다]                 NaN   \n",
       "19   [바느질, 생기다, 근처, 신청, 신세계, 꼼꼼, 대한, 알림, 보기, 갑자기]                 NaN   \n",
       "\n",
       "                          common_keywords_3_plus                       Answer  \n",
       "0                                무진장,   추천,   세일                    질, 추천, 세일  \n",
       "1                     주의,   기본,   속옷,   치마,   요요                   기본, 속옷, 주의  \n",
       "2                             하얀색,   적당하다,   아니다                    적당하다, 크림색  \n",
       "3                        물다,   입어보다,   스토어,   매장                           배송  \n",
       "4          어울리다,   두드러지다,   구김,   흰색,   크다,   맞다             맞다, 구김, 흰색, 어울리다  \n",
       "5                   원단,   사이즈,   탄탄하다,   핏,   맞다         사이즈, 맞다, 핏, 원단, 탄탄하다  \n",
       "6                       만족하다,   보기,   불편하다,   색감  끼다, 사이즈, 색감, 신축성, 편하다, 만족하다  \n",
       "7              크다,   허리,   작다,   여름,   사이즈,   추다               사이즈, 허리, 봄, 가을  \n",
       "8                  시원하다,   타이트,   단점,   맞다,   참고            타이트, 핏하다, 시원하다, 키  \n",
       "9                        스타일,   찾다,   이렇다,   핏입니                       핏, 스타일  \n",
       "10       허리,   엄마,   원피스,   라인,   길이,   편이,   비다                   길이, 허리, 라인  \n",
       "11                                맞다,   고민,   어깨            여름, 맞다, xs, s, 어깨  \n",
       "12                  잡아쥼,   편하다,   흰색,   예정,   라인                      편하다, 라인  \n",
       "13                             부각,   처음,   스트레이트  원피스, 짧다, 아랫배, 부각, 스트레이트, 체형  \n",
       "14  잘록하다,   시원하다,   허리,   들어가다,   여름,   얇다,   핏되        얇다, 여름, 시원하다, 허리, 핏되다  \n",
       "15                   편하다,   얇다,   휘뚜루마뚜루,   시원하다                편하다, 얇다, 시원하다  \n",
       "16              가요,   하비,   얇다,   손,   줍다,   비치다     하비, 사이즈, 핏, 얇다, 비치다, 속치마  \n",
       "17                 부드럽다,   사이즈,   재질,   무게,   가법       사이즈, 재질, 부드럽다, 무게, 가볍다  \n",
       "18                       재질,   배송,   시원하다,   빠르다            배송, 빠르다, 시원하다, 재질  \n",
       "19                              바느질,   갑자기,   근처         시원하다, 바느질, 꼼꼼하다, 스타일  "
      ]
     },
     "execution_count": 66,
     "metadata": {},
     "output_type": "execute_result"
    }
   ],
   "source": [
    "df[0:20]"
   ]
  },
  {
   "cell_type": "code",
   "execution_count": 47,
   "id": "d859bcb1-07b8-4100-8532-efe90b2ccd77",
   "metadata": {
    "scrolled": true
   },
   "outputs": [
    {
     "data": {
      "text/plain": [
       "'너무 쿨링하고 시원하진않아요 ㅋㅋ 다른 그냥 보세 중국산비교했을때 그게 더 시원함 '"
      ]
     },
     "execution_count": 47,
     "metadata": {},
     "output_type": "execute_result"
    }
   ],
   "source": [
    "df['Review'][159]"
   ]
  },
  {
   "cell_type": "code",
   "execution_count": 61,
   "id": "4b26111a-a3ce-4887-98a3-253ea7432ccf",
   "metadata": {
    "scrolled": true
   },
   "outputs": [
    {
     "name": "stderr",
     "output_type": "stream",
     "text": [
      "C:\\Users\\HWAN\\AppData\\Local\\Temp\\ipykernel_7388\\531786166.py:2: FutureWarning: ChainedAssignmentError: behaviour will change in pandas 3.0!\n",
      "You are setting values through chained assignment. Currently this works in certain cases, but when using Copy-on-Write (which will become the default behaviour in pandas 3.0) this will never work to update the original DataFrame or Series, because the intermediate object on which we are setting values will behave as a copy.\n",
      "A typical example is when you are setting values in a column of a DataFrame, like:\n",
      "\n",
      "df[\"col\"][row_indexer] = value\n",
      "\n",
      "Use `df.loc[row_indexer, \"col\"] = values` instead, to perform the assignment in a single step and ensure this keeps updating the original `df`.\n",
      "\n",
      "See the caveats in the documentation: https://pandas.pydata.org/pandas-docs/stable/user_guide/indexing.html#returning-a-view-versus-a-copy\n",
      "\n",
      "  df['Answer'][176] = ', '.join([word for word in df['Answer'][176].split(',') if word.strip() != '비침이 없다'])\n"
     ]
    },
    {
     "data": {
      "text/plain": [
       "'니트,  단품'"
      ]
     },
     "execution_count": 61,
     "metadata": {},
     "output_type": "execute_result"
    }
   ],
   "source": [
    "# 39번째 행의 '않다'라는 단어를 제거\n",
    "df['Answer'][177] = ', '.join([word for word in df['Answer'][177].split(',') if word.strip() != ''])\n",
    "df['Answer'][177]"
   ]
  },
  {
   "cell_type": "code",
   "execution_count": 63,
   "id": "f4da6f97-2da4-41d6-90c0-2ee5b7799f23",
   "metadata": {},
   "outputs": [
    {
     "name": "stderr",
     "output_type": "stream",
     "text": [
      "C:\\Users\\HWAN\\AppData\\Local\\Temp\\ipykernel_7388\\1038231279.py:3: FutureWarning: ChainedAssignmentError: behaviour will change in pandas 3.0!\n",
      "You are setting values through chained assignment. Currently this works in certain cases, but when using Copy-on-Write (which will become the default behaviour in pandas 3.0) this will never work to update the original DataFrame or Series, because the intermediate object on which we are setting values will behave as a copy.\n",
      "A typical example is when you are setting values in a column of a DataFrame, like:\n",
      "\n",
      "df[\"col\"][row_indexer] = value\n",
      "\n",
      "Use `df.loc[row_indexer, \"col\"] = values` instead, to perform the assignment in a single step and ensure this keeps updating the original `df`.\n",
      "\n",
      "See the caveats in the documentation: https://pandas.pydata.org/pandas-docs/stable/user_guide/indexing.html#returning-a-view-versus-a-copy\n",
      "\n",
      "  df['Answer'][177] = df['Answer'][177] + ', ' + new_word if pd.notnull(df['Answer'][177]) else new_word\n"
     ]
    },
    {
     "data": {
      "text/plain": [
       "'스타일, 그냥'"
      ]
     },
     "execution_count": 63,
     "metadata": {},
     "output_type": "execute_result"
    }
   ],
   "source": [
    "# 39번째 행에 새로운 단어 추가\n",
    "new_word = '그냥'\n",
    "df['Answer'][177] = df['Answer'][177] + ', ' + new_word if pd.notnull(df['Answer'][177]) else new_word\n",
    "df['Answer'][177]"
   ]
  },
  {
   "cell_type": "code",
   "execution_count": 51,
   "id": "7409a026-4032-4a7e-9f9c-d5509da37e05",
   "metadata": {
    "scrolled": true
   },
   "outputs": [
    {
     "name": "stderr",
     "output_type": "stream",
     "text": [
      "C:\\Users\\HWAN\\AppData\\Local\\Temp\\ipykernel_7388\\2687999880.py:1: FutureWarning: ChainedAssignmentError: behaviour will change in pandas 3.0!\n",
      "You are setting values through chained assignment. Currently this works in certain cases, but when using Copy-on-Write (which will become the default behaviour in pandas 3.0) this will never work to update the original DataFrame or Series, because the intermediate object on which we are setting values will behave as a copy.\n",
      "A typical example is when you are setting values in a column of a DataFrame, like:\n",
      "\n",
      "df[\"col\"][row_indexer] = value\n",
      "\n",
      "Use `df.loc[row_indexer, \"col\"] = values` instead, to perform the assignment in a single step and ensure this keeps updating the original `df`.\n",
      "\n",
      "See the caveats in the documentation: https://pandas.pydata.org/pandas-docs/stable/user_guide/indexing.html#returning-a-view-versus-a-copy\n",
      "\n",
      "  df['Answer'][159] = df['Answer'][159].strip(', ').strip()\n"
     ]
    },
    {
     "data": {
      "text/plain": [
       "'시원하다'"
      ]
     },
     "execution_count": 51,
     "metadata": {},
     "output_type": "execute_result"
    }
   ],
   "source": [
    "# 공백, 콤마 삭제\n",
    "df['Answer'][159] = df['Answer'][159].strip(', ').strip()\n",
    "df['Answer'][159]"
   ]
  }
 ],
 "metadata": {
  "kernelspec": {
   "display_name": "Python 3 (ipykernel)",
   "language": "python",
   "name": "python3"
  },
  "language_info": {
   "codemirror_mode": {
    "name": "ipython",
    "version": 3
   },
   "file_extension": ".py",
   "mimetype": "text/x-python",
   "name": "python",
   "nbconvert_exporter": "python",
   "pygments_lexer": "ipython3",
   "version": "3.12.3"
  }
 },
 "nbformat": 4,
 "nbformat_minor": 5
}
